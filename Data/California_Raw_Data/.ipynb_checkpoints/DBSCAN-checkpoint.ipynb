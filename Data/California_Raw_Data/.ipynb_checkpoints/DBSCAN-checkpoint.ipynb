{
 "cells": [
  {
   "cell_type": "code",
   "execution_count": 1,
   "metadata": {
    "colab": {},
    "colab_type": "code",
    "id": "FYq69gzsbN5i"
   },
   "outputs": [],
   "source": [
    "import pandas as pd\n",
    "import numpy as np\n",
    "from sklearn.feature_extraction.text import TfidfVectorizer\n",
    "from sklearn import svm\n",
    "from sklearn.cluster import DBSCAN\n",
    "from sklearn import preprocessing"
   ]
  },
  {
   "cell_type": "code",
   "execution_count": 2,
   "metadata": {
    "colab": {},
    "colab_type": "code",
    "id": "qe8B0owebmsE"
   },
   "outputs": [],
   "source": [
    "import matplotlib.pyplot as plt\n",
    "\n",
    "%matplotlib inline"
   ]
  },
  {
   "cell_type": "code",
   "execution_count": 3,
   "metadata": {
    "colab": {},
    "colab_type": "code",
    "id": "MVLgr7VXbuf7"
   },
   "outputs": [],
   "source": [
    "df = pd.read_csv(\"Chrysler823 Reviews of Huntington Beach Chrysler Dodge Jeep RAM.csv\")"
   ]
  },
  {
   "cell_type": "code",
   "execution_count": 4,
   "metadata": {
    "colab": {
     "base_uri": "https://localhost:8080/",
     "height": 419
    },
    "colab_type": "code",
    "id": "i022S8fpcB4Y",
    "outputId": "f31c3a69-aef8-4ba8-b870-9658936ee2fe"
   },
   "outputs": [
    {
     "data": {
      "text/html": [
       "<div>\n",
       "<style scoped>\n",
       "    .dataframe tbody tr th:only-of-type {\n",
       "        vertical-align: middle;\n",
       "    }\n",
       "\n",
       "    .dataframe tbody tr th {\n",
       "        vertical-align: top;\n",
       "    }\n",
       "\n",
       "    .dataframe thead th {\n",
       "        text-align: right;\n",
       "    }\n",
       "</style>\n",
       "<table border=\"1\" class=\"dataframe\">\n",
       "  <thead>\n",
       "    <tr style=\"text-align: right;\">\n",
       "      <th></th>\n",
       "      <th>Unnamed: 0</th>\n",
       "      <th>Date</th>\n",
       "      <th>Reviews</th>\n",
       "      <th>Ratings</th>\n",
       "    </tr>\n",
       "  </thead>\n",
       "  <tbody>\n",
       "    <tr>\n",
       "      <th>0</th>\n",
       "      <td>0</td>\n",
       "      <td>12-May-20</td>\n",
       "      <td>Worst customer service and very rude. Don’t co...</td>\n",
       "      <td>1.0</td>\n",
       "    </tr>\n",
       "    <tr>\n",
       "      <th>1</th>\n",
       "      <td>1</td>\n",
       "      <td>11-May-20</td>\n",
       "      <td>STAY AWAY!!! I wish I had read these reviews b...</td>\n",
       "      <td>1.0</td>\n",
       "    </tr>\n",
       "    <tr>\n",
       "      <th>2</th>\n",
       "      <td>2</td>\n",
       "      <td>08-May-20</td>\n",
       "      <td>Not willing to work with you and have products...</td>\n",
       "      <td>1.0</td>\n",
       "    </tr>\n",
       "    <tr>\n",
       "      <th>3</th>\n",
       "      <td>4</td>\n",
       "      <td>05-May-20</td>\n",
       "      <td>We were attracted to this dealer from the pric...</td>\n",
       "      <td>1.0</td>\n",
       "    </tr>\n",
       "    <tr>\n",
       "      <th>4</th>\n",
       "      <td>6</td>\n",
       "      <td>30-Apr-20</td>\n",
       "      <td>Garbage of a dealership. Falsely advertises th...</td>\n",
       "      <td>1.0</td>\n",
       "    </tr>\n",
       "    <tr>\n",
       "      <th>...</th>\n",
       "      <td>...</td>\n",
       "      <td>...</td>\n",
       "      <td>...</td>\n",
       "      <td>...</td>\n",
       "    </tr>\n",
       "    <tr>\n",
       "      <th>818</th>\n",
       "      <td>814</td>\n",
       "      <td>11-Jan-12</td>\n",
       "      <td>Richard and Jim were awesome! They were super ...</td>\n",
       "      <td>5.0</td>\n",
       "    </tr>\n",
       "    <tr>\n",
       "      <th>819</th>\n",
       "      <td>815</td>\n",
       "      <td>09-Jan-12</td>\n",
       "      <td>Great service, Chris responded with honest and...</td>\n",
       "      <td>5.0</td>\n",
       "    </tr>\n",
       "    <tr>\n",
       "      <th>820</th>\n",
       "      <td>816</td>\n",
       "      <td>09-Nov-11</td>\n",
       "      <td>I went to HB Jeep with my fiancee to purchase ...</td>\n",
       "      <td>5.0</td>\n",
       "    </tr>\n",
       "    <tr>\n",
       "      <th>821</th>\n",
       "      <td>817</td>\n",
       "      <td>29-Oct-11</td>\n",
       "      <td>My thanks to Rich Ambrose and the whole staff ...</td>\n",
       "      <td>5.0</td>\n",
       "    </tr>\n",
       "    <tr>\n",
       "      <th>822</th>\n",
       "      <td>818</td>\n",
       "      <td>08-Sep-11</td>\n",
       "      <td>Dealt with everything over the phone as I live...</td>\n",
       "      <td>5.0</td>\n",
       "    </tr>\n",
       "  </tbody>\n",
       "</table>\n",
       "<p>823 rows × 4 columns</p>\n",
       "</div>"
      ],
      "text/plain": [
       "     Unnamed: 0       Date                                            Reviews  \\\n",
       "0             0  12-May-20  Worst customer service and very rude. Don’t co...   \n",
       "1             1  11-May-20  STAY AWAY!!! I wish I had read these reviews b...   \n",
       "2             2  08-May-20  Not willing to work with you and have products...   \n",
       "3             4  05-May-20  We were attracted to this dealer from the pric...   \n",
       "4             6  30-Apr-20  Garbage of a dealership. Falsely advertises th...   \n",
       "..          ...        ...                                                ...   \n",
       "818         814  11-Jan-12  Richard and Jim were awesome! They were super ...   \n",
       "819         815  09-Jan-12  Great service, Chris responded with honest and...   \n",
       "820         816  09-Nov-11  I went to HB Jeep with my fiancee to purchase ...   \n",
       "821         817  29-Oct-11  My thanks to Rich Ambrose and the whole staff ...   \n",
       "822         818  08-Sep-11  Dealt with everything over the phone as I live...   \n",
       "\n",
       "     Ratings  \n",
       "0        1.0  \n",
       "1        1.0  \n",
       "2        1.0  \n",
       "3        1.0  \n",
       "4        1.0  \n",
       "..       ...  \n",
       "818      5.0  \n",
       "819      5.0  \n",
       "820      5.0  \n",
       "821      5.0  \n",
       "822      5.0  \n",
       "\n",
       "[823 rows x 4 columns]"
      ]
     },
     "execution_count": 4,
     "metadata": {},
     "output_type": "execute_result"
    }
   ],
   "source": [
    "df.dropna()"
   ]
  },
  {
   "cell_type": "code",
   "execution_count": 5,
   "metadata": {
    "colab": {},
    "colab_type": "code",
    "id": "GtrC7hXfcPuQ"
   },
   "outputs": [],
   "source": [
    "df[\"Reviews\"]=df['Reviews'].str.lower()"
   ]
  },
  {
   "cell_type": "code",
   "execution_count": 6,
   "metadata": {
    "colab": {
     "base_uri": "https://localhost:8080/",
     "height": 207
    },
    "colab_type": "code",
    "id": "rlfKvN24bvF9",
    "outputId": "eef09a2f-b013-4f7e-a69c-bf96d5debfb2"
   },
   "outputs": [
    {
     "name": "stderr",
     "output_type": "stream",
     "text": [
      "C:\\Users\\Aditya\\a3\\lib\\site-packages\\ipykernel_launcher.py:3: SettingWithCopyWarning: \n",
      "A value is trying to be set on a copy of a slice from a DataFrame\n",
      "\n",
      "See the caveats in the documentation: https://pandas.pydata.org/pandas-docs/stable/user_guide/indexing.html#returning-a-view-versus-a-copy\n",
      "  This is separate from the ipykernel package so we can avoid doing imports until\n",
      "C:\\Users\\Aditya\\a3\\lib\\site-packages\\ipykernel_launcher.py:5: SettingWithCopyWarning: \n",
      "A value is trying to be set on a copy of a slice from a DataFrame\n",
      "\n",
      "See the caveats in the documentation: https://pandas.pydata.org/pandas-docs/stable/user_guide/indexing.html#returning-a-view-versus-a-copy\n",
      "  \"\"\"\n"
     ]
    }
   ],
   "source": [
    "for i in range(0,len(df)):\n",
    "  if int(df[\"Ratings\"][i])==1 or int(df[\"Ratings\"][i])==2 or int(df[\"Ratings\"][i])==3 :\n",
    "    df[\"Ratings\"][i]=1\n",
    "  if int(df[\"Ratings\"][i])==4 or int(df[\"Ratings\"][i])==5 :\n",
    "    df[\"Ratings\"][i]=0"
   ]
  },
  {
   "cell_type": "code",
   "execution_count": 7,
   "metadata": {
    "colab": {},
    "colab_type": "code",
    "id": "sOAy7LLCcOHq"
   },
   "outputs": [],
   "source": [
    "indexNames = df[ df['Ratings'] == 0 ].index\n"
   ]
  },
  {
   "cell_type": "code",
   "execution_count": 8,
   "metadata": {
    "colab": {},
    "colab_type": "code",
    "id": "8zFXIwtqceYT"
   },
   "outputs": [],
   "source": [
    "df.drop(indexNames , inplace=True)"
   ]
  },
  {
   "cell_type": "code",
   "execution_count": 9,
   "metadata": {
    "colab": {},
    "colab_type": "code",
    "id": "OWPWaYkUdlsx"
   },
   "outputs": [],
   "source": [
    "v = TfidfVectorizer(smooth_idf=False)\n",
    "x = v.fit_transform(df['Reviews'].values.astype(str))  ## Even astype(str) would work\n"
   ]
  },
  {
   "cell_type": "code",
   "execution_count": 10,
   "metadata": {
    "colab": {},
    "colab_type": "code",
    "id": "H9wZlb-wd3Rm"
   },
   "outputs": [],
   "source": [
    "x = x.toarray()"
   ]
  },
  {
   "cell_type": "code",
   "execution_count": 11,
   "metadata": {
    "colab": {},
    "colab_type": "code",
    "id": "9cZW8MF8rNed"
   },
   "outputs": [],
   "source": [
    "normalizer = preprocessing.Normalizer().fit(x)\n",
    "x = normalizer.transform(x)"
   ]
  },
  {
   "cell_type": "code",
   "execution_count": 12,
   "metadata": {
    "colab": {},
    "colab_type": "code",
    "id": "PF9YKSHIeXNW"
   },
   "outputs": [],
   "source": [
    "z= pd.DataFrame(x)"
   ]
  },
  {
   "cell_type": "code",
   "execution_count": 15,
   "metadata": {
    "colab": {},
    "colab_type": "code",
    "id": "nCenwOqdfAlX"
   },
   "outputs": [],
   "source": [
    "db = DBSCAN(eps=1.185, min_samples=3).fit(z)\n"
   ]
  },
  {
   "cell_type": "code",
   "execution_count": 16,
   "metadata": {
    "colab": {
     "base_uri": "https://localhost:8080/",
     "height": 170
    },
    "colab_type": "code",
    "id": "hPrhzZwbGCfA",
    "outputId": "a86c369c-547f-49a9-de9e-dd48791e152b"
   },
   "outputs": [
    {
     "data": {
      "text/plain": [
       "array([ 0,  0, -1, -1,  0, -1,  0,  0, -1, -1, -1,  0, -1, -1, -1, -1, -1,\n",
       "        0,  0, -1, -1, -1,  0,  0,  0,  0, -1, -1, -1,  0], dtype=int64)"
      ]
     },
     "execution_count": 16,
     "metadata": {},
     "output_type": "execute_result"
    }
   ],
   "source": [
    "db.labels_"
   ]
  },
  {
   "cell_type": "code",
   "execution_count": 0,
   "metadata": {
    "colab": {},
    "colab_type": "code",
    "id": "bMg7cY06J-Bn"
   },
   "outputs": [],
   "source": [
    "label=db.labels_\n",
    "label_abs=np.absolute(label)\n",
    "label=np.array(label_abs)"
   ]
  },
  {
   "cell_type": "code",
   "execution_count": 0,
   "metadata": {
    "colab": {},
    "colab_type": "code",
    "id": "3V6yImIWLCmz"
   },
   "outputs": [],
   "source": [
    "feat= np.array(x)"
   ]
  },
  {
   "cell_type": "code",
   "execution_count": 0,
   "metadata": {
    "colab": {},
    "colab_type": "code",
    "id": "PVofmBlyKFAA"
   },
   "outputs": [],
   "source": [
    "from sklearn.model_selection import train_test_split\n",
    "X_train, X_test, y_train, y_test = train_test_split(feat, label, test_size=0.33, random_state=42)"
   ]
  },
  {
   "cell_type": "code",
   "execution_count": 0,
   "metadata": {
    "colab": {
     "base_uri": "https://localhost:8080/",
     "height": 85
    },
    "colab_type": "code",
    "id": "EmKFJj-YL2u9",
    "outputId": "8f873186-87da-4e9d-c58e-3d66bb26bd02"
   },
   "outputs": [
    {
     "data": {
      "text/plain": [
       "SVC(C=1.0, break_ties=False, cache_size=200, class_weight=None, coef0=0.0,\n",
       "    decision_function_shape='ovr', degree=3, gamma='scale', kernel='linear',\n",
       "    max_iter=-1, probability=False, random_state=None, shrinking=True,\n",
       "    tol=0.001, verbose=False)"
      ]
     },
     "execution_count": 32,
     "metadata": {
      "tags": []
     },
     "output_type": "execute_result"
    }
   ],
   "source": [
    "clf = svm.SVC(kernel='linear', C = 1.0)\n",
    "\n",
    "clf.fit(X_train,y_train)\n"
   ]
  },
  {
   "cell_type": "code",
   "execution_count": 0,
   "metadata": {
    "colab": {},
    "colab_type": "code",
    "id": "QElb8XBhMv2E"
   },
   "outputs": [],
   "source": [
    "y_pred=clf.predict(X_test)"
   ]
  },
  {
   "cell_type": "code",
   "execution_count": 0,
   "metadata": {
    "colab": {},
    "colab_type": "code",
    "id": "HGy3x4PLM3tW"
   },
   "outputs": [],
   "source": [
    "from sklearn.metrics import accuracy_score"
   ]
  },
  {
   "cell_type": "code",
   "execution_count": 0,
   "metadata": {
    "colab": {
     "base_uri": "https://localhost:8080/",
     "height": 34
    },
    "colab_type": "code",
    "id": "413XXLZ5M6y8",
    "outputId": "2b2724e7-f3dc-486c-a816-f772f7cf2427"
   },
   "outputs": [
    {
     "data": {
      "text/plain": [
       "0.9166666666666666"
      ]
     },
     "execution_count": 35,
     "metadata": {
      "tags": []
     },
     "output_type": "execute_result"
    }
   ],
   "source": [
    "accuracy_score(y_pred,y_test)"
   ]
  },
  {
   "cell_type": "code",
   "execution_count": 0,
   "metadata": {
    "colab": {
     "base_uri": "https://localhost:8080/",
     "height": 51
    },
    "colab_type": "code",
    "id": "Kojaz0JDM83U",
    "outputId": "47a82f5a-74de-4a0e-fd96-5daeb36db405"
   },
   "outputs": [
    {
     "data": {
      "text/plain": [
       "array([[ 0.09588298, -0.27806283, -0.02038417, ...,  0.0407255 ,\n",
       "         0.10107492,  0.        ]])"
      ]
     },
     "execution_count": 27,
     "metadata": {
      "tags": []
     },
     "output_type": "execute_result"
    }
   ],
   "source": [
    "clf.coef_"
   ]
  },
  {
   "cell_type": "code",
   "execution_count": 0,
   "metadata": {
    "colab": {},
    "colab_type": "code",
    "id": "pqwAq9WINB_O"
   },
   "outputs": [],
   "source": [
    "def plot_coefficients(classifier, feature_names, top_features=20):\n",
    "\n",
    "\n",
    "  coef = classifier.coef_.ravel()\n",
    "  top_positive_coefficients = np.argsort(coef)[-top_features:]\n",
    "  top_negative_coefficients = np.argsort(coef)[:top_features]\n",
    "  top_coefficients = np.hstack([top_negative_coefficients, top_positive_coefficients])\n",
    "  # create plot\n",
    "  plt.figure(figsize=(15, 5))\n",
    "  colors = ['red' if c < 0 else 'blue' for c in coef[top_coefficients]]\n",
    "  plt.bar(np.arange(2 * top_features), coef[top_coefficients], color=colors)\n",
    "  feature_names = np.array(feature_names)\n",
    "  plt.xticks(np.arange(1, 1 + 2 * top_features), feature_names[top_coefficients], rotation=60, ha='right')\n",
    "  plt.show()"
   ]
  },
  {
   "cell_type": "code",
   "execution_count": 0,
   "metadata": {
    "colab": {
     "base_uri": "https://localhost:8080/",
     "height": 370
    },
    "colab_type": "code",
    "id": "ELZXxdj3NIno",
    "outputId": "b4328245-98ec-45a0-87e7-7ba8d18b76fa"
   },
   "outputs": [
    {
     "data": {
      "image/png": "[encoded data removed]",
      "text/plain": [
       "<Figure size 1080x360 with 1 Axes>"
      ]
     },
     "metadata": {
      "needs_background": "light",
      "tags": []
     },
     "output_type": "display_data"
    }
   ],
   "source": [
    "plot_coefficients(clf, v.get_feature_names())\n"
   ]
  },
  {
   "cell_type": "code",
   "execution_count": 0,
   "metadata": {
    "colab": {},
    "colab_type": "code",
    "id": "pG5IJ2BoQCzm"
   },
   "outputs": [],
   "source": [
    "p=v.get_feature_names()\n",
    "p.index('car')"
   ]
  },
  {
   "cell_type": "code",
   "execution_count": 0,
   "metadata": {
    "colab": {},
    "colab_type": "code",
    "id": "k-eSlcqtQ5m1"
   },
   "outputs": [],
   "source": [
    "x[:145,440]"
   ]
  },
  {
   "cell_type": "code",
   "execution_count": 13,
   "metadata": {
    "colab": {},
    "colab_type": "code",
    "id": "B0eUuMxbwjVH"
   },
   "outputs": [],
   "source": [
    "data_subset=pd.DataFrame(x)"
   ]
  },
  {
   "cell_type": "code",
   "execution_count": 14,
   "metadata": {
    "colab": {
     "base_uri": "https://localhost:8080/",
     "height": 439
    },
    "colab_type": "code",
    "id": "Qkbn1JGFwo8W",
    "outputId": "f6a5e654-7657-460d-bc3c-e748f6765700"
   },
   "outputs": [
    {
     "data": {
      "text/html": [
       "<div>\n",
       "<style scoped>\n",
       "    .dataframe tbody tr th:only-of-type {\n",
       "        vertical-align: middle;\n",
       "    }\n",
       "\n",
       "    .dataframe tbody tr th {\n",
       "        vertical-align: top;\n",
       "    }\n",
       "\n",
       "    .dataframe thead th {\n",
       "        text-align: right;\n",
       "    }\n",
       "</style>\n",
       "<table border=\"1\" class=\"dataframe\">\n",
       "  <thead>\n",
       "    <tr style=\"text-align: right;\">\n",
       "      <th></th>\n",
       "      <th>0</th>\n",
       "      <th>1</th>\n",
       "      <th>2</th>\n",
       "      <th>3</th>\n",
       "      <th>4</th>\n",
       "      <th>5</th>\n",
       "      <th>6</th>\n",
       "      <th>7</th>\n",
       "      <th>8</th>\n",
       "      <th>9</th>\n",
       "      <th>...</th>\n",
       "      <th>3412</th>\n",
       "      <th>3413</th>\n",
       "      <th>3414</th>\n",
       "      <th>3415</th>\n",
       "      <th>3416</th>\n",
       "      <th>3417</th>\n",
       "      <th>3418</th>\n",
       "      <th>3419</th>\n",
       "      <th>3420</th>\n",
       "      <th>3421</th>\n",
       "    </tr>\n",
       "  </thead>\n",
       "  <tbody>\n",
       "    <tr>\n",
       "      <th>0</th>\n",
       "      <td>0.0</td>\n",
       "      <td>0.000000</td>\n",
       "      <td>0.0</td>\n",
       "      <td>0.0</td>\n",
       "      <td>0.0</td>\n",
       "      <td>0.0</td>\n",
       "      <td>0.0</td>\n",
       "      <td>0.0</td>\n",
       "      <td>0.0</td>\n",
       "      <td>0.0</td>\n",
       "      <td>...</td>\n",
       "      <td>0.0</td>\n",
       "      <td>0.000000</td>\n",
       "      <td>0.060878</td>\n",
       "      <td>0.0</td>\n",
       "      <td>0.0</td>\n",
       "      <td>0.078794</td>\n",
       "      <td>0.0</td>\n",
       "      <td>0.0</td>\n",
       "      <td>0.0</td>\n",
       "      <td>0.0</td>\n",
       "    </tr>\n",
       "    <tr>\n",
       "      <th>1</th>\n",
       "      <td>0.0</td>\n",
       "      <td>0.000000</td>\n",
       "      <td>0.0</td>\n",
       "      <td>0.0</td>\n",
       "      <td>0.0</td>\n",
       "      <td>0.0</td>\n",
       "      <td>0.0</td>\n",
       "      <td>0.0</td>\n",
       "      <td>0.0</td>\n",
       "      <td>0.0</td>\n",
       "      <td>...</td>\n",
       "      <td>0.0</td>\n",
       "      <td>0.094144</td>\n",
       "      <td>0.000000</td>\n",
       "      <td>0.0</td>\n",
       "      <td>0.0</td>\n",
       "      <td>0.000000</td>\n",
       "      <td>0.0</td>\n",
       "      <td>0.0</td>\n",
       "      <td>0.0</td>\n",
       "      <td>0.0</td>\n",
       "    </tr>\n",
       "    <tr>\n",
       "      <th>2</th>\n",
       "      <td>0.0</td>\n",
       "      <td>0.000000</td>\n",
       "      <td>0.0</td>\n",
       "      <td>0.0</td>\n",
       "      <td>0.0</td>\n",
       "      <td>0.0</td>\n",
       "      <td>0.0</td>\n",
       "      <td>0.0</td>\n",
       "      <td>0.0</td>\n",
       "      <td>0.0</td>\n",
       "      <td>...</td>\n",
       "      <td>0.0</td>\n",
       "      <td>0.000000</td>\n",
       "      <td>0.143177</td>\n",
       "      <td>0.0</td>\n",
       "      <td>0.0</td>\n",
       "      <td>0.092657</td>\n",
       "      <td>0.0</td>\n",
       "      <td>0.0</td>\n",
       "      <td>0.0</td>\n",
       "      <td>0.0</td>\n",
       "    </tr>\n",
       "    <tr>\n",
       "      <th>3</th>\n",
       "      <td>0.0</td>\n",
       "      <td>0.000000</td>\n",
       "      <td>0.0</td>\n",
       "      <td>0.0</td>\n",
       "      <td>0.0</td>\n",
       "      <td>0.0</td>\n",
       "      <td>0.0</td>\n",
       "      <td>0.0</td>\n",
       "      <td>0.0</td>\n",
       "      <td>0.0</td>\n",
       "      <td>...</td>\n",
       "      <td>0.0</td>\n",
       "      <td>0.000000</td>\n",
       "      <td>0.065724</td>\n",
       "      <td>0.0</td>\n",
       "      <td>0.0</td>\n",
       "      <td>0.000000</td>\n",
       "      <td>0.0</td>\n",
       "      <td>0.0</td>\n",
       "      <td>0.0</td>\n",
       "      <td>0.0</td>\n",
       "    </tr>\n",
       "    <tr>\n",
       "      <th>4</th>\n",
       "      <td>0.0</td>\n",
       "      <td>0.158162</td>\n",
       "      <td>0.0</td>\n",
       "      <td>0.0</td>\n",
       "      <td>0.0</td>\n",
       "      <td>0.0</td>\n",
       "      <td>0.0</td>\n",
       "      <td>0.0</td>\n",
       "      <td>0.0</td>\n",
       "      <td>0.0</td>\n",
       "      <td>...</td>\n",
       "      <td>0.0</td>\n",
       "      <td>0.000000</td>\n",
       "      <td>0.000000</td>\n",
       "      <td>0.0</td>\n",
       "      <td>0.0</td>\n",
       "      <td>0.000000</td>\n",
       "      <td>0.0</td>\n",
       "      <td>0.0</td>\n",
       "      <td>0.0</td>\n",
       "      <td>0.0</td>\n",
       "    </tr>\n",
       "    <tr>\n",
       "      <th>...</th>\n",
       "      <td>...</td>\n",
       "      <td>...</td>\n",
       "      <td>...</td>\n",
       "      <td>...</td>\n",
       "      <td>...</td>\n",
       "      <td>...</td>\n",
       "      <td>...</td>\n",
       "      <td>...</td>\n",
       "      <td>...</td>\n",
       "      <td>...</td>\n",
       "      <td>...</td>\n",
       "      <td>...</td>\n",
       "      <td>...</td>\n",
       "      <td>...</td>\n",
       "      <td>...</td>\n",
       "      <td>...</td>\n",
       "      <td>...</td>\n",
       "      <td>...</td>\n",
       "      <td>...</td>\n",
       "      <td>...</td>\n",
       "      <td>...</td>\n",
       "    </tr>\n",
       "    <tr>\n",
       "      <th>161</th>\n",
       "      <td>0.0</td>\n",
       "      <td>0.000000</td>\n",
       "      <td>0.0</td>\n",
       "      <td>0.0</td>\n",
       "      <td>0.0</td>\n",
       "      <td>0.0</td>\n",
       "      <td>0.0</td>\n",
       "      <td>0.0</td>\n",
       "      <td>0.0</td>\n",
       "      <td>0.0</td>\n",
       "      <td>...</td>\n",
       "      <td>0.0</td>\n",
       "      <td>0.000000</td>\n",
       "      <td>0.000000</td>\n",
       "      <td>0.0</td>\n",
       "      <td>0.0</td>\n",
       "      <td>0.000000</td>\n",
       "      <td>0.0</td>\n",
       "      <td>0.0</td>\n",
       "      <td>0.0</td>\n",
       "      <td>0.0</td>\n",
       "    </tr>\n",
       "    <tr>\n",
       "      <th>162</th>\n",
       "      <td>0.0</td>\n",
       "      <td>0.000000</td>\n",
       "      <td>0.0</td>\n",
       "      <td>0.0</td>\n",
       "      <td>0.0</td>\n",
       "      <td>0.0</td>\n",
       "      <td>0.0</td>\n",
       "      <td>0.0</td>\n",
       "      <td>0.0</td>\n",
       "      <td>0.0</td>\n",
       "      <td>...</td>\n",
       "      <td>0.0</td>\n",
       "      <td>0.000000</td>\n",
       "      <td>0.000000</td>\n",
       "      <td>0.0</td>\n",
       "      <td>0.0</td>\n",
       "      <td>0.000000</td>\n",
       "      <td>0.0</td>\n",
       "      <td>0.0</td>\n",
       "      <td>0.0</td>\n",
       "      <td>0.0</td>\n",
       "    </tr>\n",
       "    <tr>\n",
       "      <th>163</th>\n",
       "      <td>0.0</td>\n",
       "      <td>0.000000</td>\n",
       "      <td>0.0</td>\n",
       "      <td>0.0</td>\n",
       "      <td>0.0</td>\n",
       "      <td>0.0</td>\n",
       "      <td>0.0</td>\n",
       "      <td>0.0</td>\n",
       "      <td>0.0</td>\n",
       "      <td>0.0</td>\n",
       "      <td>...</td>\n",
       "      <td>0.0</td>\n",
       "      <td>0.000000</td>\n",
       "      <td>0.000000</td>\n",
       "      <td>0.0</td>\n",
       "      <td>0.0</td>\n",
       "      <td>0.000000</td>\n",
       "      <td>0.0</td>\n",
       "      <td>0.0</td>\n",
       "      <td>0.0</td>\n",
       "      <td>0.0</td>\n",
       "    </tr>\n",
       "    <tr>\n",
       "      <th>164</th>\n",
       "      <td>0.0</td>\n",
       "      <td>0.000000</td>\n",
       "      <td>0.0</td>\n",
       "      <td>0.0</td>\n",
       "      <td>0.0</td>\n",
       "      <td>0.0</td>\n",
       "      <td>0.0</td>\n",
       "      <td>0.0</td>\n",
       "      <td>0.0</td>\n",
       "      <td>0.0</td>\n",
       "      <td>...</td>\n",
       "      <td>0.0</td>\n",
       "      <td>0.000000</td>\n",
       "      <td>0.058474</td>\n",
       "      <td>0.0</td>\n",
       "      <td>0.0</td>\n",
       "      <td>0.037842</td>\n",
       "      <td>0.0</td>\n",
       "      <td>0.0</td>\n",
       "      <td>0.0</td>\n",
       "      <td>0.0</td>\n",
       "    </tr>\n",
       "    <tr>\n",
       "      <th>165</th>\n",
       "      <td>0.0</td>\n",
       "      <td>0.000000</td>\n",
       "      <td>0.0</td>\n",
       "      <td>0.0</td>\n",
       "      <td>0.0</td>\n",
       "      <td>0.0</td>\n",
       "      <td>0.0</td>\n",
       "      <td>0.0</td>\n",
       "      <td>0.0</td>\n",
       "      <td>0.0</td>\n",
       "      <td>...</td>\n",
       "      <td>0.0</td>\n",
       "      <td>0.000000</td>\n",
       "      <td>0.000000</td>\n",
       "      <td>0.0</td>\n",
       "      <td>0.0</td>\n",
       "      <td>0.000000</td>\n",
       "      <td>0.0</td>\n",
       "      <td>0.0</td>\n",
       "      <td>0.0</td>\n",
       "      <td>0.0</td>\n",
       "    </tr>\n",
       "  </tbody>\n",
       "</table>\n",
       "<p>166 rows × 3422 columns</p>\n",
       "</div>"
      ],
      "text/plain": [
       "     0         1     2     3     4     5     6     7     8     9     ...  \\\n",
       "0     0.0  0.000000   0.0   0.0   0.0   0.0   0.0   0.0   0.0   0.0  ...   \n",
       "1     0.0  0.000000   0.0   0.0   0.0   0.0   0.0   0.0   0.0   0.0  ...   \n",
       "2     0.0  0.000000   0.0   0.0   0.0   0.0   0.0   0.0   0.0   0.0  ...   \n",
       "3     0.0  0.000000   0.0   0.0   0.0   0.0   0.0   0.0   0.0   0.0  ...   \n",
       "4     0.0  0.158162   0.0   0.0   0.0   0.0   0.0   0.0   0.0   0.0  ...   \n",
       "..    ...       ...   ...   ...   ...   ...   ...   ...   ...   ...  ...   \n",
       "161   0.0  0.000000   0.0   0.0   0.0   0.0   0.0   0.0   0.0   0.0  ...   \n",
       "162   0.0  0.000000   0.0   0.0   0.0   0.0   0.0   0.0   0.0   0.0  ...   \n",
       "163   0.0  0.000000   0.0   0.0   0.0   0.0   0.0   0.0   0.0   0.0  ...   \n",
       "164   0.0  0.000000   0.0   0.0   0.0   0.0   0.0   0.0   0.0   0.0  ...   \n",
       "165   0.0  0.000000   0.0   0.0   0.0   0.0   0.0   0.0   0.0   0.0  ...   \n",
       "\n",
       "     3412      3413      3414  3415  3416      3417  3418  3419  3420  3421  \n",
       "0     0.0  0.000000  0.060878   0.0   0.0  0.078794   0.0   0.0   0.0   0.0  \n",
       "1     0.0  0.094144  0.000000   0.0   0.0  0.000000   0.0   0.0   0.0   0.0  \n",
       "2     0.0  0.000000  0.143177   0.0   0.0  0.092657   0.0   0.0   0.0   0.0  \n",
       "3     0.0  0.000000  0.065724   0.0   0.0  0.000000   0.0   0.0   0.0   0.0  \n",
       "4     0.0  0.000000  0.000000   0.0   0.0  0.000000   0.0   0.0   0.0   0.0  \n",
       "..    ...       ...       ...   ...   ...       ...   ...   ...   ...   ...  \n",
       "161   0.0  0.000000  0.000000   0.0   0.0  0.000000   0.0   0.0   0.0   0.0  \n",
       "162   0.0  0.000000  0.000000   0.0   0.0  0.000000   0.0   0.0   0.0   0.0  \n",
       "163   0.0  0.000000  0.000000   0.0   0.0  0.000000   0.0   0.0   0.0   0.0  \n",
       "164   0.0  0.000000  0.058474   0.0   0.0  0.037842   0.0   0.0   0.0   0.0  \n",
       "165   0.0  0.000000  0.000000   0.0   0.0  0.000000   0.0   0.0   0.0   0.0  \n",
       "\n",
       "[166 rows x 3422 columns]"
      ]
     },
     "execution_count": 14,
     "metadata": {},
     "output_type": "execute_result"
    }
   ],
   "source": [
    "data_subset"
   ]
  },
  {
   "cell_type": "code",
   "execution_count": 15,
   "metadata": {
    "colab": {},
    "colab_type": "code",
    "id": "7IsIFulDr-Xf"
   },
   "outputs": [],
   "source": [
    "from sklearn.manifold import TSNE"
   ]
  },
  {
   "cell_type": "code",
   "execution_count": 16,
   "metadata": {
    "colab": {
     "base_uri": "https://localhost:8080/",
     "height": 728
    },
    "colab_type": "code",
    "id": "ziwt7EUosP3C",
    "outputId": "26401b32-2541-4fa4-f267-dd68e7f13ef2"
   },
   "outputs": [
    {
     "name": "stdout",
     "output_type": "stream",
     "text": [
      "[t-SNE] Computing 16 nearest neighbors...\n",
      "[t-SNE] Indexed 166 samples in 0.092s...\n",
      "[t-SNE] Computed neighbors for 166 samples in 0.187s...\n",
      "[t-SNE] Computed conditional probabilities for sample 166 / 166\n",
      "[t-SNE] Mean sigma: 0.155884\n",
      "[t-SNE] KL divergence after 250 iterations with early exaggeration: 96.536407\n",
      "[t-SNE] KL divergence after 1000 iterations: 1.773800\n"
     ]
    },
    {
     "data": {
      "text/plain": [
       "<matplotlib.collections.PathCollection at 0x20e135716c8>"
      ]
     },
     "execution_count": 16,
     "metadata": {},
     "output_type": "execute_result"
    },
    {
     "data": {
      "image/png": "[encoded data removed]",
      "text/plain": [
       "<Figure size 1152x720 with 1 Axes>"
      ]
     },
     "metadata": {
      "needs_background": "light"
     },
     "output_type": "display_data"
    }
   ],
   "source": [
    "tsne = TSNE(n_components=2, verbose=1, perplexity=5, n_iter=1000)\n",
    "tsne_results = tsne.fit_transform(data_subset)\n",
    "data_subset['tsne-2d-one'] = tsne_results[:,0]\n",
    "data_subset['tsne-2d-two'] = tsne_results[:,1]\n",
    "plt.figure(figsize=(16,10))\n",
    "plt.scatter(data_subset['tsne-2d-one'], data_subset['tsne-2d-two'])"
   ]
  },
  {
   "cell_type": "code",
   "execution_count": 17,
   "metadata": {
    "colab": {
     "base_uri": "https://localhost:8080/",
     "height": 728
    },
    "colab_type": "code",
    "id": "39VEjsSL1uk7",
    "outputId": "53ad3911-742e-4078-f118-8ee455a48bff"
   },
   "outputs": [
    {
     "name": "stdout",
     "output_type": "stream",
     "text": [
      "[t-SNE] Computing 31 nearest neighbors...\n",
      "[t-SNE] Indexed 166 samples in 0.075s...\n",
      "[t-SNE] Computed neighbors for 166 samples in 0.137s...\n",
      "[t-SNE] Computed conditional probabilities for sample 166 / 166\n",
      "[t-SNE] Mean sigma: 5.142448\n",
      "[t-SNE] KL divergence after 250 iterations with early exaggeration: 64.094383\n",
      "[t-SNE] KL divergence after 1000 iterations: 0.396986\n"
     ]
    },
    {
     "data": {
      "text/plain": [
       "<matplotlib.collections.PathCollection at 0x20e14c77f08>"
      ]
     },
     "execution_count": 17,
     "metadata": {},
     "output_type": "execute_result"
    },
    {
     "data": {
      "image/png": "[encoded data removed]",
      "text/plain": [
       "<Figure size 1152x720 with 1 Axes>"
      ]
     },
     "metadata": {
      "needs_background": "light"
     },
     "output_type": "display_data"
    }
   ],
   "source": [
    "tsne = TSNE(n_components=2, verbose=1, perplexity=10, n_iter=1000)\n",
    "tsne_results = tsne.fit_transform(data_subset)\n",
    "data_subset['tsne-2d-one'] = tsne_results[:,0]\n",
    "data_subset['tsne-2d-two'] = tsne_results[:,1]\n",
    "plt.figure(figsize=(16,10))\n",
    "plt.scatter(data_subset['tsne-2d-one'], data_subset['tsne-2d-two'])"
   ]
  },
  {
   "cell_type": "code",
   "execution_count": 0,
   "metadata": {
    "colab": {},
    "colab_type": "code",
    "id": "1RmB5HK81yzN"
   },
   "outputs": [],
   "source": []
  },
  {
   "cell_type": "code",
   "execution_count": 18,
   "metadata": {
    "colab": {
     "base_uri": "https://localhost:8080/",
     "height": 728
    },
    "colab_type": "code",
    "id": "Wu76z_bt1zTP",
    "outputId": "d8ca4632-63c1-4dd4-d5fe-02e449a88af4",
    "scrolled": true
   },
   "outputs": [
    {
     "name": "stdout",
     "output_type": "stream",
     "text": [
      "[t-SNE] Computing 61 nearest neighbors...\n",
      "[t-SNE] Indexed 166 samples in 0.094s...\n",
      "[t-SNE] Computed neighbors for 166 samples in 0.182s...\n",
      "[t-SNE] Computed conditional probabilities for sample 166 / 166\n",
      "[t-SNE] Mean sigma: 8.385390\n",
      "[t-SNE] KL divergence after 250 iterations with early exaggeration: 56.358047\n",
      "[t-SNE] KL divergence after 850 iterations: 0.190355\n"
     ]
    },
    {
     "data": {
      "text/plain": [
       "<matplotlib.collections.PathCollection at 0x20e1516d088>"
      ]
     },
     "execution_count": 18,
     "metadata": {},
     "output_type": "execute_result"
    },
    {
     "data": {
      "image/png": "[encoded data removed]",
      "text/plain": [
       "<Figure size 1152x720 with 1 Axes>"
      ]
     },
     "metadata": {
      "needs_background": "light"
     },
     "output_type": "display_data"
    }
   ],
   "source": [
    "\n",
    "tsne = TSNE(n_components=2, verbose=1, perplexity=20, n_iter=1000)\n",
    "tsne_results = tsne.fit_transform(data_subset)\n",
    "data_subset['tsne-2d-one'] = tsne_results[:,0]\n",
    "data_subset['tsne-2d-two'] = tsne_results[:,1]\n",
    "plt.figure(figsize=(16,10))\n",
    "plt.scatter(data_subset['tsne-2d-one'], data_subset['tsne-2d-two'])"
   ]
  },
  {
   "cell_type": "code",
   "execution_count": 49,
   "metadata": {
    "colab": {},
    "colab_type": "code",
    "id": "rdJ4-YP32AS-"
   },
   "outputs": [
    {
     "data": {
      "text/html": [
       "<div>\n",
       "<style scoped>\n",
       "    .dataframe tbody tr th:only-of-type {\n",
       "        vertical-align: middle;\n",
       "    }\n",
       "\n",
       "    .dataframe tbody tr th {\n",
       "        vertical-align: top;\n",
       "    }\n",
       "\n",
       "    .dataframe thead th {\n",
       "        text-align: right;\n",
       "    }\n",
       "</style>\n",
       "<table border=\"1\" class=\"dataframe\">\n",
       "  <thead>\n",
       "    <tr style=\"text-align: right;\">\n",
       "      <th></th>\n",
       "      <th>0</th>\n",
       "      <th>1</th>\n",
       "      <th>2</th>\n",
       "      <th>3</th>\n",
       "      <th>4</th>\n",
       "      <th>5</th>\n",
       "      <th>6</th>\n",
       "      <th>7</th>\n",
       "      <th>8</th>\n",
       "      <th>9</th>\n",
       "      <th>...</th>\n",
       "      <th>2829</th>\n",
       "      <th>2830</th>\n",
       "      <th>2831</th>\n",
       "      <th>2832</th>\n",
       "      <th>2833</th>\n",
       "      <th>2834</th>\n",
       "      <th>2835</th>\n",
       "      <th>2836</th>\n",
       "      <th>tsne-2d-one</th>\n",
       "      <th>tsne-2d-two</th>\n",
       "    </tr>\n",
       "  </thead>\n",
       "  <tbody>\n",
       "    <tr>\n",
       "      <th>0</th>\n",
       "      <td>0.0</td>\n",
       "      <td>0.0</td>\n",
       "      <td>0.0</td>\n",
       "      <td>0.0</td>\n",
       "      <td>0.0</td>\n",
       "      <td>0.0</td>\n",
       "      <td>0.0</td>\n",
       "      <td>0.0</td>\n",
       "      <td>0.000000</td>\n",
       "      <td>0.0</td>\n",
       "      <td>...</td>\n",
       "      <td>0.0</td>\n",
       "      <td>0.0</td>\n",
       "      <td>0.000000</td>\n",
       "      <td>0.0</td>\n",
       "      <td>0.000000</td>\n",
       "      <td>0.0</td>\n",
       "      <td>0.0</td>\n",
       "      <td>0.0</td>\n",
       "      <td>5.377430</td>\n",
       "      <td>14.696588</td>\n",
       "    </tr>\n",
       "    <tr>\n",
       "      <th>1</th>\n",
       "      <td>0.0</td>\n",
       "      <td>0.0</td>\n",
       "      <td>0.0</td>\n",
       "      <td>0.0</td>\n",
       "      <td>0.0</td>\n",
       "      <td>0.0</td>\n",
       "      <td>0.0</td>\n",
       "      <td>0.0</td>\n",
       "      <td>0.000000</td>\n",
       "      <td>0.0</td>\n",
       "      <td>...</td>\n",
       "      <td>0.0</td>\n",
       "      <td>0.0</td>\n",
       "      <td>0.054464</td>\n",
       "      <td>0.0</td>\n",
       "      <td>0.079232</td>\n",
       "      <td>0.0</td>\n",
       "      <td>0.0</td>\n",
       "      <td>0.0</td>\n",
       "      <td>-13.686540</td>\n",
       "      <td>-7.873782</td>\n",
       "    </tr>\n",
       "    <tr>\n",
       "      <th>2</th>\n",
       "      <td>0.0</td>\n",
       "      <td>0.0</td>\n",
       "      <td>0.0</td>\n",
       "      <td>0.0</td>\n",
       "      <td>0.0</td>\n",
       "      <td>0.0</td>\n",
       "      <td>0.0</td>\n",
       "      <td>0.0</td>\n",
       "      <td>0.000000</td>\n",
       "      <td>0.0</td>\n",
       "      <td>...</td>\n",
       "      <td>0.0</td>\n",
       "      <td>0.0</td>\n",
       "      <td>0.168124</td>\n",
       "      <td>0.0</td>\n",
       "      <td>0.122290</td>\n",
       "      <td>0.0</td>\n",
       "      <td>0.0</td>\n",
       "      <td>0.0</td>\n",
       "      <td>1.280557</td>\n",
       "      <td>16.056814</td>\n",
       "    </tr>\n",
       "    <tr>\n",
       "      <th>3</th>\n",
       "      <td>0.0</td>\n",
       "      <td>0.0</td>\n",
       "      <td>0.0</td>\n",
       "      <td>0.0</td>\n",
       "      <td>0.0</td>\n",
       "      <td>0.0</td>\n",
       "      <td>0.0</td>\n",
       "      <td>0.0</td>\n",
       "      <td>0.123355</td>\n",
       "      <td>0.0</td>\n",
       "      <td>...</td>\n",
       "      <td>0.0</td>\n",
       "      <td>0.0</td>\n",
       "      <td>0.000000</td>\n",
       "      <td>0.0</td>\n",
       "      <td>0.000000</td>\n",
       "      <td>0.0</td>\n",
       "      <td>0.0</td>\n",
       "      <td>0.0</td>\n",
       "      <td>1.380843</td>\n",
       "      <td>2.081684</td>\n",
       "    </tr>\n",
       "    <tr>\n",
       "      <th>4</th>\n",
       "      <td>0.0</td>\n",
       "      <td>0.0</td>\n",
       "      <td>0.0</td>\n",
       "      <td>0.0</td>\n",
       "      <td>0.0</td>\n",
       "      <td>0.0</td>\n",
       "      <td>0.0</td>\n",
       "      <td>0.0</td>\n",
       "      <td>0.000000</td>\n",
       "      <td>0.0</td>\n",
       "      <td>...</td>\n",
       "      <td>0.0</td>\n",
       "      <td>0.0</td>\n",
       "      <td>0.000000</td>\n",
       "      <td>0.0</td>\n",
       "      <td>0.000000</td>\n",
       "      <td>0.0</td>\n",
       "      <td>0.0</td>\n",
       "      <td>0.0</td>\n",
       "      <td>6.116758</td>\n",
       "      <td>11.516418</td>\n",
       "    </tr>\n",
       "    <tr>\n",
       "      <th>...</th>\n",
       "      <td>...</td>\n",
       "      <td>...</td>\n",
       "      <td>...</td>\n",
       "      <td>...</td>\n",
       "      <td>...</td>\n",
       "      <td>...</td>\n",
       "      <td>...</td>\n",
       "      <td>...</td>\n",
       "      <td>...</td>\n",
       "      <td>...</td>\n",
       "      <td>...</td>\n",
       "      <td>...</td>\n",
       "      <td>...</td>\n",
       "      <td>...</td>\n",
       "      <td>...</td>\n",
       "      <td>...</td>\n",
       "      <td>...</td>\n",
       "      <td>...</td>\n",
       "      <td>...</td>\n",
       "      <td>...</td>\n",
       "      <td>...</td>\n",
       "    </tr>\n",
       "    <tr>\n",
       "      <th>140</th>\n",
       "      <td>0.0</td>\n",
       "      <td>0.0</td>\n",
       "      <td>0.0</td>\n",
       "      <td>0.0</td>\n",
       "      <td>0.0</td>\n",
       "      <td>0.0</td>\n",
       "      <td>0.0</td>\n",
       "      <td>0.0</td>\n",
       "      <td>0.000000</td>\n",
       "      <td>0.0</td>\n",
       "      <td>...</td>\n",
       "      <td>0.0</td>\n",
       "      <td>0.0</td>\n",
       "      <td>0.000000</td>\n",
       "      <td>0.0</td>\n",
       "      <td>0.000000</td>\n",
       "      <td>0.0</td>\n",
       "      <td>0.0</td>\n",
       "      <td>0.0</td>\n",
       "      <td>-1.037924</td>\n",
       "      <td>10.168810</td>\n",
       "    </tr>\n",
       "    <tr>\n",
       "      <th>141</th>\n",
       "      <td>0.0</td>\n",
       "      <td>0.0</td>\n",
       "      <td>0.0</td>\n",
       "      <td>0.0</td>\n",
       "      <td>0.0</td>\n",
       "      <td>0.0</td>\n",
       "      <td>0.0</td>\n",
       "      <td>0.0</td>\n",
       "      <td>0.000000</td>\n",
       "      <td>0.0</td>\n",
       "      <td>...</td>\n",
       "      <td>0.0</td>\n",
       "      <td>0.0</td>\n",
       "      <td>0.079883</td>\n",
       "      <td>0.0</td>\n",
       "      <td>0.000000</td>\n",
       "      <td>0.0</td>\n",
       "      <td>0.0</td>\n",
       "      <td>0.0</td>\n",
       "      <td>14.450545</td>\n",
       "      <td>7.020665</td>\n",
       "    </tr>\n",
       "    <tr>\n",
       "      <th>142</th>\n",
       "      <td>0.0</td>\n",
       "      <td>0.0</td>\n",
       "      <td>0.0</td>\n",
       "      <td>0.0</td>\n",
       "      <td>0.0</td>\n",
       "      <td>0.0</td>\n",
       "      <td>0.0</td>\n",
       "      <td>0.0</td>\n",
       "      <td>0.000000</td>\n",
       "      <td>0.0</td>\n",
       "      <td>...</td>\n",
       "      <td>0.0</td>\n",
       "      <td>0.0</td>\n",
       "      <td>0.000000</td>\n",
       "      <td>0.0</td>\n",
       "      <td>0.000000</td>\n",
       "      <td>0.0</td>\n",
       "      <td>0.0</td>\n",
       "      <td>0.0</td>\n",
       "      <td>12.025866</td>\n",
       "      <td>3.894207</td>\n",
       "    </tr>\n",
       "    <tr>\n",
       "      <th>143</th>\n",
       "      <td>0.0</td>\n",
       "      <td>0.0</td>\n",
       "      <td>0.0</td>\n",
       "      <td>0.0</td>\n",
       "      <td>0.0</td>\n",
       "      <td>0.0</td>\n",
       "      <td>0.0</td>\n",
       "      <td>0.0</td>\n",
       "      <td>0.000000</td>\n",
       "      <td>0.0</td>\n",
       "      <td>...</td>\n",
       "      <td>0.0</td>\n",
       "      <td>0.0</td>\n",
       "      <td>0.000000</td>\n",
       "      <td>0.0</td>\n",
       "      <td>0.000000</td>\n",
       "      <td>0.0</td>\n",
       "      <td>0.0</td>\n",
       "      <td>0.0</td>\n",
       "      <td>2.663748</td>\n",
       "      <td>16.329128</td>\n",
       "    </tr>\n",
       "    <tr>\n",
       "      <th>144</th>\n",
       "      <td>0.0</td>\n",
       "      <td>0.0</td>\n",
       "      <td>0.0</td>\n",
       "      <td>0.0</td>\n",
       "      <td>0.0</td>\n",
       "      <td>0.0</td>\n",
       "      <td>0.0</td>\n",
       "      <td>0.0</td>\n",
       "      <td>0.000000</td>\n",
       "      <td>0.0</td>\n",
       "      <td>...</td>\n",
       "      <td>0.0</td>\n",
       "      <td>0.0</td>\n",
       "      <td>0.000000</td>\n",
       "      <td>0.0</td>\n",
       "      <td>0.000000</td>\n",
       "      <td>0.0</td>\n",
       "      <td>0.0</td>\n",
       "      <td>0.0</td>\n",
       "      <td>1.219494</td>\n",
       "      <td>12.704152</td>\n",
       "    </tr>\n",
       "  </tbody>\n",
       "</table>\n",
       "<p>145 rows × 2839 columns</p>\n",
       "</div>"
      ],
      "text/plain": [
       "       0    1    2    3    4    5    6    7         8    9  ...  2829  2830  \\\n",
       "0    0.0  0.0  0.0  0.0  0.0  0.0  0.0  0.0  0.000000  0.0  ...   0.0   0.0   \n",
       "1    0.0  0.0  0.0  0.0  0.0  0.0  0.0  0.0  0.000000  0.0  ...   0.0   0.0   \n",
       "2    0.0  0.0  0.0  0.0  0.0  0.0  0.0  0.0  0.000000  0.0  ...   0.0   0.0   \n",
       "3    0.0  0.0  0.0  0.0  0.0  0.0  0.0  0.0  0.123355  0.0  ...   0.0   0.0   \n",
       "4    0.0  0.0  0.0  0.0  0.0  0.0  0.0  0.0  0.000000  0.0  ...   0.0   0.0   \n",
       "..   ...  ...  ...  ...  ...  ...  ...  ...       ...  ...  ...   ...   ...   \n",
       "140  0.0  0.0  0.0  0.0  0.0  0.0  0.0  0.0  0.000000  0.0  ...   0.0   0.0   \n",
       "141  0.0  0.0  0.0  0.0  0.0  0.0  0.0  0.0  0.000000  0.0  ...   0.0   0.0   \n",
       "142  0.0  0.0  0.0  0.0  0.0  0.0  0.0  0.0  0.000000  0.0  ...   0.0   0.0   \n",
       "143  0.0  0.0  0.0  0.0  0.0  0.0  0.0  0.0  0.000000  0.0  ...   0.0   0.0   \n",
       "144  0.0  0.0  0.0  0.0  0.0  0.0  0.0  0.0  0.000000  0.0  ...   0.0   0.0   \n",
       "\n",
       "         2831  2832      2833  2834  2835  2836  tsne-2d-one  tsne-2d-two  \n",
       "0    0.000000   0.0  0.000000   0.0   0.0   0.0     5.377430    14.696588  \n",
       "1    0.054464   0.0  0.079232   0.0   0.0   0.0   -13.686540    -7.873782  \n",
       "2    0.168124   0.0  0.122290   0.0   0.0   0.0     1.280557    16.056814  \n",
       "3    0.000000   0.0  0.000000   0.0   0.0   0.0     1.380843     2.081684  \n",
       "4    0.000000   0.0  0.000000   0.0   0.0   0.0     6.116758    11.516418  \n",
       "..        ...   ...       ...   ...   ...   ...          ...          ...  \n",
       "140  0.000000   0.0  0.000000   0.0   0.0   0.0    -1.037924    10.168810  \n",
       "141  0.079883   0.0  0.000000   0.0   0.0   0.0    14.450545     7.020665  \n",
       "142  0.000000   0.0  0.000000   0.0   0.0   0.0    12.025866     3.894207  \n",
       "143  0.000000   0.0  0.000000   0.0   0.0   0.0     2.663748    16.329128  \n",
       "144  0.000000   0.0  0.000000   0.0   0.0   0.0     1.219494    12.704152  \n",
       "\n",
       "[145 rows x 2839 columns]"
      ]
     },
     "execution_count": 49,
     "metadata": {},
     "output_type": "execute_result"
    }
   ],
   "source": [
    "data_subset"
   ]
  },
  {
   "cell_type": "code",
   "execution_count": 19,
   "metadata": {
    "colab": {
     "base_uri": "https://localhost:8080/",
     "height": 728
    },
    "colab_type": "code",
    "id": "RourwUyw2O6K",
    "outputId": "7a235c85-8859-4e2a-be04-d6fc36504078",
    "scrolled": true
   },
   "outputs": [
    {
     "name": "stdout",
     "output_type": "stream",
     "text": [
      "[t-SNE] Computing 76 nearest neighbors...\n",
      "[t-SNE] Indexed 166 samples in 0.122s...\n",
      "[t-SNE] Computed neighbors for 166 samples in 0.222s...\n",
      "[t-SNE] Computed conditional probabilities for sample 166 / 166\n",
      "[t-SNE] Mean sigma: 3.346864\n",
      "[t-SNE] KL divergence after 250 iterations with early exaggeration: 49.097996\n",
      "[t-SNE] KL divergence after 1000 iterations: 0.079486\n"
     ]
    },
    {
     "data": {
      "text/plain": [
       "<matplotlib.collections.PathCollection at 0x20e15bf62c8>"
      ]
     },
     "execution_count": 19,
     "metadata": {},
     "output_type": "execute_result"
    },
    {
     "data": {
      "image/png": "[encoded data removed]",
      "text/plain": [
       "<Figure size 720x720 with 1 Axes>"
      ]
     },
     "metadata": {
      "needs_background": "light"
     },
     "output_type": "display_data"
    }
   ],
   "source": [
    "\n",
    "tsne = TSNE(n_components=2, verbose=1, perplexity=25, n_iter=1000)\n",
    "tsne_results = tsne.fit_transform(data_subset)\n",
    "data_subset['tsne-2d-one'] = tsne_results[:,0]\n",
    "data_subset['tsne-2d-two'] = tsne_results[:,1]\n",
    "plt.figure(figsize=(10,10))\n",
    "plt.scatter(data_subset['tsne-2d-one'], data_subset['tsne-2d-two'])"
   ]
  },
  {
   "cell_type": "code",
   "execution_count": 0,
   "metadata": {
    "colab": {},
    "colab_type": "code",
    "id": "-Dh46riS2P_a"
   },
   "outputs": [],
   "source": []
  },
  {
   "cell_type": "code",
   "execution_count": 20,
   "metadata": {
    "colab": {},
    "colab_type": "code",
    "id": "5Iq1g3brGTq9"
   },
   "outputs": [
    {
     "name": "stdout",
     "output_type": "stream",
     "text": [
      "[t-SNE] Computing 91 nearest neighbors...\n",
      "[t-SNE] Indexed 166 samples in 0.001s...\n",
      "[t-SNE] Computed neighbors for 166 samples in 0.010s...\n",
      "[t-SNE] Computed conditional probabilities for sample 166 / 166\n",
      "[t-SNE] Mean sigma: 2.647841\n",
      "[t-SNE] KL divergence after 250 iterations with early exaggeration: 48.492714\n",
      "[t-SNE] KL divergence after 1000 iterations: 0.069904\n"
     ]
    },
    {
     "data": {
      "text/plain": [
       "<matplotlib.collections.PathCollection at 0x20e15bf6348>"
      ]
     },
     "execution_count": 20,
     "metadata": {},
     "output_type": "execute_result"
    },
    {
     "data": {
      "image/png": "[encoded data removed]",
      "text/plain": [
       "<Figure size 720x720 with 1 Axes>"
      ]
     },
     "metadata": {
      "needs_background": "light"
     },
     "output_type": "display_data"
    }
   ],
   "source": [
    "\n",
    "tsne = TSNE(n_components=2, verbose=1, perplexity=30, n_iter=1000)\n",
    "tsne_results = tsne.fit_transform(data_subset)\n",
    "data_subset['tsne-2d-one'] = tsne_results[:,0]\n",
    "data_subset['tsne-2d-two'] = tsne_results[:,1]\n",
    "plt.figure(figsize=(10,10))\n",
    "plt.scatter(data_subset['tsne-2d-one'], data_subset['tsne-2d-two'])"
   ]
  },
  {
   "cell_type": "code",
   "execution_count": 20,
   "metadata": {
    "colab": {},
    "colab_type": "code",
    "id": "XC1Yrp8dGf-M"
   },
   "outputs": [],
   "source": [
    "a=data_subset['tsne-2d-one']\n",
    "b=data_subset['tsne-2d-two']\n",
    "\n",
    "a=a.to_numpy()\n",
    "\n",
    "b=b.to_numpy()"
   ]
  },
  {
   "cell_type": "code",
   "execution_count": 21,
   "metadata": {
    "colab": {},
    "colab_type": "code",
    "id": "beqzt5BrGiHG"
   },
   "outputs": [],
   "source": [
    "df_1 = pd.DataFrame({'x':a, 'y':b})"
   ]
  },
  {
   "cell_type": "code",
   "execution_count": 22,
   "metadata": {
    "colab": {
     "base_uri": "https://localhost:8080/",
     "height": 419
    },
    "colab_type": "code",
    "id": "5DR_FftSGqq-",
    "outputId": "442f661f-9fcd-4b22-ea79-ce322b4ff605"
   },
   "outputs": [
    {
     "data": {
      "text/html": [
       "<div>\n",
       "<style scoped>\n",
       "    .dataframe tbody tr th:only-of-type {\n",
       "        vertical-align: middle;\n",
       "    }\n",
       "\n",
       "    .dataframe tbody tr th {\n",
       "        vertical-align: top;\n",
       "    }\n",
       "\n",
       "    .dataframe thead th {\n",
       "        text-align: right;\n",
       "    }\n",
       "</style>\n",
       "<table border=\"1\" class=\"dataframe\">\n",
       "  <thead>\n",
       "    <tr style=\"text-align: right;\">\n",
       "      <th></th>\n",
       "      <th>x</th>\n",
       "      <th>y</th>\n",
       "    </tr>\n",
       "  </thead>\n",
       "  <tbody>\n",
       "    <tr>\n",
       "      <th>0</th>\n",
       "      <td>10.664907</td>\n",
       "      <td>-1.457015</td>\n",
       "    </tr>\n",
       "    <tr>\n",
       "      <th>1</th>\n",
       "      <td>8.350887</td>\n",
       "      <td>-5.433869</td>\n",
       "    </tr>\n",
       "    <tr>\n",
       "      <th>2</th>\n",
       "      <td>-4.104690</td>\n",
       "      <td>-13.045743</td>\n",
       "    </tr>\n",
       "    <tr>\n",
       "      <th>3</th>\n",
       "      <td>1.673459</td>\n",
       "      <td>-9.946513</td>\n",
       "    </tr>\n",
       "    <tr>\n",
       "      <th>4</th>\n",
       "      <td>-3.385250</td>\n",
       "      <td>-13.066753</td>\n",
       "    </tr>\n",
       "    <tr>\n",
       "      <th>...</th>\n",
       "      <td>...</td>\n",
       "      <td>...</td>\n",
       "    </tr>\n",
       "    <tr>\n",
       "      <th>140</th>\n",
       "      <td>-5.037815</td>\n",
       "      <td>27.527391</td>\n",
       "    </tr>\n",
       "    <tr>\n",
       "      <th>141</th>\n",
       "      <td>10.803950</td>\n",
       "      <td>-2.190099</td>\n",
       "    </tr>\n",
       "    <tr>\n",
       "      <th>142</th>\n",
       "      <td>-4.477643</td>\n",
       "      <td>28.785713</td>\n",
       "    </tr>\n",
       "    <tr>\n",
       "      <th>143</th>\n",
       "      <td>11.000621</td>\n",
       "      <td>-1.343625</td>\n",
       "    </tr>\n",
       "    <tr>\n",
       "      <th>144</th>\n",
       "      <td>-3.254073</td>\n",
       "      <td>-13.082305</td>\n",
       "    </tr>\n",
       "  </tbody>\n",
       "</table>\n",
       "<p>145 rows × 2 columns</p>\n",
       "</div>"
      ],
      "text/plain": [
       "             x          y\n",
       "0    10.664907  -1.457015\n",
       "1     8.350887  -5.433869\n",
       "2    -4.104690 -13.045743\n",
       "3     1.673459  -9.946513\n",
       "4    -3.385250 -13.066753\n",
       "..         ...        ...\n",
       "140  -5.037815  27.527391\n",
       "141  10.803950  -2.190099\n",
       "142  -4.477643  28.785713\n",
       "143  11.000621  -1.343625\n",
       "144  -3.254073 -13.082305\n",
       "\n",
       "[145 rows x 2 columns]"
      ]
     },
     "execution_count": 22,
     "metadata": {},
     "output_type": "execute_result"
    }
   ],
   "source": [
    "df_1"
   ]
  },
  {
   "cell_type": "code",
   "execution_count": 23,
   "metadata": {
    "colab": {
     "base_uri": "https://localhost:8080/",
     "height": 136
    },
    "colab_type": "code",
    "id": "APt8pZXPHkOC",
    "outputId": "90671bd9-8a78-4f78-8fb5-429c4ddd0d1b"
   },
   "outputs": [
    {
     "data": {
      "text/plain": [
       "array([0, 0, 1, 2, 1, 3, 0, 2, 3, 2, 0, 0, 1, 0, 0, 0, 3, 2, 3, 0, 3, 0,\n",
       "       0, 0, 1, 1, 3, 3, 3, 1, 0, 0, 0, 1, 3, 1, 3, 2, 2, 0, 0, 0, 1, 0,\n",
       "       3, 0, 0, 1, 3, 0, 0, 0, 3, 1, 3, 0, 0, 3, 3, 1, 1, 1, 1, 1, 1, 1,\n",
       "       3, 3, 3, 3, 0, 0, 0, 0, 0, 0, 3, 0, 0, 2, 3, 2, 0, 2, 3, 0, 0, 1,\n",
       "       0, 0, 0, 2, 0, 1, 2, 0, 1, 3, 0, 0, 2, 0, 0, 1, 0, 1, 0, 0, 0, 0,\n",
       "       3, 3, 0, 3, 2, 0, 2, 3, 0, 1, 0, 0, 2, 2, 0, 3, 2, 1, 0, 2, 2, 3,\n",
       "       2, 3, 0, 0, 3, 3, 2, 3, 3, 0, 3, 0, 1], dtype=int64)"
      ]
     },
     "execution_count": 23,
     "metadata": {},
     "output_type": "execute_result"
    }
   ],
   "source": [
    "db = DBSCAN(eps=1.185, min_samples=3).fit(df_1)\n",
    "\n",
    "\n",
    "db.labels_"
   ]
  },
  {
   "cell_type": "code",
   "execution_count": 24,
   "metadata": {
    "colab": {},
    "colab_type": "code",
    "id": "u-CucoZiL3tE"
   },
   "outputs": [],
   "source": [
    "s=pd.Series(db.labels_)\n",
    "d=[]\n",
    "f=[]\n",
    "g=[]\n",
    "h=[]\n",
    "\n",
    "\n",
    "for i in range(0,145):\n",
    "  if s[i]==0:\n",
    "    d.append(df[\"Reviews\"][i])\n",
    "  if s[i]==1:\n",
    "    f.append(df[\"Reviews\"][i])\n",
    "  if s[i]==2:\n",
    "    g.append(df[\"Reviews\"][i])\n",
    "  if s[i]==3:\n",
    "    h.append(df[\"Reviews\"][i])\n"
   ]
  },
  {
   "cell_type": "code",
   "execution_count": 25,
   "metadata": {},
   "outputs": [
    {
     "data": {
      "text/plain": [
       "['there service magr keith is a liar. was charged for a toll to return a loaner car for a warranty transmission problem. was told i would be credited back to my cc. never happened. \\r\\nwould never buy or visit them again. ',\n",
       " 'i just got off the phone with them and they have offered me an appointment 3 months from now, which i would like to say is a rare occurrence, but this happened to me the fist time i tried to have my vehicle serviced as well.(no exaggeration they said 3 months last time as well)the manager told me they are taking care of all of the police vehicles and can not squeeze me in. maybe its me, but customers service should extend to your loyal customers as well as, or even more than, a contract you got from the city',\n",
       " \"whenever my car needs service, i lose it for minimum a week at a time, regardless of what the issue is. i brought my car in back in june to have it looked at since the clips on the bottom of the seat no longer stay attached. we went back and forth on how the warrantee would cover the fix, whether repaired or replaced until finally they stopped calling to update the status. i called at the beginning of september and made my own appointment for october 1st and then spoke to my adviser to make sure it would be taken care of.  he told me it should be really fast and i would have it back 2 days later. october 28th and i still do not have my car back. i had been calling every day for status updates, sometimes receiving them and sometimes no one would call back with the update. i've even tried leaving messages for the service manager, who also does not call me back. on week 3, i was told that the place they brought my car didnt fix it so they brought it somewhere else. week 4 i was told the 2nd place told them it could not be repaired it needed to be replaced. 28 days and my car is still not done. being that i've been trying to get my car there to be repaired since june and now it is october 28th, this is beyond ridiculous. \",\n",
       " 'so my car is in the sevice department for a steering issue for 3 weeks. as of today the service manager anthony fallacaro tells me that they took an educated guess and changed the rack inpinion for the second time. same garbage service since 1989. very unprofessional staff throughout. would never recommend the dealer or ford ever again',\n",
       " 'i’m not sure how to rate the service as of yet! i know i had an appointment for 7:30 am. i brought the car down mind you at 710am. checked car in for passenger seat lumbar. the running board motor that was suppose to be ordered under warrant... drivers side window will not go down it was repaired supposedly and 1 month later broke again after it was fixed under warranty! let’s see if it’s covered even though the warranty ran out! anyway, reason why i wrote this i go back for  my keys i needed that i had left on my ring car was parked in same spot still not looked at! and it’s 2:00pm. i informed the person that i’m leaving for nc this thursday to visit my son who is a marine and i would need it back! i will update my review once i see the out come so far not liking what i’m seeing! last time i took it in i was promised it would be completed i ended up putting parts back on myself! i’m hoping to give it a  5 star review... the ',\n",
       " ' i was swindled into.a car lease that i can’t afford.\\r\\n\\r\\nmy ten year old car was experiencing transmission problems and before i was stranded with no car i decided to trade it in for a 2015 subaru forester for $17000. after the car was delivered to me and my old car was driven away i noticed that the rear hatchback for the trunk was a manual open. this posed a serious problem for me and a deal breaker since i’m disabled and lifting it is very difficult for me.\\r\\n\\r\\nafter some serious thought after six weeks with the forester i decided to trade it in for something more practical for my needs and also receive some of my money back in a trade. i was also uncomfortable spending so much money on a vehicle. so i started researching cars under $10000. \\r\\ni came across a 2007 nissan altima at dana ford here on staten island which was on wednesday may 30 2018.\\r\\n\\r\\ni went to the dealership on wednesday may 30 to test drive the altima which i wasn’t so thrilled with. before i knew it i was in the showroom and they’re showing me a brand new ford fusion, and i kept telling them i can’t afford $27000 if i’m not comfortable with spending $17000 on the subaru.\\r\\nafter much cajoling by the salespeople before i knew it i left with a brand new car that i couldn’t afford. they kept insisting everything would be ok.\\r\\noh, it will be fine!” she said. “we’ll work with you”said another salesperson. “it will be great!” naile said.\\r\\nwell it’s not great for anyone other than the person who received the commission. \\r\\nthis is going to put me in financial ruin!!!!!!\\r\\n\\r\\nthe next day i called them to speak with the manager because i can’t afford this vehicle. he wasn’t in and i was told by the salesperson, naile telic that he would call me friday when he was in. well of course no one called and i called in the afternoon to find out what was going on. this conversation with another manager named juan led to a shouting match. i called again later in the day and reached juan again who also insisted everything will be find after telling him again and again that i can’t afford it.\\r\\n\\r\\nnow its saturday june 2 so i decided to go straight to the dealership to straighten this out. i met with yet another unnamed manager who threatened to call the police on me after telling him that i can not afford this car. another manager came and took me to the dealerships supervisor in which after about a half hour he told me there’s nothing that can be done and i’m stuck with the car. he gave me another 15.000 miles a year and i still don’t have that in writing!! \\r\\nhe also suggested that i can afford $200 a month to pay off the lease. the fact is, i receive $1200 a month in disability benefits. living on that is difficult enough. how thoughtless and cruel it is to even think of that for anyone!!!\\r\\n\\r\\nthey used my forester as a three year “downpayment” and after three years will be financing the remainder of approximately $13000.\\r\\n\\r\\nthe issue is in three years i will be 63 and not finically able to pay off a loan and in no position to do so now either. as i stated previously i am disabled and receive a fixed income of $1200 a month and will not be able to afford to make payments of any kind. so after three years i will not only not have a vehicle but out of all the money i needed returned to me from the forester to buy something much more affordable.\\r\\n\\r\\noh, it will be fine!” she said. “we’ll work with you”said another salesperson. “it will be great!” naile said.\\r\\nwell it’s not great for anyone other than the person who received the commission. \\r\\nthis is going to put me in financial ruin!!\\r\\nnot once were my needs considered.. that the fact that i’m disabled and receiving disability of $1200 a month! that at the age of 63 i’ll have car payments? i honestly don’t know what i’m going to do!\\r\\n\\r\\nthey refused to take the car back even though i called the next day to do so!! who does this to a disabled senior citizen!!\\r\\n\\r\\nnaile telic you repeatedly asked me for a review, here it is! and thank you for acknowledging any of the emails i sent you in which you completely ignored.\\r\\n\\r\\ndana ford and it’s employees have left me no choice but to submit a complaint with the better business bureau and as of monday june 25 2018 i will be contacting the staten island advance. if i get no satisfaction from that i will contact the new york times and every local television news to resolve this.\\r\\n\\r\\ni can not afford this. i want to return the car asap. i need my money back!!!!!',\n",
       " 'i started a lease approximately in december of 2017. not even over 2,000 miles on the car, since day 1, the car has been in service more than i’ve driven it. starting with paint blemishes, and electrical issues, not to mention the occasional downpour that i get inside my car, like i’m on a water ride. back and forth and back and forth, the dealer refuses to fix the issues. instead i’m told that the issues can not be duplicated and therefore cannot be fixed. the owner is nowhere to be found to back up his faulty product. the service manager is unprofessional and rude. i demand that my vehicle be bought back and for me to be treated like a human being as any other paul g customer. i pick the top of the line lincoln so i could enjoy myself and this has been the worst experience and extremely depressing. the only positive thing that i will say is that my service writer deb, who’s no longer there, and chuck, still works there, are amazing people and extremely helpful. let me add - i finally got my car out of service today. after the dealer tells me that they can’t find anything wrong with the vehicle, i go to put my 2 year old in the car with a moldy smell!  buyers beware! ',\n",
       " 'had appt on monday car wasnt looked at for 2 weeks. bought vehicle brand new with 4k demo miles did not realize those miles will be used against me and charge me instead of covering explorer under warranty. courtesy vehicle was given to me then im told im being charged 30 dollars a day for courtesy vehicle. this stealership is terrible never again will we buy another ford 10 more months and we will be returning ford explorer. service manager agrees with us about the demo miles and still does nothing about it. complained to ford corporate and they refused to help as well... beware of dana ford never buy here . the excuse they say is they number 1 in the northeast lmfao , they suck period.',\n",
       " 'my first review was unethically removed, but as my car goes back today (to a different dealership thank god), it\\'s only fitting to walk you through my entire 2 and half year lease from dana ford. i\\'m going to list all my experience in bullet points, as it would come out to a short novel otherwise...\\r\\n\\r\\nday 1 after buying the car, i call to see when registration is being sent: i was told both salesmen quit.\\r\\n\\r\\nsoon after, a tire needed replacing. upon buying the car, i was told my tires and wheels were fully covered for any ford dealership. guess what? they snuck in a 3rd party warranty, forcing me to come back to their dealership for any repairs. \\r\\n\\r\\nlater that year, i needed a wheel replaced. i was told it would take 1 day. 3 days later, they still didn\\'t have it fixed, and i was being lied to by 2 different employers at the dealership. each telling me my wheel was undergoing something different. note: i was a college student, and this was my only car. \\r\\n\\r\\nthroughout the next year, employees i was trying so desperately to work with continued to be fired, leaving me with no connection to anyone in the dealership, time after time and again. \\r\\n\\r\\ni noticed a strange popping sound coming from the steering column of my car, so i took it in to dana (unfortunately). this is where they took the car, and kept it for over a week. they removed the steering column, but could not figure out what was going on... so they put everything back in, and handed me an even more broken car.\\r\\nplease undersatnd where i\\'m coming from. the first day they took the car in, they told me it will be fixed that day. i waited in the dealership for eight hours. i missed a full day of work, and class, and had to have someone pick me up, even though they really couldn\\'t. this is where i met other disgruntled customers, and heard their stories. \\r\\n\\r\\nmy first review on this website ended here, before it was removed unethically.\\r\\n\\r\\ni was approached by the dealership, and they asked me to come in and see if there was anything they could do to help (they wanted me to take down my review). they put me in my car with the \"mastertechnician\" (lol)... we drove around staten island, while he showed me pictures of his motorcycle, and girls he likes (while he was driving).\\r\\n\\r\\ni was asked that same day, oh so kindly, to remove my review. i declined and it was removed anyway. \\r\\n\\r\\nall of this is only the main points that make dana ford a must avoid. i don\\'t care how many positive reviews they\\'re getting. stay away.\\r\\n\\r\\ndid you know dana ford uses their \"new giant dealership\" as a selling point, when someone was actually killed during construction?\\r\\n\\r\\ngoing into this dealership in my early twenties literally changed the person i am today. i simply did not think xxxx of this nature existed in the front lines of local business. i hoped that it was reserved for top tier politicians, and sociopaths, but i was very wrong. \\r\\n\\r\\n \\r\\n\\r\\n\\r\\n\\r\\n\\r\\n',\n",
       " 'multiple unfixed problems.faulty parts sold and unproffesional service.got overcharged for parts installed that didnt work and they broke other aspects while pretending to repair.',\n",
       " 'i had an appointment on 8/11/17 here to see a ford explorer. when i agreed on the trim level i wanted the sales guy spoke with a manager and came back with a price of 825.00 a month. i have a+++ credit and currently lease a denali for 598.00 a month. they were not willing to work on price. i went to the ford dealership in brooklyn and got the same explorer for almost 400.00 cheaper a month.',\n",
       " \"took my car for repair on may 17.  after about 6 weeks, car still the same and not fixed. charged me for idler pulley and alignment, but original problem still not resolved. after contacting ford corporate offices, dealer seemed pissed off and didn't return calls .  so picked up my car june 24 and took it to another ford dealer. tom's ford diagnosed problem in transmission and quickly repaired car.  avoid dana and take your car to a real dealer\",\n",
       " 'such a disappointment!\\r\\nall workers at this dealership have miserable attitudes and are either poorly trained or simply hate their jobs....maybe both! management seems unaccountable as well!',\n",
       " 'worst service department! shut my business down for three days for a minor fix! had to go pick up my truck without getting fixed! and i had an appointment . and its a brsnd new van bought three months ago from them',\n",
       " \"besides the fact he's very unprofessional and has zero ability to communicate with potential customers as he acts like a typical loud mouth, liar, who thinks he on the corner talking to his friends instead of in a professional business representing not only the dealership but lincoln motor group. . if you have the unfortunate opportunity to meet this clown, you will see how he lacks the ability to communicate as a manager. a manager is expected to work with his sales team and the client without telling you outright lies. this does not speak for the entire staff at dana - lincoln. i cancelled the deal because i refuse to deal with someone who is disrespectful and condescending. if i'm having an issue before purchasing the car, imagine dealing with him after i obtain one. not worth the headache, go someplace else! \",\n",
       " \"i had a problem where my park assist feature malfunctioned and my wheel well caught the tubular bumper of a commercial van and dos slightly damage my 1 month old car. dana was of no assistance diagnosing or fixing the problem. they wouldn't even talk to ford corporate for me. now the won't return my phone calls. but the free coffee is great. \",\n",
       " 'beware worst experience i\\'ve ever had buying a car. \\r\\n\\r\\ni was lied to about the date the car i wanted was supposed to be arriving on, bear in mind i had put a deposit down on this car so i was serious about purchasing it. for over a month i was given the run around about when it was supposed to arrive, but i finally decided to just take one of their stock vehicles sitting on the lot because they already had my money from the deposit for the car i actually wanted and there was no clear date when it was actually going to arrive at the dealership it was \"in transit\" for over a month according to them.\\r\\n\\r\\ni must have been over to that awful place 5 times in total, each time i went it cost me $17 in tolls, plus gas, and the time out of my day. they never reimbursed me for my tolls and the staff are shady as anything - they\\'re more interested in being on their phones than helping you and they\\'re clueless about anything you ask them. i was told originally my payments would be so much a month, but then when i actually came in to sign the papers the price had magically gone up $90 a month for the same car. \\r\\n\\r\\nhonestly save your money and go to any other dealership, this place caused me so much stress and i feel like i was robbed. i would never recommended this place to anyone.',\n",
       " \"leased a 2015 ford edge with tom annuziata. lied about rebates, never received money we were promised. customer service rep & manager don't return phone calls. would not recommend this dealership to anyone. unethical and deceitful sales practices happening here. \",\n",
       " \"i really don't know where to start... first i went to dana to get a pre-owned ford e-250. i got a 2014 with only 14,000 miles on it. it broke down in the middle of manhattan the very next day, we had to get towing to take it back to dealership, however towing company was trying to make me pay for towing even though i had extended warranty!!! the car was towed by certified towing company not to the dealership as it was supposed to be but to a parking lot overnight!!!!!(4pm it was picked up). not only the back of the car was scratched by them but nobody wanted to pay for  fixing it!!!! it only got worse from there. we owned the car for 3 months it was in the service for 29 days!!!!!!!! finally when we took it to the service the last time we got rental and dana was supposed to pay for it but they never called that our ford is ready and they cursed me when i asked if the roof they were supposed to paint was done!!!!???? jeff( service guy) claimed they need separate authorization and i need to return the rental and wait a week to get authorization for roof paint!!!!!!( roof paint was a screwed up job by dana before we got the car,after first car wash paint came off). i told them my car is staying in the service until everything is done and they will be paying for my rental until i get my car back. it appeared i was left with $750 bill by rental place!!!!!!!!!!!why  did i have extended warranty for? when finally i visited dana with my lawyer they decided to trade in my car for a brand new ford transit! great except  my $10,000is gone right there. the car traded in was actually returned with no money back and i had to pay extra $10,000 as they told me it will go for paying off the bank percentage! bs!!!!!! it was supposed to be $3500 not $10,000!!!!!!!!! also all i got returned was money from extended warranty!!!!! seriously please be careful with those people! john daley and jeff especially! i am changing my dealership and service! they don't do anything right and they are being rude and curse ladies(my wife) on the phone when she tried to calm down the situation. be advised!\",\n",
       " 'reason for visit was fool odor coming into my car through hvac vents on top of that my wife that is 8 months pregnant was getting nausea from odor and could not stand driving the only reliable vehicle we have!!! from initial greeting it was horrible, i was told my car couldn\\'t be seen for at least a month. then when i spoke to a manger at service area he told me there was nothing he could do for me and that \"there is no way dana is going to go in there pockets to fit bill for a rental\" . so i left drove straight to bay ridge ford which i highly recommend and vehicle was taken inspected and to find out that ptu was completely destroyed they found chucks of metal in the unit. i was given a rental from bay ridge and said it would be ready tomorrow that they had the part in stock!!!! thank you dana ford for being no help what so ever!!!!!!                    sincerely, \\r\\n                                                     disappointed ford consumer!!!!',\n",
       " 'worst experience ever! do not buy your vehicle here. \\r\\n\\r\\nwhen i came into the showroom i was treated well and shown many different model cars. the salesman and manager, glen, both showed interest in helping me purchase a vehicle. once i signed the deal and got the vehicle, it was down hill from there. dana ford staff refused to honor the many promises that were made to me by the sales staff. they claimed that the salesman had no authorization to to offer the stuff that they did. even small things, such as getting plates, they refused to do. the staff turned into hostile enemies and refused to return my calls just to get things that were promised to me.\\r\\n\\r\\ni will never ever purchase a vehicle here again. stay away!',\n",
       " \"having issues with my front tires for months. i have 2 bent rims and for 8 months the problem hasn't been solved despite the fact that i purchased their highly touted tire and rim care warranty. every time i go in i get the run around from so many different employees. i just want my issues resolved. i purchased a performance vehicle, but am unable to enjoy it due to the flat tires i wake up to every morning.\",\n",
       " \"i saw an 07 lincoln town car online back in january or thereabouts....looked very nice.i called,talked to mike who assured me it was a very clean well kept car.mind you,i live 225 miles away. i decided to buy the car.well,low and behold,there was 3 inches of water on the floor in the back,more in the trunk,leaks all over..not to mention the power driver seat was broken,the side view mirrors did not work,the back passenger side door lock was also broken.on top of all this,they didn't even bother to wash the xxxx thing!i can tell when somebody washes a car as opposed to going over it with a wet rag!the total experience involved several  round trips at 450 miles, gas for 2 vehicles...tolls up the wazoo...etc etc.needless to say,i wouldn't wish this place on my worst enemy!they are a bunch of incompetent liars. i was so disgusted i could not drive the car so i traded it in.\",\n",
       " 'dana ford prides itself on being ny city\\'s number 1 dealer, clearly an ambiguous term. they are the only game in town (staten island), hence their sales, & leases reflect this. they certainly work the \"hard sale\" on you & tony donato tried to browbeat me into buying a new car when my intent and budget was for a vehicle one year old. wait, it gets worse... the service department has my car a month now, and has given me every excuse imaginable why the warrantee covered repairs have not been completed! lie after lie about parts being on backorder when fordparts.com assured me, they were available! in defense of matt lopez, i feel for this young man... he is obviously being directed by  management to stall and delay this repair work. he has probably been threatened with the loss of his job unless he \"plays ball\"... there is no way he would be this ignorant without being under duress. my only explanation for all this is, i did not purchase the vehicle from dana ford. i\\'m sure jim cognetta the owner wishes to take care of his customers first... this is understandable. i can understand being pushed to the bottom of the pile, but a month???? c\\'mon really! ford motors even reimburses dana ford for the work, but apparently this doesn\\'t matter to them. ford customer service is the only one who got the ball rolling on this. case in point... dana told me the part i needed was, \"not in stock at any of ford\\'s warehouses in the entire country\" and gave me a printout showing no inventory. lo & behold, after giving the complaint to ford customer service, the part magically appeared at the dealership that day when just 3 days before, there were none... in the entire united states!!!! really????!!! did they hire david copperfield in the parts department ?!!!  to say their behavior is disgraceful would be an understatement!!!',\n",
       " 'fianance manager sold me wheel an tire insurance said it was easy as pie in out they swap wheels out with any problems bent two wheels after having truck for 2 weeks spent 2 months trying to fix the problem for will not warranty wheels they will only repair manager never said anything about repairing said would swap out easily said insurance would also cover after market wheels low an behold service dept told me that wasnt true asked for a refund for insurance said it cannot be done until end of the lease when it clearly states on contract that refund can be made spoke to general manager doug hansen  said he cant make me happy said i wasnt satified and was going to fill out survey terrible which is what they deserve an that i was gonna call ford directly he said its a waste of time and its gonna go no where and hung up phone real good way to get customer satisfacton when i got truck it was dirty an missing radio anntenna great way to deliver a brand new 55k dollar truck i wouldnt send my worst enemy to this dealership they just wanna sell you everything an not care about you later and i am a person who buys a minium of 5 cars a year i am going to trade this truck in somehwere else as soon as possible just so i wont have to deal with this dealership ever again dont care what it cost these people are crooks an do not kno how to deal with customers how they are still in business is beyond me the other day i brought truck in to be seen by ford adjuster and they gave me a loaner car and they made that out to be like they were doing the world for me it was filthy disgustingly dirty i barely wanted to get in it the finance mangers name was steve and service manager rich also did nothing to help this matter they all made it like they were doing me a favor by selling me a car concluding this was the worst car buying an service expierence of my life and ive owned over 50 cars in the last 13 years and was never treated like this in my life stay away from this dealer bad news better off going to jersey ',\n",
       " 'awful dealership. i would rather not drive then buy a car from here. \"new\" ford edge was given to me with 200 miles on it, an empty tank of gas ( yes the gas tank was actually on e), no floor mats, and the car was filthy. dealership refused to fill up the gas tank, after fighting with them they told me to come back another day when i came back they refused to fill it saying someone had to go with me to the gas station and no one was there that could. every person that works in this dealership has an awful attitude will never step foot in this dump ever again. ',\n",
       " '(leased the 2008 mariner premier)  i traded my 2002 windstar they gave me $8500.00 for a lease and jacked up the price of the car from msrp of $29860.00 to $34000.00 i was there for 3 hours before getting the car and didnt realize what i had done, my wife and i liked the mariner and thats what happens when you like somthing so much.  dont trust them they are nakes waiting to pounce on the first mouse they see.',\n",
       " 'brought my mustang in under warranty for an abs light that was on.  took three visits to finally fix the problem, thanks to my troubleshooting.  how many abs modules are you going to order and install before you figure out that the module may not be the problem!!!\\r\\nalso brought the car in for a clutch replacement under warranty.  ended up not replacing anything becuase i later did the work myself and saw the original clutch.  but they gave me an invoice and 50 miles on the car...fraudulent!!!\\r\\n\\r\\nstay away, very far away!!!',\n",
       " 'i purchased an 01 mustang convertible certified pre-owned from this dealer about 8 months ago.. it has been back to the dealer 5 times for various problems and is going back in a 6th time. they have already replaced the computer and replaced the brakes (which were supposed to be replaced upon the cpo inspection). i wouldnt let these people mow my lawn. stay away from them. their sales people attempt in every which way to rip you off and their service people need a few more years training. it took them 3 trips to the service center and 6 hours of screaming before they found the problem with the computer.  previous times they said \"there is nothing wrong\". horrid.. just horrid..',\n",
       " \"brought car in for a recall on the steering linkage. when fixed, i noticed the temperature gauge was way over in the red zone, the check engine light was on, as was the temperature warning lights. car was pinging and boiling over. was told the porters drive the cars and don't know anything about cars. wanted to charge me $700 for a cooling fan. puhan and fallacaro were of no help. is this how you treat a customers car? give it back to the customer overheating? ps the steering linkage is still acting up....their answer? leave it, maybe  you need other work done to it. be forewarned, these guys are incompetent. go elsewhere.\",\n",
       " \"be forewarned...do your homework. know what the going price of your vehicle is before you go in or better yet, find another dealer. i can understand them trying to sell at a higher price, that's called negotiations. my concern is that they lied about what they could do, about what i was entitled to from ford as far as rebates, incentives and interest rates i qualified for. the sales associate was helpful in showing us their inventory, but the manager lied. go somewhere else.\",\n",
       " \"considering i had been to numerous dealerships over the last few months trying to decide what car i wanted next and when i finally settled on the 2012 ford mustang at first i went to dana ford since i live in staten island. in my opinion, what a mistake that was, they're sales reps that i dealt with were very cold, used poor sales tactics and were not willing to work with me at all in helping locate the car i wanted. they tried to tell me that they did a search and that there were no mustang base v6 models in black or kona blue in the entire northeast region and that i would have to special order it and it would take 6-8 weeks to get it in(later found out from another ford dealer that there were actually 14 car they met what i was looking for within about 100miles). they then proceeded to push me towards a higher end mustang because they had it on the lot and it was a model that cost more and was a color i didnt even like, not to mention they gave me an inaccurate price quotes. they started with a price of $414/month with $2000 total due at signing. i asked if he could work with the price and then all of a sudden comes back with a price of $327/month for the v6 premium model with only adding about $350 on top of what he originally said for a down payment and when i asked how go the price drop dramatically by $87/month he said it was due to a competitive leasing because i had a honda lease that i turned in over 6 months ago. but as it turns out the competitive leasing rebate from ford is only $1,000 credit which would only really drop the price by about $20/month not to mention according to ford's website i wouldnt even qualify for that rebate because you have to had just returned or will be returning another lease within 30days. then before i left they brought over the manager to try and tell me i should make a decision quick because someone else just took it out for a test drive right after me which was b.s. because we only had just returned with the keys. so after a horrible experience there i search the nearest ford dealers and came across tom's ford lincoln. what a complete 180 turn from the experience i had at dana ford. in my opinion i highly recommend making the short ride over to jersey for a better buying experience.\",\n",
       " 'michelle is absolutely rude and she huffs at everything said to her. she made the whole service unpleasant and she argued with my warranty company over minor things which made my wait longer. ',\n",
       " 'i went recently to the service department and it was terrible.   they had my car for 5 days and did nothing.  the service agent apologized on the 5th day because one of the mechanics must have left my car on the side.  ',\n",
       " 'i would have given them 0 stars if possible.\\r\\non november 25th i experience my worst car buying experience ever.   after only looking at one vehicle and driving it(took a total of 20 minutes), i told the salesman that i would like to proceed buying that one(2011 ford f150) ..keep in mind i did zero haggling...i specifically asked not to have my credit ran as i was going to go through usaa.  i was seated in his \"office\" area in the lincoln side.   i do not know the name of my salesman because he quickly told me he had a sickness and the he had to leave.  he turned me over to someone else who was supposed to help me. before he left i asked him to confirm that they received the loan paperwork from usaa as it was being faxed.  i never heard back from him.   i was asked however to move from the lincoln office to the ford side by  a different person.   i was in one of the sales cubicles for ford for about 10 minutes when yet another salesman asked me to move to the \"bullpen\" area.  i said sure, but...can someone please confirm my usaa paperwork made it through.  they said they would check and escorted me to the bullpen area.   never heard back from that gentleman about usaa.   about 30 minutes later a finance guy comes up to me and says that he can beat my usaa rate...i found this odd since he surely never ran my credit report since i specifically asked them not to...but bottom line i said \"no\", i would feel better just using usaa.  (later i found out that they ran my credit report 10 times completely hurting that part of my score).   \\r\\n10 minutes later the finance person comes back and says that if i go with the usaa method, i won\\'t be able to buy the car today.   i found this really absurd and told him \"fine, i guess your dealership is the only dealership that has this dilemma\" and i prepared my stuff to depart.  a finance manager quickly found me and said that \"yes\" they can do the usaa method.   i then stayed in the bullpen area for another 2 hours straight with no one even checking on me.  no tv in that area...just tables and chairs where i got to hear salesman talk to other customers about their private stuff, a dana salesman complain to another salesman for about 20 minutes on the fact that he wasn\\'t doing anything that day because he heard he was going to get fired anyway....at this point i decided to go get something to eat since it didn\\'t look like they were going to get to me any time soon, so i packed up my things to go eat...in which a salesman came running after me when i made it outside and told me \"they had been looking for me because i was next\"...yeah right.   i could then go on to add they stupidity that followed based off the insurance that i had already switched over....but why bother.\\r\\nso here is the rest of the story.   they never properly submitted my paperwork, sent me the title.  i now have the truck, the title, but nooooo loan.   i found this out when i tried to pay the loan that doesn\\'t exist.  so on the 26th of december i called to have this rectified.   i called the first time, no one called me back.  i called the second time, got ahold of a sales manager who was suprised by the situation, and was going to get back to me quickly.  two hours later, i called back because i hadn\\'t heard anything.  the receptionist told me that the same sales manager said he knows about the problem and will call me back.  it is now the 15th of january...and i have still not recieved a phone call.  are you kidding me!!!!\\r\\n',\n",
       " \"let me start off by saying i never complain about service anywhere and quite opposite, i will call owners, managers, etc of businesses i deal with just to tell them i was happy with whatever i received. but with that said, never in my life of purchasing 6+ cars has there ever, ever been such a horrendous experience. without going into the full experience, i was purchasing their highest end truck when i confirmed several times that it was a 'limited edition' they were bringing in from another dealership, but something didnt add up since the sales girl (no longer there) told me she researched the car and it was not. all my internet searches supported the same. i wanted confirmation via the window sticker that the senior manager initially told me he couldn't provide since it was a truck they were bringing in. once i told him i would not purchase it there if i couldnt see a sticker, miraculously he faxed one over to me in about 10 minutes but forgot to remove the other dealerships name from the bottom!! of course, i called that dealership and they said 'no' it was not the limited. once i politely confronted him, he got indignant and hung up on me. would you want this person helping you or representing  your business?\\r\\n \\r\\ni then went to flemington ford in nj (had the best experience of any dealership i have ever dealt with) as several people on the island recommended them and after exhaustive research they were able to find me one. after a few months, my car needed a simple update to the map/direction system so my flemington sales person said it was really standard so to bring it here. it took 3 days and came back with scratches on the front bumper. couple that with it covered in mud outside and in the drivers seat and my tire pressure light on i was outraged, yet remained calm. bottom line is i brought it back again for body shop work, cleaning and to reset the tire light i told was just a computer adjustment. 3rd time there, scratches were fixed, car filthy and light still on. once again, i was apologized to for the dirt and they would send somebody out to pick it up and bring it back which didnt happen for two weeks. following this i brought my car to a gas station only to find that a visible nail was in my tire, hence the reason for the light. 4 weeks later they have finally fixed the tire and have cleaned it!! seriously, i have heard horror stories from people on the island which is why flemington (on average) sees 1 person a week from here!!!!! \",\n",
       " \"buying a car there is a pleasure, we have two cars and one truck brought from dana ford, staten island.  good luck getting it serviced in a timely manner.  no concern for client's time. pitiful. waited two weeks for a tire.  called and told to bring truck in - no tire.  went home.  called again and went saturday 7:15 am and.....no tire came in.  if it wasn't for all the acting out, i would of never got the tire.  they went to bridgewater nj to get a tire.  waited 5 hours!  will be trading in both cars and ford truck for another dealership.  will never go through nonsense again!\",\n",
       " \"i stopped buying from this dealer 25 years ago because of shady practices, i thought i would give it another try.  after unnecessary difficult negations i purchased an explorer xlt and returned one that i was leasing.  when i picked up my new car there were chips in the paint which they could not fix at the time.  i was not shown the vehicle's functions.  lastly three weeks later ford credit deducted the last payment for the previous lease because dana screwed up the paperwork.  this is supposedly the largest ford dealer in the northeast, i can't see why.\\r\\nonce your name is on the sales board you are invisible. \",\n",
       " 'i purchased a certified pre owned 2013 ford escape from here almost two weeks ago. at first the service seemed great but upon leaving the lot the window on the car i just purchased didn\\'t roll back up. i was told to come in 2 days after to have it fixed. after driving from nj to staten island the part wasn\\'t available yet and i had to drive back home and was told it would be available 3 days after. when i called 3 days after the service department told me i had to make an appointment for the following week?! after being transferred and called back several times i had to work around they\\'re schedule in order to have my car serviced in a timely manor. after 5 hours the job was \"done\" they supposedly detailed the car but they\\'re terms of detailing and mine must very different. now 2 weeks later i find i was sold a car with so many problems. a leak somewhere causing the antifreeze to leak, the windshield wiper fluid tank is cracked, and none of the fluid were topped off before selling the car to me. i think it\\'s ridiculous this dealership would sell a car to someone as certified preowned and not service the parts of the car that needed to be fixed before selling it to a customer. thank god its covered under warranty and i can take it to any ford in nj rather than having to drive it back there.',\n",
       " \"i hate this service department.  i made an appointment to bring in my car on tuesday.  i dropped it off on monday night.  i had to call them on thursday to find out what the status of my car was.  they finally said it would be ready on friday afternoon which it wasn't.  now they said it might be ready on monday.  this place is a joke.  they are worse then island ford service which is hard to believe since that place was a joke.\",\n",
       " \"they first xxxxx me on the price of the piece of xxxx  2016 pre owned ford focus for $26,000!!!!!!!!!!!!!!!!!!!!  the car had 2,700 miles on it...i didnt' know any better at the time and signed,....  i've had multiple problems with the car.   cracked steering column that was seen after i drove the car off the lot and still has not been fixed, 2 years later they are still waiting for the part...the water pump went in the first year.... the most recent was the car was hitting over 1500 rpm's while in park ...  i brought the car in on nov 15th, they told me they were too busy and the car was ok to drive and that i should call and make appointment, which wouldn't be available for about 6 weeks.... the following week 11/21 the check engine light went on so i bring the car back and told them i will not take this car until it is fixed...i was then informed the car was being recalled for a faulty fuel system...  the recall was dated 2 weeks earlier from when i originally brought the car in.. no one told me>>>>>  so they keep the car and tell me it will be ready in a few weeks...they  it for 8 weeks, the car still runs like xxxx, and im stuck with it a lemon that i owe 17,000 on still!!!!!!!!!  ive been dealing with this dealership for a while and can tell you the people who run are thieves...they try to rob you blind from the minute you walk in the door... they treat their employees terrible which is why every time you go there its never the same people...except management..they are all the same..  buyer beware...  you've been warned,,,\\r\\n\",\n",
       " 'i have waited almost 7 weeks to write this review because of issues that i had and still have it with my 2012 f150 3.5 platinum. my hell started during the purchase process, dana ford in staten island did a great job to make my life miserable during this whole process. i purchased my truck on friday and i made my decision based on reviews found on the internet about the f150, i tried a couple dealers before the purchase and finally made a decision to get it at this dealer because i found the one i wanted there. during the purchase process we reached an agreement and the truck was delivered to me with out the proper delivery process, the salesman and managers kept telling me several times about filling out this survey ok or excellent for them. i received very little information about the truck; they didn’t explain all the truck features or worse the specifics about it. when i got home the first thing i found out was the truck was larger than the one i traded in (toyota tundra limited) and i couldn’t close my garage and got very upset because i found out that night that this one was longer than my previous truck, i felt it during the ride from the dealer in new york to my house in new jersey. very unhappy about it i made my own internet research and found out the truck comes in different sizes like 145” and 157” long and comparing to my old one i needed the 145”. when you spend a lot of money on a car, you want to get what you paid for and you want to get what you want and the truck that makes you happy, this wasn’t the case for me with this truck because it felt longer and it wasn’t the one i wanted. i made the wrong decision to go back to the dealer and get the truck i wanted, the 145” that’s the truck size i been driving the last 5 years for almost every day. back at the dealer with 54 miles on the truck odometer, the salesman and the sales manager, first thing they did is to look for a way to take advantage of the situation and tried to get more money from me. after i checked others f150s with different specifics and one with a lower price of about $ 1,200.00, they proposed to me to sell me the new one and trade the one i got the day before with 54 miles on the odometer and pay them on top 2,800.00 to get the 145” size truck. i got very upset because in the way they wanted to do business with the newer truck they were clearly taking advantage and telling me in my face that i was stupid, that’s how i felt and that’s how i still feel.\\r\\nafter all discussions making the deal, which in the first place i thought they would just exchange the truck for me and any money difference will be paid either by me or by them depending on lower or higher price of the new one. they sold me the $ 1,200.00 lower price truck at the same price for my first purchase, so i knew i was loosing that money, having me in a place that i didn’t know what to do with a truck i didn’t want, i accepted to buy the 2nd. truck, very, very unhappy i signed the papers and drove home with the other one. they did the same thing with the second truck, gave me a pre-filled delivery truck sheet with all the options crossed out saying the truck is ok, repeatedly saying to me “to make sure when i get the survey i should fill it with all excellent for them because depending on that survey will be the salesman’s payment “. when receiving the truck i found the leather of the console top in the truck was scratched and asked the salesman to be addressed at what he immediately responded they will order a new cover and replace it, the salesman brought his customer relations manager to take a look at it, then he affirmed that they will put a new piece on and they will call me to schedule it.\\r\\nwaiting for almost a week i made a decision to call the dealer and ask for the console cover and also talk to them about what i found on the truck tailgate. the platinum f150 tailgate cover was coming off on one corner, i spoke to the salesman and the first thing he answered to me after listening to my complain about the tailgate is saying “ that is your responsibility because the truck has been with you for almost 1 week”, unfortunately not the best professional answer for a customer. anyway i made an appointment to bring the truck to the dealer to check it, but before my appointment the truck steering wheel column started to make a grinding noise, a clear sign that something is wrong with it. i came to the dealer and spoke to the salesman about it, they were not happy that i was complaining and bringing something new to the table. a technician checked the truck and agreed that something is wrong with the steering wheel column but proceeded to tell me that i should wait a little longer and see if the noise goes away and that they will check it again on the day my truck will be on service for the console top and tailgate cover. made an appointment for the following week to change the top of the console, fix the tailgate cover and check the steering wheel column again. basically they gave a very hard time to fix my truck, they never called back when they said they would, they wanted to do touch up work on everything since day one, wanted to buff up my console cover, they patched tape the tailgate cover and they didn’t want to fix the steering wheel column they told me that i should have some tolerance on this issues because every truck and car always will have some imperfections. after many calls to ford customer relations team i had the luck to talk to some people who helped me one way or the other, cynthia mcgregor helped a lot and i thanked her, but sometimes even for her this problem got very difficult. after all this complaining, they finally changed the console cover, they replaced the steering wheel column but during this work in the shop they scratched the 2 covers of the steering wheel base, scratched my truck left mirror and front bumper. lastly this last week i had to insist and try to get my registration and plates ready because i been asking all these passed 5 weeks but they didn’t have my name on file either, that’s what the ladies at that department said to me when they were asked for my papers and plates from me. it took almost 6 weeks and my calls to cynthia (manager from customer relations team), for them to get it ready but i have argued many times before with kendra and the other authorities at the dealer to get my truck registration and plates ready. she even hung up on me on the phone once because they couldn’t keep their promises to have the registration and plates ready at the day they said it would be ready.\\r\\nlast week i brought my truck to have the steering wheel cups replaced because they scratched it when replacing the steering wheel column, they also replaced the tailgate cover and sucked at it, they installed the new one incorrectly because now i have the same issue on the opposite side of the tailgate cover (left side). lastly one of the sales manager had the audacity to come to me and confront me asking “why i have given them a bad survey, because the only thing he had done for me was help ” that shocked me because i wouldn’t expect that from a manager (i found out his name is juan and he speaks spanish, i don’t know his last name) because he would be the right person to know what their errors and mistakes were with me when purchasing the truck and with the dealer customer service.\\r\\nmy truck tailgate still looks awful with factory quality control issues, but one thing i’m sure is that never, never in my life will i go back to this dealer and buy a car from them. because for me to go through this hell, it has been a huge nightmare and i don’t want anybody to pass it, i have been aggravated more than too many times during all this process, they disrespected me not doing/fixing things on time and in a professional manner what they had to do in the first place. they didn’t try to do what they promised to do, of course they did something but they did it because cynthia and myself had to be there to push them to do it.\\r\\njust to let you know how un-professional they are i’m going to let you know that this weekend when having my truck washed at the carwash when the truck was getting dried, the tailgate rear ford emblem fell off, at this point i didn’t know if i should scream, cry or just pray to god for better days for me with this truck. for your information rich at the dealer shop showed me that they will need to take a part the tailgate to replace that cover and that’s what they did, i saw it with my own eyes because i was brought to see part of the process, i saw they took the emblem off and other parts too to install the new tailgate cover but when they did this, they broke the emblem tabs and to put it back they just pushed the emblem in but the emblem never was going to hold on to its base because the tabs were broken, it held it a little but not enough to support the wind coming from the carwash blower. now the emblem is all scratched off because it fell on the carwash track chain.\\r\\ni will place reviews of this dealer on all the places i can like google and other search engines, because i do not wish for other customers to get what i got in this dealer. the last thing i would like to say is that i hope ford comes to me and calls me to get all these issues resolved but it will have to be at a different ford dealer, i’m not coming back to this dealer again in my life.\\r\\n\\r\\n\\r\\ngood bye\\r\\ndana ford lincoln\\r\\n',\n",
       " \"waited for two hours for an oil change when i had an apt set.  not only did i have to wait a long time but they were not so nice about making me wait so long.  they told me they thought 2 hours was a compltely accpetable amount of time to wait and i would have waited even longer if i had a honda.  to top it off they were going to charge me $100 for an oil change.  i should have gone to jiffy lube and got an oil change for $30 and waited 20 minutes.  i love my mkx but don't think i would buy another one becasue the service is just so bad\",\n",
       " \"tired of constant recalls every time i purchased a new car.  service is slow.  salesmen dull.  constant e-mail and phone calls when they think it's time for your next purchase.  registered complaint with corporation.  no satisfaction.  salesman stated he was trying to meet sales for the end of the month.\",\n",
       " \"i called about bringing my 12 mustang gt in for a recall service. they said bring it in on the 18th of april (i called on the 10th) so they could make sure they had the part ready to go. not only  didn't they have the part, but there were some other warning lights on that they were supposed to look into, which they could have looked at while they waited for the recall part and didn't. long story short, they had the car 4 days for 1 1/2 days worth of repairs.then they try to make lame excuses. unfortunately i know cars and computers and i called them on their lies.\",\n",
       " 'after bringing my car in to dana ford service on thursday february 11th i received the car back on wednesday february 17th. all that needed to be done was tire pressure sensor reset, horn to be fixed, and noise when turning the steering wheel. i called several times for updates and was promised a call back on more than 5 occasions, finally on the 6th attempt i received a phone call back, this was over the course of 4 days.\\r\\n\\r\\nafter finally getting my car back and getting home, i noticed that the bumper wasnt fully on. they forgot to put retaining screws into the wheel well liner and under the bumper causing the liner to drag and scrape my tire. after calling about this i was told to come in within 30 minutes and it will be taken care of right away. i came in and was told it will be an hour or two to put in the 6 screws missing. i said thats ridiculous and asked them for the screws and that i would do it myself. they happily provided me with the screws and i laid on the floor in the service center screwing in these screws by hand.\\r\\n\\r\\noh and they promised that the techs checked the fluid level but the anti freeze was never refilled so i had them do that when i came back as well. \\r\\n\\r\\nin summary this experience was on the level of some shady mechanic and not something one would expect from a dealership.',\n",
       " \"the day i purchased the vehicle was a great experience. it was what happened after i got the car that made this an awful experience.  i purchased the car in mid-november and it is now late december and i still have not received my permanent license plate and registration.  about once every week since purchasing my car, i was contacted by a customer rep to make sure i completed the dealership surveys with great reviews (which i did) and each time i asked about the status of my plate.  i was consistently told that it wasn't in yet, but could take up to 45 days.  when i was contacted last week, i asked about the plate and registration and i was told to call back at the end of the week, which i did.  it was on this phone call (2 days before christmas) that i was finally told my paperwork was still in the dealership and that they needed 2 copies of papers from me.  not once was i informed of this during previous calls.  the paperwork had been sitting in the dealership for 5 weeks and had not yet been sent to the dmv.  my temporary license plate was issued on nov 16th, so it is due to expire in a couple of days.  after speaking with the pennsylvania parking authority, i was told that if stopped or ticketed, my car would be taken if the plate was expired.  i also could not renew the temporary parking permit i have been getting to park in the city while i wait for the permanent plate to get a yearly pass.  i am now stuck with no parking permit and risk being ticketed or losing my car while i wait for the dealership to finally put the paperwork through.  i was told there is nothing they can do until they get the plates in and that there was just a lot of paperwork that needed to be done for an out of state registration.  i can understand that it takes a little, but that time is on top of the 5 weeks they did nothing about my paperwork.  i also wonder where the representative was looking when i asked about the status of my plate every time she called.\",\n",
       " 'my experience here was not good. recently i was trading in 2016 explorer limited and knew i wanted the new sport edition. knew going in what the price per month i would be dealing with since i have leased many times before (not my first car guys). well anyway, the price that the guy behind the glass came up with was totally outrageous and when i called him\\r\\nout on it he just made me feel uncomfortable. kept telling me what a great deal i was getting and what a huge favor they were doing for me. i didn’t like the vibe. it was very pushy. even more than your typical dealership. the manager definitely lost me when he was telling me i had to purchase the car that day or else it wasn’t going to help them. (it was was last day of the month.) um news flash guys- customers do not care about your sales. they care about what they can afford and what is going to benefit their budget. could not care any less about how many sales dana makes. just want to walk away in a nice car- without getting ripped off.\\r\\nrich harley (sales) is nice- very patient and will drive through the entire lot of cars for you. he should get out of that dealership!\\r\\nprice was outrageous! went to all american and got the same exact car nearly $90 per month cheaper! great experience there-would recommend! ',\n",
       " 'they overcharged my credit card - admitted the mistake - claimed they refunded my card and never did..  at the time they actually produced a paper showing they issued a credit - which they never really did.\\r\\n\\r\\n',\n",
       " \"i am sorry that i ever wrote a positive review of this place.  while my salesman was excellent, the staff at this dealership are severely lacking in clerical and customer support skills.  i phoned two weeks after my purchase to ensure that my registration documentation was properly filed (i do not live in ny), and they told me that there were missing items.  that's right, i had to call them to find out that some documentation was missing.  what was missing?  a copy of the back of my driver's license, which they could have easily obtained at any point.  that, and they mentioned that the effective date of my insurance was wrong.  to recap, they made the phone call to organize the insurance change.  this is all after an e-mail the day after my purchase to double check that they didn't need anything additional from me.  i needed the registration process to be expedited, as my neighborhood is resident permit parking only.  now my registration is delayed another two weeks, during which time i cannot park in my neighborhood.  to make everything more frustrating, everyone i spoke to on the phone was pretty rude, and didn't really care about taking care of me.  i mean, what do they have in it?  they already sold me a car.\\r\\n\\r\\nas a side note, rich was a great salesman.\",\n",
       " \"i had a 2011 ford escape limited in 4x4 which i leased from dana. my lease was up so i went to get another one.i told the salesman i wanted a 4x4 like my last one he asked if i would consider a fwd i said no we made a deal i asked the salesman if it was fwd or 4wd  i wanted to be sure i was told i was told 4wd, as a matter of fact the salesman told me over and over how i was getting so much more truck for the same price. well as it turns out less than a week later we get some snow, i jump into my truck and proceed to get stuck, now that never happened with my old truck so i dig out the window sticker that the dealer had removed and put in the glove box before we picked up the car and i find that it dosen't have 4wd at all. i called the dealer to ask about why i was told it was a 4x4  when its not. i was told i could not have been told that as no way i could have gotten a 4x4 for that price. i was lied to and missled just to make a deal nothing matters but to make a sale. \\r\\n\\r\\n\",\n",
       " 'i leased a brand new ford taurus - covered already by a 36 month factory warranty - i was sold (full price) on a 100,000 mile protection plan at the cost of $2,495 - with the contention that if i turned the lease in, i would get a full refund.\\r\\ni never received a copy of the warranty, and turns out, it was only a 60,000 mile extended warranty, running concurrent with the factory warranty - and at lease end - 24 months and 36,000 miles later, i only received $1,000 refund.  \\r\\nwhy would i buy a warranty when i was already covered?  because i was told it was a \"no lose\" situation - i\\'d get it all back if i turned the car in.\\r\\nno response from dealership after complaining about the issue - followed up again - no response again.\\r\\ni have since leased two more ford vehicles, an explorer and a new taurus sho - not from this dealership.\\r\\nmy impression is that this dealership cares about money only, not their customers.\\r\\n',\n",
       " \"    recently, i purchased a car from dana ford.  a salesperson asked me to do him a favor.  he said in his e-mail, &amp;amp;quot;there's a website &amp;amp;quot;dealer rated.come/rateus that folks use to learn about car dealers.  we rely on views like yours to keep us going.&amp;amp;quot;  as for myself, i prefer to take the wait-and-see approach before rating a car dealer.  i am so glad i did.\\r\\n     initially, i had a great experience at dana ford.  the staff was very friendly.  frank curry and richard harley helped me with the purchase of my vehicle.  they were very professional, courteous, and a pleasure to deal with.  in short, they did a+ work.  it is too bad the rest of my experience with dana ford wasn't a+ as well.\\r\\n     a short time after the puchase, i realized dana ford overcharged the amount of documentary fees(plates and registration) and was due a $152.00 dollar refund. not a lot of money but still my money.   so i call them up and was told my  money  they overcharged me would be returned to me.  days and weeks go bye and still no money.  i call up again and i am told my money is on its way.  finally, i receive my check six weeks later after the purchase.  however, on the back of the check there is a disclaimer on back that states in capital letters:  &amp;amp;quot;in full settlement of all claims against dana motors ltd.&amp;amp;quot;  my first reaction was, what's this?  why would i want to put my john hancock on something that states, &amp;amp;quot;in full settlement of all claims....&amp;amp;quot;  so i call dana ford up and have been told it is their policy to issue their checks this way.  in fact, i was told the checks are preprinted that way but that is clearly not the case since the disclaimer language was stamped---not preprinted. i point this out to tony, a manager, and he said there is nothing he could do.  i politely remind him it's my money-my money and i would  like it back with no strings attached. \\r\\n      in a nutshell, i told them i would sign the check if they were to reword the language as such:  &amp;amp;quot;in full settlement as it pertains to the overcollection of documentary fees&amp;amp;quot;  otherwise, why would i want to sign something that states, &amp;amp;quot;in full settlement of all claims....&amp;amp;quot;  now hypothetically speaking:  what if i were to find out i was overcharged elsewhere by dana ford?  woundn't i potentially be giving up that claim as well? hypothetically speaking again: what if there was something wrong with the car or something that should have been disclosed about the car and wasn't( for example,the car had flood damage and they knew about it and did not discose it)?  would i be giving up that claim as well?   dana ford could not answer or explain what the disclaimer language actually meant.  i found that very curious.  basically they said was just to sign the check.  in my opinion, if you ever have to file a claim it may cost a lot more in legal fees for a lawyer to determine what was meant bye signing a check which in very general language  states, &amp;amp;quot;in full settlement of all claims against dana motors.&amp;amp;quot;   what happens if there is some type of problem with the purchase? if the lawyer sees the money returned was for being overcharged specifically, he or she does not have to worry about the general, &amp;amp;quot;in full settlement of all claims...&amp;amp;quot; nonsence. as a result, and based on principle, i refuse to sign something like that--- and bye the way the money i was overcharged is my money-my money------ dana ford---even if the amount owed is not a large sum.  \\r\\n     consequently, i contacted the new york department of consumer affairs and there response was try to work it out--sounds very reasonable to me.  thus,  i called dana ford back, but to no avail.  they did not call, e-mail, or fax me any information.  dave dioro, a manager, said he could not help me.  so i had to contact the new york department of consumers affairs again. in short, horrible horrible customer service  --in reality horrible horrible management service.   to put the situation nicely: shame on you dana ford-shame on you!!!!!  to be quite sure, i would like the return of my money without any general discaimer language that states...in full settlement of all claims...&amp;amp;quot;\\r\\n     if i have to go to court i will, although i think the situation is very unfortunate. i was told by management their lawyer said this disclaimer language was appropriate for overerpayment but i disagree.  i asked them to fax or mail me information as to what in full settlement of all claims ...actually means by their lawyer but they said they would not do it. the obvouis question is why not? i firmly believe this was a reasonable request.  in a nutshell, to make you jump through hoops to have them return your own money is plain---wrong.  so if you are going to purchase a car from dana ford or any other car dealer, i would wait-and-see before you rate them.  initially, they are very happy to take your money.  also, know what you are signing.  time will tell if you are truly happy with a dealer. for example, what happens if you are overcharged, or car has some mechanical issues and you need servicing? their reponse and actions are critical to overall dealer performance.  i sincerely hope this letter will help future car purchasers. remember, a dealer's rating may be enhanced if they are aggresive enough to  encourage you to write a review shortly after your purchase when you are generally happy and the dealer is happy to have your money.  you will notice the dealer-rater brochures at dana ford and they may ask you to rate them.   in my opinion, you should take a wait-and-see approach. thus, the dealer rating may be potentially more accurate.  had i rated dana ford initially after purchasing the car their score would have been much higher. \\r\\n \\r\\n                         sincerely yours,\\r\\n                           jrjr11\",\n",
       " \"very bad service and very bad experience in my life perchance used vehicle mitsubishi  outlander 2011 and didn't chack its service details because of trust of dealer by name once we finished pay and take to new jersey inspection dmv have failed the the vehicle because they  turn off all engines light ..vehicle needs change catalytic converter i am run behind to repair then after in three week they fix it  they deliver my vehicle to my home in rough condition and cross njtpke its only $2.90 cent i pay $53 of my penalty i pay my pocket. \\r\\nthese type of services they provide to me .\\r\\nthanks any how i tell my all family members and team of friends never perchance any vehicle for dana motors (lincoln ford).\",\n",
       " 'understanding the economic times, i think the oil change was a little pricey, labor included, around $45....since they are the only ford dealer on si, i really don\\'t have a choice. i wouldn\\'t trust a \"quik lube\" so my only option is dana. that being said, i know they are reputable, so i will be back.',\n",
       " \"went in for oil change and inspection and had an appointment for 7:30am \\r\\nwhen i made the appointment i told them i needed the updated gps card that\\r\\nyou have to pay for the upgrade. i explained that on the last service they didn't have\\r\\none in stock so please make sure you have it this time. after 3 1/2 hours of waiting and\\r\\ncomplaining what is taking so long, my vehicle was ready but they didn't have the updated\\r\\ngps card in stock again. poor service!!! if my vehicle wasn't under warranty i would never go back!\\r\\nit's a joke when the ask you to please write a good review when they keep doing the same thing\\r\\nall the time. finally left there at 11:00 disgusted!!!\",\n",
       " 'great sales woman !!very personable .  listened to what i wanted . did not push.helped get what i wanted in price  and model . financing and paperwork done easily and quickly. ',\n",
       " 'great sales woman ! . listened to what i wanted . did not push.helped get what i wanted in price and model. over all helped with everything i needed even on her time off she’s amazing ! ',\n",
       " 'i handled my entire buying experience through email and text as i live in harrisburg pa.  anthony and amanda were responsive and helpful with all aspects of the process.  anthony had the vehicle prepped and ready to go for me when i arrived.   ',\n",
       " 'extremely friendly, price was higher than advertised. ford advertised certain discounts, they originally didnt offer me the full discount for some odd reason. eventually they did.',\n",
       " \"i would highly recommend this dealership.  the leasing process was explained and my questions were thoroughly answered.  i am very happy with my lease.  although my only regret is not going over my paper work more thoroughly as i spent over two weeks trying to get my registration for my car in time before expiration.  i was on the phone with them on several ocassions.  they claimed to have had problems with my insurance card but that wasn't a problem until 2 weeks before expiration when i initiated the call.  i then find out that after it had expired and they provided another temporary that i had never paid for my registration so they didn't put it in the mail like they claimed to have done.  if you make a call get the person's name and position and keep notes because they claim to have called you when they actually didn't.  very disappointed with their customer service but very happy with my vehicle.\",\n",
       " 'here is my review for my overall experience with tommy annunziata:\\r\\n\\r\\nfriendly, attentive, workable with our situation - tommy was a good salesman.  explained to us that awl is not really needed that it is just as good as fwl.  so the ford edge se fwl is what we leased.']"
      ]
     },
     "execution_count": 25,
     "metadata": {},
     "output_type": "execute_result"
    }
   ],
   "source": [
    "d"
   ]
  },
  {
   "cell_type": "code",
   "execution_count": 26,
   "metadata": {
    "colab": {},
    "colab_type": "code",
    "id": "NFbG6YkvNJ7N"
   },
   "outputs": [
    {
     "data": {
      "text/plain": [
       "['they’re your best friend when trying to buy a car and once they got you they can give two xxxxs about you.  the service is so bad i have to go to jersey to have my cars serviced.   i absolutely hate car dealerships...and this dealer just reinforces why i feel the way i do.',\n",
       " \"they treat their customers horrible they should not be in business check the reviews and other sites these reviews can't be real don't buy from them \",\n",
       " \"i took my 2014 mustang gt with a supercharger to be serviced.  check engine light was coming on.  the mechanics didn't have a clue, told me nothing is wrong.  took the car to another dealer and they told me my exhaust pipe was loose.  are you kidding me?\",\n",
       " \"at dana ford in staten island the service department's sucks , all they do is bs you and tell you stories upon stories they are not professional they never called back and they lie to the customers so i highly recommend that you do not use their service department !\",\n",
       " 'received a quote in writing and put a deposit of $500/-. with a 6 to 8 weeks waiting period for a ford fusion energi.  on completion of 6 weeks, called the dealership several times without any answer. finally when i visited the dealership was told it would to take another 6-to 8 weeks.  however when asked for a refund, the general manager found a vehicle matching my specs and trim with a promise it would be there within two days. went to take delivery  of the vehicle and everything was as smooth as can be. started signing the paperwork and suddenly noticed that the price for the \\r\\nbuyout was not the same as the written quote.  the finance guy told me the price was from ford motor company which was lie since i had already spoken to ford motor co.   if a written quote which i have in my position cannot be honored, how do we trust a dealership to do the right thing after accepting delivery of the vehicle.\\r\\n',\n",
       " \"worst experience.  glen mahoney the most unprofessional manager i ever met.  after my car is in your shop for over two months and i'm explaining my frustrations, you tell me you don't want to hear attitude.  are you serious?   i'm paying car insurance for two months on a car i don't have and you want to charge me $30 for gas on something you never fixed.  really?   you need to take a course in humility or even sit with todd who was way more professional then you.  at least he understood my frustrations and was not rude at all.   it doesn't surprise me you got the lowest rating of all the employees at dana ford.\\r\\n\\r\\n\",\n",
       " 'finally a fully loaded car\\r\\ngot the car i wanted \\r\\nyou want better customer service and a loaner \\r\\nyou want more help go to bayridge ford\\r\\nthey sell you lemons and over charge on sales \\r\\navoid this place \\r\\ntbey like to threaten ppl as well ',\n",
       " 'my experience was awful. as a result i will never purchase a ford going forward, i am unhappy with my decision to deal with this dealership. ',\n",
       " \"do not go to dana ford lincoln in staten island.  first, on their website they lie about there car inventory......they put cars on their website that won't be delivered for up to two weeks, if not longer.  second, they offer you low-ball offers for your trade-in.  my advice is to go elsewhere!!!!!\",\n",
       " \"service department is incompetent and is not fair with customers. while i was waiting for them to service my car, i heard one of the customer service reps quote a price of 210 dollars to an elderly gentleman to install hood struts on his car. that is like 40 dollars worth of parts and 10 minutes of work. they even told him that they were out of ink to print out an inspection sticker. never mind that ny has not had that inspection system for like 3 years now. \\r\\ni can't even scrape the surface of the lies they tried to feed to me. let's just say i was schooled already in the warranty process ford has and caught them in a bunch of lies. if you don't feel like working on my car because i did not purchase the car at your dealership then just say that up front. don't look like a fool when i call you out on the bs you are trying to feed me. nice try though. \\r\\ntheir best customers are the uneducated who they can take full advantage of. shame on you guys. \",\n",
       " \"they absolutely not interested in providing good customer service. the worst shopping experience ever. they wouldn't even return phone calls. you better go somewhere else to buy a car. \",\n",
       " 'plain and simple dana ford is good at selling fruits especially lemons.and doug hanssen the g/m of dana is the top rated fruit salesman at dana fruit/vegetables.hes good at selling rotten fruits and taking your money.i would and will never buy a car /fruit from dana nor would i recomend anyone to buy fruits and vegetables at dana ford you can be garanteed that the fryits you buy at dana ford will be rotton to the core',\n",
       " \"all i have to say is stay away from these crook's!!!!! they will try to sell you something they don't have nor can get. this is the worst fuckin dealer i've ever dealt with. anthony is a lying crook alongside he's partner in crime joe the sales manager. (karma is  bitch joe and anthony) stay away from this dealer!!!!! all these bad reviews are posted for a reason. again dont even bother to step foot into this dealership!!! most of the sale's team are a bunch of wanna be gangster's that think they're a bunch of tuff guy's! fuckin clowns!!!! the funny things is after this review you'll most likely see a positive review above me because these clowns have their friends and family post up how great their experience was. fuckin clowns!!!   \",\n",
       " 'danasux,i agree with you.  the only people who would write a postive review is family, friends or employee.  i just find it amazing how positive reviews only show up after negative reviews have been posted. sounds like damage control to me.  maybe they should just try to be better people and stop ripping people off.  but then again just shows what type of antics they are up to and low they are willing to go.',\n",
       " \"don't let any of these clowns writing glowing reports on dana sway you in any way!  you can tell the genuine story from the fabricated ones.  these idiots writing these wonderful stories about dana are the same people who enjoy going to the proctologist on a regular basis.  either that, or it's family members or friends trying to keep these thieves at dana employed.\",\n",
       " 'in response to scouter.. well obviously you are connected to dana motors and doug hanson cause everyone i speak to has the same response.  they are a bunch of lying thieves.  the only reason they are still in business cause they are independently owned and ford does not stand behind their product.  obviously they are aware that they manufacture garbage and dont car what the dealers have to do to sell their cars. unlike other manufacturers who would not allow this kind of behavior from a dealer representing their product.  and dana motors does not care who they screw or about the safety of their customers that they are putting in unsafe cars.  i guess they need to have someone get seriously hurt or die in an unsafe car that they sold or serviced under fraudulant circumstances to develop a conscious. ',\n",
       " \"dana lincoln mercury is the worst dealership to deal with.  the employees and owner will do anything to take your money.  they make empty promises to make a sale.  then when you have problems with the car, they resort to demeaning you in orfer that they think you will back down.  i purchased a 09 flex which had problems with a leaking trans which they tried to fix but just made the problem worst.  then the car had problems with the brakes that they could not fix and told me that it was under investigation by ford which they stated in an ro.  when i asked for a loner til the problem was fixed cause i did not feel safe in the car.  i was told by alex that if the car won't stop to use my emergency brake- thats what there is for.  their customers arenon-existent to them once you drive off their lot.   as doug hanson said if you want them to come thru on their promises then you should get them in writing cause they just make them to make a sale and dont intend on following thru. it s part of their business. spoke with the owner who thinks he's a gangster and makes inappropiate remarks to try and cover his employee's mistakes.  he is not a honest businessman.  don't see him surviving much longer with his attitude.  so if you want to buy a lemon and be abused in the process you should buy from them..  but i would recommend going to a dealer who cares.  there are plenty in new jersey..   thats where i got my new car that i am thrilled with and the service was great.\",\n",
       " 'the worst dealership going!  they\\'re a bunch of lying thieves all backing each other up!  from top to bottom...shit!  masters at the old bait and switch.  can\\'t say enough bad things about them. can\\'t believe they are actually still in business. i was lured in with the agreement i was to get a lincoln mkx with specific options.  trusting these scum bags, pressed for time, i signed the lease.  i had to leave then come back to pick up the car.  the car i drove off with was not the car we had agreed upon.  upon noticing the problem, i called them. their answer was \"too bad we just screwed you.\"  anyone who is happy with the service at dana should have their head examined!  ford is no better. i have been faithfully leasing with them for the last 12 years.  when telling them the problem, their answer is that dana is independently owned and operated and there is nothing they can do. so much for quality job one.  i strongly urge you not to buy or lease a vehicle at dana. i seriously doubt my next vehicle will be a ford!  i wish i had seen a review like this before i went to dana. buyer beware!',\n",
       " 'when you’re buying a car they treat you like royalty because they want your money.  the mechanics in the service department are the worst, especially if you own a mustang with a supercharger on it.  avoid this place and go to another dealership.',\n",
       " \"i noticed when you're looking to buy a car you're getting calls everyday for the next three weeks but when having your car serviced you never receive a call back, i always have to do the follow up.  they only see you as a dollar sign.  i hate that feeling.\",\n",
       " 'i am a former customer of dana ford. i have been called in the past three months about turning in my leased edge. when i ask questions about new payments or are my remaining payments going to be rolled nto the new ones, i get no answer. last week i received another call and again my questions were not answered and i was told my salesman still worked there. well much to my pleasure i am now a customer of bayridge ford. i have my new 2013 edge fully loaded and with less of a payment. by the way i don\\'t like being lied to since i found out my salesman now works at manhatten ford. too bad we lost island ford but i am glad i found bayridge ford. too bad the personnel at dana aren\\'t schooled in how to treat customers. all they want is the sale at any cost regardless of what the customer wants. they are \"helpful\" whan they make the deal and then when you go back for your registration, they don\\'t even look at you. a generated letter is sent out, but it\\'s the same for all customers to see if you like your new car. too bad we lost island ford but i am glad we now have bayridge ford. it\\'s worth the toll!',\n",
       " \"as soon as you sign the papers you are immediately forgotten.  if you have a problem, there is no way to contact dana.  phone calls are never returned.   when you go in person, the manager's are never available.  we will never buy another ford from dana staten island.\",\n",
       " \"absolute worst service department ever.  you make an appointment bring in your car and then don't bother to look at it all day. they then have the nerve to ask you to reschedule or leave your car there until whenever they decide to get around to looking at it. they do not provide loaner cars (unless car is kept over a day but at that point you are already out of a car all day and you can't even get a comparable car).  i never had these issues at bay ridge lincoln and i am so sorry to see them closed; always had a loaner as soon as i dropped off my vehicle and vehicle was always looked at during appointment.  car was never returned to me with dirt and oil marks inside and out either.\\r\\n\\r\\nthis dealer rating is complete crap as well because they actually tell you to rate them 5* when you purchase or lease your vehicle.  so i can see many people have obliged.\",\n",
       " \"inquired about a 2011 ford fiesta with remote start, 6-spd auto trans, and a dealer package that includes a bunch of bells and whistles (203a). was told by mike price they had it in stock and could come in a test drive it. 10 minutes later i get a call back stating he was wrong about having that specific car in stock but had the same model available for a test drive, from there they can order the car if i am then ready for a purchase. so far so good. went for the test drive and i really liked the car. the one they had in stock (or course) is more expensive: the sel vs. the se and has the moon-roof: do not want; leather interior package: oh, no; the 301a package: fancy auto detect features with push-button start: no thanks; wrong color: it's black and i want the silver metallic. i like the test drive, we iron out the package, and then i give the ok to order my new car -that is when it all goes south. they cannot order the 2011. they can order the 2012. they don't have any information on the car, do not have any in stock, can't show me what it looks like, do not know when the car is coming in, but they are 'willing' to sell the more expensive 2012 to me if i am 'willing' to order it sight-unseen, un-tested and un-driven.\\r\\nhe knew what i was coming in for, said it was no problem, then when we are just about there with a deal: they switch the car and won't budge. said they 'just found out today',... 'it's not our fault. it's fords.'\\r\\nso, they new they could not order or get the car i wanted before i came in, chose not to tell me about the issue, let me go through the whole production of setting everything up, and then sprang it on me at the end?\\r\\ni was no longer interested in a deal because of how this played out. he had taken my car keys while they checked the car for trade-in value, but i did not see anyone near my car while i waited for 15-20 minutes. i asked for my keys and it was like pulling teeth getting them back. i let him and his boss firmly know i am not willing to make a deal on a car i cannot see, feel, smell, taste, get pricing for through the auto buying program, and most importantly test drive. after 5 or so minutes of back-and-forth in the parking lot after repeatedly requesting my keys mike price finally gave them to be but did not hand them over before stating, 'just so you know... we're in that time of year.....' ...when the 2011s are not available for ordering because of new 2012 roll-out. so he knew, or is an after-the-fact rationalization? he has this snarky tone in his voice and, well... you know when you have to say, 'have a nice day' to somebody because if you don't you'll tell them to go *f* themselves but you still have that tone and inflection in you voice and demeanor: well that's what he did.\\r\\nis it too much to ask for a sales person to be up-front and honest? if he would have told me about the issue, we could of just waited for the 2012 to arrive, i could see if i like it, then we could move from there: see, no problems. but to knowingly withhold information regarding the availability of the specific vehicle is just bad form. and if he or the dealership didn't know about not being able to order the 2011 model: they should have. they are a ford car dealership full of salespersons whose job is to know all about their products and their procedures. so which side should i believe: doubtfully ignorant about the core business or slightly sneaking salesperson? \",\n",
       " 'if you are buying a used car here ask for lenny. he was so friendly and helpful. really let us get to know the car before we bought it. a real mensch.',\n",
       " 'satisfied with experience and purchase. satisfied with experience and purchase.satisfied with experience and purchase.satisfied with experience and purchase.satisfied with experience and purchase. satisfied with experience and purchase.satisfied with experience and purchase.satisfied with experience and purchase.satisfied with experience and purchase.satisfied with experience and purchase.satisfied with experience and purchase.']"
      ]
     },
     "execution_count": 26,
     "metadata": {},
     "output_type": "execute_result"
    }
   ],
   "source": [
    "f"
   ]
  },
  {
   "cell_type": "code",
   "execution_count": 27,
   "metadata": {
    "colab": {},
    "colab_type": "code",
    "id": "vXRdR97LNQKn"
   },
   "outputs": [
    {
     "data": {
      "text/plain": [
       "['i should have known better from my first terrible experience with dana lincoln since when i originally was looking for my car, the service was so horrific i had decided to proceed with lincoln of queens instead (which was a pleasure). back then i was not living in staten island but now that i do reside on the island i decided to contact dana lincoln to service my lease.  my car will be going back in a few months, but since the engine light has turned on i wanted to check it since i drive with my infant son everyday. when i called dana lincoln service the woman who answered did not even listen to my issue for service but rather saw i had months left and instead of scheduling an appointment put me on hold and all of a sudden i am on the phone with a sales rep. she did not tell me she was forwarding me to sales nor did i ask. what i asked for was an appointment for service.  when the sales rep sent me back to the original woman i spoke with she dismissively said that since i wasn\\'t looking to return the car and lease a new one at the moment, that and i quote \"due to the holiday season they are backed up and will not be able to get me an appointment to check the engine till february 24th\"!!!!!!!!! of course my response was absolute shock and to which she sighed and asked what color the engine light was and responded that \"it should be fine to drive with the engine light on but if it turns red that i must stop driving it and have it towed.\" \\r\\ni explained to her that this was unacceptable and dangerous .  my husband then spoke to this woman and she left us on hold for over 10 minutes to speak to \"keith\".  she finally came back and said keith was unavailable to speak to us as he was with a customer and would contact us back in 10 minutes.  it has been two days since. \\r\\n\\r\\nin the interim, i decided to contact queens lincoln service department.  the woman we spoke to was such a pleasure, who not only offered me an appointment the first of the week that followed, they are driving here to the end of staten island to pick up my car, leave me a loaner, service my vehicle and then drive it back to me. \\r\\n\\r\\nthe crazy thing is, is that i will be getting another lincoln and i was waiting till next month to purchase but based on the service with dana, i rather drive all the way to queens then simply drive the 10 minutes to dana.  everyone should always receive top notch service, but being a vice president of sales for over 10 years, i know from my experience that there is even more of attention that should be given for a prospective customer.  make the experience a memorable one to ensure the loyalty of the customer and remind them of the quality of lincoln. the reason people purchase luxury vehicles is not only to have the beautiful car but also to have ease of purchase and ease of service.  i would never recommend my family, friends, or clients to dana lincoln and to the viewers of this review.',\n",
       " 'i was deceived, documents are all with other numbers, tomorrow i am going to sue, justice should be, i never would have thought that people could be like that, people review their contracts and check everything, because they say that the insurance is free, and take money for her',\n",
       " 'i have a ford transit. with a guarantee i received a letter that i need to come to the nearest dealer and fix the malfunction. i came to dana ford, the mechanics were ready to accept me, but the man who was sitting in the office, impudently sent us .... i called the ford headquarters, left a complaint and opened the case for this dealership.\\r\\ni know what the host will say now, that we should have queued up and waited. i fully agree with this. but no one told us this, but just very rudely sent from here ....',\n",
       " 'where do i begin?  i walked in on christmas eve to look into getting a vehicle.  i was helped out by a very polite sales rep by the name of francesco.  this is the only bright spot of this disaster.  once we test drove the vehicle we wanted, we agreed upon a deal and i signed a lease.  prior to signing the lease i advised the finance group that my credit was not in the best of shape and ask if this deal was guaranteed regardless of credit.  i was advised by both sales rep and and finance that this deal was guaranteed and i could come tuesday to get the vehicle.   so foolish me believing these con artists, leave  the down payment agreed upon to set up lease of the vehicle. \\r\\n\\r\\nso i call tuesday to confirm that i will be there to pick up the vehicle, and i speak to the finance manager ( jeff) who now states the deal is not valid and they can not do anything without a co-signer.  when i advised that both the sales rep and financial manager said that this would not be an issue.  i was told that this never occurred.  so i asked for the refund of my payment and was told by jeff that this would be ready in the morning for me to pick up.   \\r\\n\\r\\nso now wednesday i call and speak to another gem (steve) who now tells me that refunds are not given until friday.  when i advised that jeff stated this would be ready today, i was called a liar.  when i advised that this experience has been dreadful and i would  file complaints, steve stated that it isn\\'t their fault my credit sucks.   really classy management here.    \\r\\n\\r\\nso now today (friday) around 2pm, i walk in to get my refund check,  and of course it still isn\\'t ready yet.  so basically dana ford is holding my cash down payment hostage.  when i asked to speak to the owner, i was advised that i was not allowed to.   not even 5 minutes later, i have my attorney call dana ford and all of a sudden, there\\'s nobody there that my attorney could speak to.   then my wife calls and speaks to the manager in finance and they tell her that \" had she not called, they were going to make us wait until tuesday\",  and then has the nerve to call my wife and tell her that unless we take this review down,  we will be waiting another 2-3 weeks to get this check.  are you kidding me??  update 3:24pm est.  juan has now called my wife advising that now we are not getting our money back and that we can sue him for the check.  \\r\\n\\r\\n\\r\\nthis is the kind of horrific experience that you only read about in magazines or hear about in the news.  dana ford is an absolute disgrace and could care less about the hard working people unless they are making money.   i have complained to the bbb and the consumer protection agency.  i will also be using my social media and print media contacts to bring to light what an absolute disgrace this dealership is.  ',\n",
       " \"the sales consultant frankie ortiz was very good .then came the financial advisor who was horrible.spoke down to you overcharged  i would never go there again a terrible experience .i can't even give a star rating.\",\n",
       " 'brianna from sales called on my cell today, butchered my first name and completely changed my last name.  when i corrected her she said \"oh\" then proceeded with her script. told me my lease was up soon and asked if i wanted to come in and pick out a brand new car.  i said \"no\".  she said \"fine\" and hung up.  anyone halfway concerned with keeping a customer would have at least tried to inquire \\'why not\\' or at least ended the conversation on a pleasant note.  this is just typical of the overall experience i have had with dana ford sales and service departments for the past 3 years; you\\'re not worth their time if you\\'re not making them money.',\n",
       " 'this is the worst dealership i have  a 2017 ford explorer  they give goods deals although please believe me \"worst \" customer service !! my car needed to serviced they don\\'t provide loaner cars and if they do an exception you will have to wait your turn   for a loaner car they never call i called for 3 months i call repeatedly the point i gave up but now airbag is not working on passenger side the light came on they still are not taking in my car i called and finally got a car for this morning i called this morning and nobody knew what i was talking about finally the manager anthony gets on the phone and says i\\'m playing games and i\\'m a liar!!!!!!that i was supposed to get my loaner yesterday i told him to speak  with his partner todd his partner todd tells him i was supposed to come this morning and still say i\\'m playing games and we\\'re not able to help me i hung up i didn\\'t want to start cursing i held in my anger and hung up i am now making a complaint and trying to figures out where and how to fix my car   skip dana lincoln buy or lease your car from another location!!',\n",
       " \"went to lincoln to lease a car. all they had was loaded models but the sales rep wanted to make a deal. the sales manager clearly just wanted to go home and didn't even attempt to come close in price to what the sales rep originally told us.\",\n",
       " \" i can't believe i gave my business to this this place when i could have spent less and went somewhere else. ronny p was pleasant to work with and he definitely gave me a great buying experience. once the paper was signed everything just went downhill. i did not hear from this dealership for two full weeks, and i had to call many times and ask what was taking so long to only find out ronny had resigned and no one decided to let me know that my car was ready for delivery. let me say i was tossed around like crazy before a sales manager decided to finally give me an update. when i did receive my car there were scratches on the door and all the windows were manual. it is 2013 why do you have to roll down your windows? it is my fault for not doing the right research and giving this place too much trust.\\r\\n\\r\\nit took more than 45 days and multiple calls before i received my license plates. even after they had promised that they would send me the license plates via fedex, they tried to make me pay for shipping. i am actually still angry thinking about the experience i had even after many months. the only reason i am editing this rating is because i felt bad that ronny had to be part of this rating when it was not actually his fault, it was the lack of communications between all departments that really makes me not want to come back to this dealership. dana provided the bare minimum and they expect me to give them a 5 star rating.\",\n",
       " 'besa was extremely rude, and unprofessional. rather than trying to provide service for mine and my husbands vehicle, she was trying to service my husband instead. anytime she received new information about the status of our car she chose not to share it with me but only with my husband. while in the waiting room she approached me to let me know that she was looking for my husband to talk to him. at the time he stepped outside to make a job related call. i told her that and we would find her when he came back so we can get the update together. instead she insisted that she speak to him in private and chased him down outside cause she\\'s use to \"walking the floor\", her words not mine. the entire time she was rude and had an attitude with me and being flirtatious with my husband. and to make matters worse before we left, my husband was walking in front of me and she decides to cut me off and  inappropriately touched him and interlocked her arm unto his as if they were a couple.  i told her never touch my husband again. but what i should have done was tell her manager since he was right there, so he could know just what she had done. all this would show if you check the cameras for friday april 28,2017.   i was baffled by how this woman could be hired to work at the dealership when she was acting in such a grotesque manner. i was appalled and not to mention disrespected and my husband was sexually harassed for which made him uncomfortable. i hope that no one else has to deal with her unprofessionalism and that her management will deal with her accordingly like they would if a man would have done this. warning to all couples getting there car serviced avoid besa at all costs. and men don\\'t let her get away with sexually harassing you, no one should have to endure that type of behavior.  ',\n",
       " 'had to go to nj manerger couldnt care less thanks 415mnth 2016 exp sport loaded jeresy city joe b formally dana manger  carma a xxxxx',\n",
       " 'tiffany was in contact with me for months keeping up to date on the new lincoln trucks i was interested in! super informative professional and helpful..... dana lincoln is lucky to have her!',\n",
       " 'first and last time i will ever do business with this dealer. every step of the process was flawed. what i saved in dollars is not worth the overall headaches that came in completing this trasaction. you get onetime to make a first impression, and my first impression is not very good. i guess you pay for what you get. cheap is not always the best. lesson learned. the only positive of this deal is the effort of frank curry. this man was a complete gentlemen and tried to make this negative into a positive. ',\n",
       " \"i bought a high end used car from dana ford basically over the phone and from cars.com . the pre sale service was great , the pricing was reasonable and they gave me a reasonable trade in value.  but after the sale when problems came up nobody would return any calls and almost damaged my credit rating because they didn't pay off my trade for over a month after trading it in. would never deal with them again. \",\n",
       " 'i have been buying cars from dana for the past decade. i have leased 4 cars and bought 1 and never had a problem. recently i had an issue with damage to my bumper, but it has since been resolved. ',\n",
       " \"i can say alexsandra velasquez my service rep was very nice and friendly even tho my 2013 ford edge is not the what i had expected but i guess there's always going to be  problems with a man made item. my tech james was very knowledgeable with the vehicle and all its recall problems.  so at least that was a relief to know what's going on.\",\n",
       " 'aashar was a great help he got me a great deal and in to the exact car i wanted. however the process was very long. i was literally there all day.  i have leased many cars in the past from different dealerships and never had to wait so long for a vehicle. other than that dana is a beautiful dealership with many of options and  they have a very tentative staff. ',\n",
       " 'always have a great outcome with dana ford! leased my 3rd f150  this year. lauren made the process very easy and was a pleasure to work with, hope she is still there in 3 years! ',\n",
       " 'i have been going to dana for over 20 years. they have good quality service. i especially appreciate  the outstanding service from juan estrella and rich harley. they are class acts and truly an asset to dana.',\n",
       " 'i contacted the dealer through the internet. the were quick to call me to set up an appointment and a test drive. even though i set up an appointment for their \"vip service\", when i arrived the person i was supposed to meet was out ot lunch and the car i scheduled to test drive was not on their lot. luckily i was assigned a wonderful salesperson, shauna, who worked with me finding a similiarly equipped vehicle and explained all the features and technology in the car. i purchased a 2011 edge from shauna.',\n",
       " 'recently leased a new truck from bobby and had a great experience with him. leased the car in a fast time and very honest guy. had a bad experience with manager glen but bobby was great. ']"
      ]
     },
     "execution_count": 27,
     "metadata": {},
     "output_type": "execute_result"
    }
   ],
   "source": [
    "g"
   ]
  },
  {
   "cell_type": "code",
   "execution_count": 28,
   "metadata": {
    "colab": {
     "base_uri": "https://localhost:8080/",
     "height": 581
    },
    "colab_type": "code",
    "id": "u1X4NdY5NUSZ",
    "outputId": "595c9243-dab3-4501-a43a-dcb7fdb3911d"
   },
   "outputs": [
    {
     "data": {
      "text/plain": [
       "[\"traded my truck in they didn't pay it fully off call to talk about it they told me they didn't give a s***\",\n",
       " 'my car sat there for a week while they were supposedly waiting for parts. \\r\\ni finally had enought speaking with glenn and keith and picked up my car with nothing done. i had to pay for a rental because they wouldnt give me a loaner even though i made an appointment a month in advance.',\n",
       " 'i tried to return a lease to dana ford, and they told me they wont take it because the car wasnt for them. instead of the manager being all nice about it, he was yelling and screaming. saying i am not making money therefore i wont take this fu&% car back. i went off on them on their facebook page. they responded that if it was over 70 miles from the original dealer they would take the car. the dealer i got the car is exactly 84.1 miles away fron dana ford. if the manager had good customer service skills, he would have taken the vin # down and excused himself while he looked it up on the computer. instead when my white ford fusion pulled into the service garage he came out like a crazy man. asking what do we want. my mom and brother was nice and said we need to return the lease it over. that is when he started screaming and yelling. he told my lease guy who came with me becuase ford had a policy where the owner needs to be there. the manager came running out the showroom and told the guy i told them i am not taking the car. to get off his lot. lucky i make my mom record stuff like this when i am not in her presents. if you wanted to be treated with respect and dignity do not go to dana ford. bring your business someplace else. where they will respect you if you did or didnt get a car from them. ',\n",
       " \"2 plus days and my car has not been looked at by mechanic. was told sometimes it takes 2 weeks!!! spoke to so called service director and he said we are very busy and number one in the nation and if i don't want to wait take car\\r\\nback. i owed 10 plus ford vehicles never bought any from them and when i told him that he said that ok we don't need your sale.  nice   i live 3 miles from them and i don't know anyone who has had a pleasurable experience. \",\n",
       " 'agreed upon price on lease, when it was time to pick up the car, they changed the price and refused to give my deposit back.',\n",
       " \"this service manager or director has no service, i've never met anyone like him especially at a car dealer that i have been doing buisness with forever, he spoke to me as i was a child and treated me with no respect, i gave it back to him and he's lucky i have way too much going for me because he would have had to eat a coupletter slaps, he also treats the porters or low level employees like crap, don't belive me grab one of the kids working there on the sode and ask them. he has made me hate dana ford the only nice people are jaime liga and besa in the service department  (i have never delt with others so ll leave them out)\",\n",
       " \"went to go pick up my new car today that i left a deposit for and signed all paperwork last night. i was told that i needed to pay more money because the bank wouldn't accept what joe p. guaranteed me last night. the finance person- maybe john- was rude and disrespectful- i left and demanded that the gm call me and apologize. shocking, he didn't, and he furthermore explained that the business he oversees is acceptable, and sees nothing wrong with the conduct. so, it's ok for employees to guarantee something they have no control over. he then tried to assure me that my 1500 deposit was not being held hostage- well thank you. when i called back to get my refund for the deposit i left last night- i was asked again what price i would agree to pay- thanks but no- i was then told that i have to wait until friday to get my deposit back- because the owner only signs for refunds on fridays- and it would another week before the money was credited to my account. \",\n",
       " \"my husband and i went in to check out one of the new ford raptor. after we were given the price and was told we would have to put down almost 30g to get our payments to be $900 we no longer wanted the truck. we looked at an older year of the raptor and we didn't love it but we liked it. so they encouraged us to put down $500 deposit and assured us that it is refundable. when we were no longer interested in the truck they refuse to give us our money back. this is bad business and terrible customer service i would not recommend this dealership to anyone. \",\n",
       " 'got a recall from ford for my airbags. called dana ford with recall info, gave vin number, made appointment for 1 month later during my work vacation. bring in car 7:30 am, they tell me \"we can only verify the vehicle vin number right now. we have to order the parts next. that\\'s how ford makes us do it.\" \\r\\n    what !?!? i made an appointment 1 month in advance, just so they could look at my car and verify its vin number. now i have to wait for the parts to arrive, then make another appointment to have it fixed? unbelievable that any company can work this way. ',\n",
       " 'tried to return a lease (was not leased from this dealer).  i telephoned the dealership this past thursday and asked if they have a problem taking my car back since it wasn\\'t leased from their dealership.  they said not a problem, no appointment was necessary.   i took off from work today purposely to bring the car back.  we showed up today to bring the car (which was inspected and under-miles) back.  the manager told us he can\\'t take our car because he had no room for it.  when we questioned if we had leased the car from them 3 years ago, would they take it back?  he answered yes.   if we were going to lease another car from them today they also would have taken it back.  we also asked that if we moved from tx and wanted to return this car - glenn answered - yes he would have taken that car back, but since we leased from nj - he said he had no room.   this all transpired very nasty too.  he was totally unprofessional and nasty.   we called and lodged a complaint with ford credit.   ford credit said it\\'s the dealers responsibility to take back the car and that dana ford was breaching their agreement as a franchise.  i informed glenn i would post this and his answer to me was \"go ahead\".   very unprofessional dealership who just lost a future customer.   ',\n",
       " 'went for a tsb ( technical service bulletin) to dana lincoln. job was done very bad. unprofessional. tsb took them 3 days for 3.1 hrs job time. technicians damaged my car interior... did not finished tsb. not recommend to use that dealer service. very unprofessional. service adviser and technician did not listen customer, and does not follow correct procedure when fixing cars.\\r\\nupdate:  on a second pickup time, after inspecting my vehicle, i have noticed very bad and visible scratches on my dash panel, passenger door interior, b-pillar and seats plastic, driver seat plastic  was broken, and, of cause, improper fitment of my front seats leather sleeves, ( however , improper fitment was the reason, that i have not accepted job for the first time). so when i told  and showed these problems to my service  adviser, i was told that i have to accept a job and complain to a lincoln.  seeing that dealership does not care about clients, i have removed vehicle from dealership and went to my house, once i got on highway, i have noticed that my steering wheel is off center, and not centering correctly after turns. so i think they messed up my steering angle sensor , or maybe badly hit a pothole ( speedbump). i have returned immediately to dealership and showed these problems to service manager - martin. guess what answer i got? - complain to lincoln... after i have open a case with lincoln, and wrote review on dealer rater, i have been contacted by service manager - martin ( the person who said: complain to lincoln, remember?) who demanded that once i will remove my review, only than he can (  he can, but does not want)  seat and discuss with me my car problems. however he did not sounded that he care about anything,  he sounded like he is giving me a huge favor. also he told me that he does not care about my single negative review... ',\n",
       " \"this dealership is a joke and should be ashamed of themselves.  i spoke with tony donato on the phone and made him an offer on a pre owned vehicle. he spoke with the used car manager and an agreement was made that if i came down today they would make the deal for me if i came down today.  after driving over an hour and a half tony had one of his sales puppets tell me that the vehicle was sold and someone called him with a deposit.  i asked to speak with tony directly and he told me the car was sold and the people were traveling over 3 hours and were on their way. tony agreed to sell me the car and went back on his word. he is very shifty eyed and cannot be trusted.  i would have left a deposit if he wanted but we left it by his word that he will hold it for me to come down.  to add to the lies and deceit of this dealership i received an email and follow up phone call a few days after this. they told me the car was still available and if i'd like to take it for a test drive.  the way this dealership conducts it's business is part in parcel to the slime ball tactics of car sales spear headed by tony donato. in retrospect they probable didn't want to make the deal at the agreed price.  i wish them luck!!! signed a lost customer for life...\",\n",
       " 'after i purchased a specialty mustang, anthony g made promises he did not keep, did not return my calls and after hurricane sandy i appealed to him for replacement paperwork and was again ignored.',\n",
       " 'we had a situation with dana that people should be warned of. we put a deposit down on a car under the pretense that we would be approved for a specified deposit and monthly payment. when the time came to finalize the deal, the dynamics of the deal changed and we had to come up with $5000.00 above what we expected to pay.   needless to say we decided not to do the deal, as a result, they refused to refund our $500.00 deposit. i understand this tactic is to force buyers into a deal, and if they have a deposit, they can change whats to be paid apparently, or else lose your deposit.  so were out 500.00 and be warned dana customers... do not give a deposit and do not believe it will be refunded even if they tell you it will. the finance manager mitch explained that they were keeping it because \"he had to do alot of work to get the deal done\"?!?!  im surprised a company like ford operates like this.',\n",
       " 'this dealership told me i was approved let me get the insurance and then made me come back 2 says in a row for 3 hours each when i came to pick up car they told me no good  -- they are the worst -they lie about eveything',\n",
       " \"absolute worst experience of my life!!!!  went in and test drove a 2011 ford explorer. called the salesman steve on mon morning and told him we would be in at around 6:00pm to purchase the vehicle.  when we got there we waited a little bit because we were early and he had another customer.  we sat down with him and then it all went south.  he had no idea how much the lou had quoted me on sat and i could not remember the exact number.  i did ask for the number in writing on sat but the refused to give it to me.  after waiting in the dealership for over an hour my husband and i left.  i wanted $500 off the price they were offering me because i had to wait so long.  i spoke to doug the general manager and he informed me that he would not reduce the price because he did not feel he should lose money on the deal.  even though we know they are not losing money that is fine that he did not sell me the car.  for a manager doug is very unprofessional and i'm not saying that because he refused to budge on the price because the funny part about it is if they would have had everything ready for us when we walked in we would have purchased the car for the original price.  i ended going to all american ford and it was the best experience. we were offered coffee as soon as we walked in.  our salesman chuck was very helpful and knowledgeable.  we ended up leaving with the car that same day and paid less for it.  stay away from dana ford!!!!\",\n",
       " \"in march of 2008 i went to dana lincoln mercury to purchase a mercury mariner.  when i found the truck that i liked i was asked to leave a deposit and fill out a credit application.  i left a $500 deposit on the truck and completed the credit application.  unfortunately for me i was not approved for the truck from the leasing company and i was told i would need a co-signer.  having someone co-sign was not an option for me.  when i called tommy the sales person and told him that i didn't have a co-signer and inquired about my deposit i was told to come in for my deposit.  when i went in to pick up my deposit i was told that it could take up to 9 months to get back my deposit because deposits are usually nonrefundable.  i was never told that when i was asked to leave a deposit nor did i sign anything stating that i was aware of this policy.  for almost a year now i have been calling daily inquiring about my deposit and have been given the run around.  i was told that they are looking into it, that they couldnt find my paperwork and proof of deposit (so i faxed them a copy of my check), you name it i was told it!!  last week i was told that i was approved for the truck back in march of 2008 and that my deposit was nonrefundable.  that is ridiculous and a lie, i was told last year that i was not approved for the truck.  now all of a sudden i was approved.  i am disgusted by how i was treated by dana lincoln mercury and the nonsense i have been told for the past year.  i ended up purchasing my truck from sansone auto mall where the sales people and managers could not have been nicer!!! i would not recommend anyone purchasing a vehicle from dana lincoln mercury!!!  now i will be pursuing my case in small claims court, it will be the best $19 i have ever spent to take them to court.  they have no business holding onto a deposit for a vehcile that i was not approved to purchase.\",\n",
       " 'i purchased a loaded top of the line 08 mkx from dana lincoln mercury on staten island.  all i kept hearing from joe (the sales manager) was that the dealership was ranked top whatever in the country for the number of sales it made.  i really felt like the only thing that mattered was the volume the dealership was producing and not the quality of service it was providing.  they proved that as i had several problems upon delivery. just to name a couple, the automatic start did not work and there were several scratches on the truck.  when i tried to have them rectified by doug hansen, this is some of what he said to me:\\r\\n\\r\\nfirst off he was loud and obnoxious.  upon seeing it, he said oh well it’s only about ½ inch big and nothing compared to the wear and tear that would happen.  no cars at any dealership including bmw, mercedes or wherever have a perfect vehicle.  he started yelling at me and said he is not going to do anything about it.  if i wanted to have it painted he would do so or i should just leave the dealership.  the deal is done so goodbye.  he had work to do.  he didn’t know what i did for a living that i had so much time on my hands to research incentives available and know about dealer cash available.  no he did not give out free key rings or brochures and too bad about the scratch.  i already drove the car off the lot and it lost about $6,000 in value already.  he proceeded to walk away and said if i wanted his card, i could go ahead and complain to whoever the hell i wanted to.\\r\\n\\r\\nthey are completely unprofessional and rude at this dealership!!!!!\\r\\n',\n",
       " 'they are the worst to deal with, had the ford pin # they charged me more than ford stated with the pin#. which now is a legal issue and i got ford involved so they are going to audit them for double dipping and pocketing the money i should have saved.  was told there was sync in the car and there wasnt, had to order the mats and etch my windows 2 times. doug hansen who is the gm is very disrespectful and will not try to rectify the problem.  i would not buy from them again. i should have known better with all he people complaining about them.',\n",
       " 'they are the worst to deal with, had the ford pin # they charged me more than ford stated with the pin#. which now is a legal issue and i got ford involved so they are going to audit them for double dipping and pocketing the money i should have saved.  was told there was sync in the car and there wasnt, had to order the mats and etch my windows 2 times. doug hansen who is the gm is very disrespectful and will not try to rectify the problem.  i would not buy from them again. i should have known better with all he people complaining about them.',\n",
       " \"the dishonesty starts from the general manager to finance to sales help. one you put a down payment you aren't a priority any longer .\",\n",
       " 'do not ever leave a deposit on any vehicle with dana ford lincoln of staten island. \\r\\nupon receipt of my deposit, the salesman jonathan taylor and his manager at the time on 10/30/16, claimed that if i didn\\'t take delivery of the vehicle, the refund was totally refundable. it was after 5 pm on a sunday (the deposit receipt is dated 10/30/16 @ 5:22pm). the manager told me to just leave a deposit. as they were to be closed by 5pm already, and they told me they \"wanted to go home to watch football\". they basically took my deposit and pushed me out the door, with only a receipt for the credit card deposit transaction and nothing else. no buyers order, no nothing.  without a test drive, they lead me to believe that i needed to leave a deposit to secure the special low price on that particular vehicle with 0% financing. told me that they will call me tomorrow after speaking to the bank about financing. need less to say tomorrow came and noone called me back from dana ford lincoln. so after work, i decided to call around for insurance quotes. upon learning the high quotes i was getting from insurance companies to insurance this vehicle for full coverage, i decided to not purchase any new car at this current time. i called back the salesman jonathan taylor that day and told him i was not going to purchase that vehicle anymore. i explained to him about the high insurance quotes i was getting. i told him i will expect my deposit to be refunded. jonathan then began to try to persuade me to still go ahead with the purchase. after a few attempts, he then tried to get me to drive to the dealer to meet with their insurance agents for a \"better quote\"..  i then explained to him that after ten different insurance agents quoted about the same prices, i didn\\'t feel the need to waste more time. jonathan then tried to persuade me to look into a totally different vehicle that i was not interested in at all. i told him at this current time i will just like a refund of my deposit that they all assured me was possible. he told me he will have  glenn mahoney the general sales manager call me back. after noone called me, i sent an email to jonathan taylor at 10pm on november 1, 2016, which to this day he has yet to return. on 12/30/16 while on three way calling with my credit card company and dana ford lincoln a cashier named ivy at ext.250, ivy promised me i will see a full refund back to my credit card with a couple days.  after not seeing the refund on my credit card, i called dan ford lincoln back yesterday and  today january 16, 2016 glenn mahoney just called and said he didn\\'t know if the vehicle i had a deposit on was still in stock, and after 48 hours after a deposit is taken on it, if it is not delivered by then, he is allowed to sell it. glenn mahoney then claimed there is no refund given to an approved sale. how is it an approved sale if i never took delivery ?  remind you i have a letter dated 10-31-16 in my house from ford credit  stating that the sale was not approved. so glenn mahoney and his staff at dana ford lincoln of staten island believe they are entitled to keep my deposit and they never even started the vehicle up for me, never moved it from the same spot it was in.  nothing !!!!\\r\\ndo not ever leave a deposit on a vehicle, there is no need to.\\r\\nthis may take some more of my valuable time, but this is not over. i will update this review at a later time. ',\n",
       " 'i came to the dealership to lease a new ford fusion 2013. i took a test drive, decided on the color and model and sat down with mr. white to negotiate a deal. we came to an agreement, and in order to confirm it with the manager he asked for a credit card to show that we were \"serious about making this deal\". the manager okay\\'ed the deal and came over to shake our hand, everything was done. i paid the money down and was set to come back two days later to pick up the car. i asked for a copy of the agreement, but was told that i would receive it when i came for the car. i found this shady. an hour before the time that i was supposed to pick up the car i called to confirm and was told that everything was set. i came back to get the car and was suddenly told that they had made a \"mistake\".i was absolutely outraged that they were going back on the deal that we had made and they refused to give us what we agreed on. they tried to sell us a different car,  wasn\\'t what we came for so we left with no deal. this was a huge inconvenience as we really needed a car at the time that we made the deal and instead it took us another week before we could get to another dealer. we went to a great dealership in manhattan and in three hours we left driving a new car with just about the same deal that we had originally made at dana. i will never be going back to dana again. everyone stay away from unprofessional at dana!!!!!!!!!!!!!!',\n",
       " 'we bought our brand new 2011 ford explorer ($40k) from dana in july.  the dealership since has been uncooperative in issuing a military incentive promised by ford at the time of purchase. the incentive was for $500 and both the dealership and ford motor co. customer service have given us a run around for months. both have ignored our requests and when reaching out to dana ford we get the \"eye rolling why are you bothering us\" response.\\r\\n\\r\\nadditionally, at the time of the sale we were promised the all weather mats and were once again given the run around for weeks before a sales manager realized how stupid it is for them to make a big deal out of $60 mats. \\r\\n\\r\\nto add insult to injury, we have already serviced the explorer twice.  once\\r\\nfor a \"loose wire\"  that caused the rear a/c to go in and out sporadically\\r\\nand just recently another issue with the cooling fan needing replacement.\\r\\n\\r\\ni would never go back to dana ford to purchase a vehicle or to service the current one.\\r\\n\\r\\nshould have went with the honda pilot. dealing with ford is like dealing with a call center in another country ... useless.\\r\\n\\r\\n',\n",
       " 'i walked into this dealership and was greeted by a salesman who seemed pleasant in the beginning.  we discussed two trucks that i was interested in test driving.  i was very happy with the enthusiasm he had even after i explained that i may not be able to give a large down payment today. i unfortunately was not sure that today would be the day to make a deal but i was rather inquiring so that i could be prepared in the next month or two to sign a lease if they were not able to work with little money down. as we sat down after test driving the ford escape things seemed okay and still felt positive by telling me that \"miracles are going to happen today\".  as he starting negotiating he explained that my trade financed car would be worth 6,000.  i respect the fact that he wanted to make a sale, but my advice to this dealership is to worry about selling cars and making miracles rather than lying to the customer.  i carefully explained that i could not have a payment higher than 400 per month, so how does 573 a month and 2400 down today even close to what i was telling him i could afford.  i really thought that this dealership would be better than where i bought the current car i have but i guess enthusiastic sales people who give false hope is really what you promote. in about a month i will be on my search again and with money to put down going to a dealership in new jersey!',\n",
       " \"i went to dana after receiving calls from them to terminate a previous lease that i had with them and on a 2008 linoln mkx and to upgrade to a 2011 lincoln mkx. i was told that there were great end of year programs available and that i would get a great deal on a new lease. i met with a salesman, steve nilsen, who showed me vehicles that i was interested in with available option packages. he was great and sincere throughout the whole process and truly did try to work out a deal. he quoted a fair price for a new lease that was agreed upon by his manager dave. i did not complete the contract at that time because i was unsure of the color that my wife wanted but i told steve that i would return later in the day with my wife to purchase a vehicle. he assured me, after talking with dave, that the price that we had negotiated would be honored when i return. i returned later that day with my wife. dana did not have the color that she wanted (merlot) but she settled on her 2nd choice which was black. when i sat with steve to draw up the contract things began to unravel. he got some paperwork from dave and all of a sudden, the down payment did not include the first lease payment but earlier in the day it had. the next thing i knew was that i was no longer talking to steve but was talking to lou. he agreed that the first lease payment would be included but suddenly the monthly payment went up $43. we began to haggle back and forth. finally he came down close to the original price but was still $14 over the earler price steve had guaranteed through dave. he cited that the difference was due to some accessories that i had wanted and that steve had promised to include at no cost because i had waited around he showroom for 2 1/2 hours past my appointment time to meet with steve and i was not getting my first choice of color. finally, i agreed to pay the higher amount but was really not happy about it. i gave steve my credit card for a down payment. while he was processing the payment dave came by to talk to me. i told him that i really felt that he should have given me the car at the earlier agreed price. after a brief discussion he told me rather nastily that if i wasn't happy with the deal, i should leave. unfortunately, i did not. i returned 2 days later to pick up my new mkx. when i met with steve he said the car was detailed and went to check on the vehicle. he came back and then informed me that there was damage to the front bumper\\r\\n(it had been scuffed and chipped). he was very apologetic and said that they would give me a loaner car and have the bumper repaired and repainted. he assured me that it would be as good as new.  i told him i was not comfortable with paying for a new car and receiving a repaired one. he then offered to give me another mkx exactly the same as the one that i was purchasing. i agreed but steve returned 10 minutes later and informed me that it was sold and there were no other black mkx's available on the lot. he asked if i would take a different color but there were no other colors on the lot that i was interested in. steve went to the office and lou came over. he was rather nasty and could not understand why i didn't want to take the car after was repaired. i explained that i was paying for a new car not a repaired car and that if he wanted me to take a repaired car he would have to drop the price. he refusd to do so. i told him to terminated the deal and for my credit card account to credited. he said fine and walked away. then dave came over to me. our interaction was the same as the one i had with lou. he too was rather nasty and independent. there was no negotiation. it was going to be be his way or no way. i would not give in so he agreed to credit my account and cancel the deal. i left, went to tom's ford lincoln mercury, and had a great experience. i got the color i wanted (merlot) at a better price with no hassle and was treated professionally and with respect.  \",\n",
       " 'bad customer service.  no help, told sales manager i would never buy a car there again and the reason. his answer? ok  if its ok with him,its ok with me.',\n",
       " \"i brought a svt raptor from dana ford. i picked it up on 11/25/13 and it wasn't detailed properly  now it’s 12/26/13 my temporary tags have expired and i have no tags for my truck. when we call dana all we get is the blame game and the runaround. for a big dealership we expected better treatment and accountability.\",\n",
       " 'shaunna sat down with us and listened to what my family wanted in a vehicle. she offered suggestions but did not force or persuade in any particular direction;the decision was ultimately ours. shaunna took us out to the lot to take a look at the vehicles we were interested in. she was very patient and had an in-depth knowledge of the suvs were looking at ( titanium escape and 2017 mkc 2.0). any questions we had were answered politely and thoroughly. she even took the time out to look for a vehicle that would satisfy our aesthetic tastes. when we went to go finalize the lease and pick up the mkc, she was prepared with all the documentation and explained the nature of each document. when we were about to leave with the mkc, she took the time to explain all the features of the car and made sure we were comfortable with our choice. shaunna is an asset to your company and i would definitely recommend her to any potential customers',\n",
       " 'made an appointment, dropped off my with no hassle. recieved an update from jeff and a time to pick up my car.  repairs were made and my car was given a courtesy carwash.',\n",
       " \"sales person didn't know a lot so tom caccese took over and actually made the deal but anthony did \\r\\nbetter than the first sales person i dealt with the first time i tried to give my lease back, tom caccese is very knowledgeable but he's a little wet behind the ears will be very good once he gets his wings. justin picca was very helpful, he had to finish the deal anthony started (don't know why) nick giarletta was very nice.\\r\\ns \",\n",
       " 'our lease had 4 months remaining on our 16 explorer sport . wife wanted out of ford because of the service department is really bad to work with. but knowing she wanted another explorer we went to look and ended up leaving with a 2018 explorer xlt with the sport package.  cam made it quick and help alot if you need anyone to help you out please see daron johnson aka cam the man. hes quick and will help you with the purchase of a new ford. ',\n",
       " 'shaunna boreham was our sales representative and was very helpful in her knowledge of the used car we were interested in buying. the ford escape.  we appreciated the time she spent with us teaching us how  the cars dashboard computer panel worked.\\r\\n',\n",
       " \"i wasn't sure which vehicle that i wanted to lease.. when i walked into dana ford, i was greeted by a very  friendly woman. i believe her name is cassandra..  she showed me around the lincoln and ford showrooms...  she thought that i would really like a new explorer... so then i met vinny.. he was was a helpful salesman..  took me personally in their yard to look at all explorer inventory.. patiently went through all packages and features of explorers that i was interested in..\\r\\nwe found a car that i liked, and painlessly leased my new explorer...  i felt no pressure from the second i walked in..  from the girl in the front, to the sales team, i thank you,   anthony..\",\n",
       " 'mike colini was a great salesman, he knew i was in a rush, he knew what my affordability was and he was able to work a deal for me i was out of there in 2 hours..',\n",
       " \"we recently signed a lease for a ford edge with ecoboost. we are told it will take 4 to 6 weeks to come in. we'll repost once we've received the car. we worked with richard harley and the sales manager joe bogigian. both were friendly. richard was very helpful and while they offered us several other options, we really wanted the car we ordered which wasn't in stock.\"]"
      ]
     },
     "execution_count": 28,
     "metadata": {},
     "output_type": "execute_result"
    }
   ],
   "source": [
    "h"
   ]
  },
  {
   "cell_type": "code",
   "execution_count": 0,
   "metadata": {
    "colab": {
     "base_uri": "https://localhost:8080/",
     "height": 496
    },
    "colab_type": "code",
    "id": "pvoFYMk9v9qk",
    "outputId": "756a795a-cc63-487e-f532-559c9b3844ca"
   },
   "outputs": [
    {
     "data": {
      "text/plain": [
       "['i should have known better from my first terrible experience with dana lincoln since when i originally was looking for my car, the service was so horrific i had decided to proceed with lincoln of queens instead (which was a pleasure). back then i was not living in staten island but now that i do reside on the island i decided to contact dana lincoln to service my lease.  my car will be going back in a few months, but since the engine light has turned on i wanted to check it since i drive with my infant son everyday. when i called dana lincoln service the woman who answered did not even listen to my issue for service but rather saw i had months left and instead of scheduling an appointment put me on hold and all of a sudden i am on the phone with a sales rep. she did not tell me she was forwarding me to sales nor did i ask. what i asked for was an appointment for service.  when the sales rep sent me back to the original woman i spoke with she dismissively said that since i wasn\\'t looking to return the car and lease a new one at the moment, that and i quote \"due to the holiday season they are backed up and will not be able to get me an appointment to check the engine till february 24th\"!!!!!!!!! of course my response was absolute shock and to which she sighed and asked what color the engine light was and responded that \"it should be fine to drive with the engine light on but if it turns red that i must stop driving it and have it towed.\" \\r\\ni explained to her that this was unacceptable and dangerous .  my husband then spoke to this woman and she left us on hold for over 10 minutes to speak to \"keith\".  she finally came back and said keith was unavailable to speak to us as he was with a customer and would contact us back in 10 minutes.  it has been two days since. \\r\\n\\r\\nin the interim, i decided to contact queens lincoln service department.  the woman we spoke to was such a pleasure, who not only offered me an appointment the first of the week that followed, they are driving here to the end of staten island to pick up my car, leave me a loaner, service my vehicle and then drive it back to me. \\r\\n\\r\\nthe crazy thing is, is that i will be getting another lincoln and i was waiting till next month to purchase but based on the service with dana, i rather drive all the way to queens then simply drive the 10 minutes to dana.  everyone should always receive top notch service, but being a vice president of sales for over 10 years, i know from my experience that there is even more of attention that should be given for a prospective customer.  make the experience a memorable one to ensure the loyalty of the customer and remind them of the quality of lincoln. the reason people purchase luxury vehicles is not only to have the beautiful car but also to have ease of purchase and ease of service.  i would never recommend my family, friends, or clients to dana lincoln and to the viewers of this review.',\n",
       " 'i was deceived, documents are all with other numbers, tomorrow i am going to sue, justice should be, i never would have thought that people could be like that, people review their contracts and check everything, because they say that the insurance is free, and take money for her',\n",
       " 'where do i begin?  i walked in on christmas eve to look into getting a vehicle.  i was helped out by a very polite sales rep by the name of francesco.  this is the only bright spot of this disaster.  once we test drove the vehicle we wanted, we agreed upon a deal and i signed a lease.  prior to signing the lease i advised the finance group that my credit was not in the best of shape and ask if this deal was guaranteed regardless of credit.  i was advised by both sales rep and and finance that this deal was guaranteed and i could come tuesday to get the vehicle.   so foolish me believing these con artists, leave  the down payment agreed upon to set up lease of the vehicle. \\r\\n\\r\\nso i call tuesday to confirm that i will be there to pick up the vehicle, and i speak to the finance manager ( jeff) who now states the deal is not valid and they can not do anything without a co-signer.  when i advised that both the sales rep and financial manager said that this would not be an issue.  i was told that this never occurred.  so i asked for the refund of my payment and was told by jeff that this would be ready in the morning for me to pick up.   \\r\\n\\r\\nso now wednesday i call and speak to another gem (steve) who now tells me that refunds are not given until friday.  when i advised that jeff stated this would be ready today, i was called a liar.  when i advised that this experience has been dreadful and i would  file complaints, steve stated that it isn\\'t their fault my credit sucks.   really classy management here.    \\r\\n\\r\\nso now today (friday) around 2pm, i walk in to get my refund check,  and of course it still isn\\'t ready yet.  so basically dana ford is holding my cash down payment hostage.  when i asked to speak to the owner, i was advised that i was not allowed to.   not even 5 minutes later, i have my attorney call dana ford and all of a sudden, there\\'s nobody there that my attorney could speak to.   then my wife calls and speaks to the manager in finance and they tell her that \" had she not called, they were going to make us wait until tuesday\",  and then has the nerve to call my wife and tell her that unless we take this review down,  we will be waiting another 2-3 weeks to get this check.  are you kidding me??  update 3:24pm est.  juan has now called my wife advising that now we are not getting our money back and that we can sue him for the check.  \\r\\n\\r\\n\\r\\nthis is the kind of horrific experience that you only read about in magazines or hear about in the news.  dana ford is an absolute disgrace and could care less about the hard working people unless they are making money.   i have complained to the bbb and the consumer protection agency.  i will also be using my social media and print media contacts to bring to light what an absolute disgrace this dealership is.  ',\n",
       " 'received a quote in writing and put a deposit of $500/-. with a 6 to 8 weeks waiting period for a ford fusion energi.  on completion of 6 weeks, called the dealership several times without any answer. finally when i visited the dealership was told it would to take another 6-to 8 weeks.  however when asked for a refund, the general manager found a vehicle matching my specs and trim with a promise it would be there within two days. went to take delivery  of the vehicle and everything was as smooth as can be. started signing the paperwork and suddenly noticed that the price for the \\r\\nbuyout was not the same as the written quote.  the finance guy told me the price was from ford motor company which was lie since i had already spoken to ford motor co.   if a written quote which i have in my position cannot be honored, how do we trust a dealership to do the right thing after accepting delivery of the vehicle.\\r\\n',\n",
       " 'brianna from sales called on my cell today, butchered my first name and completely changed my last name.  when i corrected her she said \"oh\" then proceeded with her script. told me my lease was up soon and asked if i wanted to come in and pick out a brand new car.  i said \"no\".  she said \"fine\" and hung up.  anyone halfway concerned with keeping a customer would have at least tried to inquire \\'why not\\' or at least ended the conversation on a pleasant note.  this is just typical of the overall experience i have had with dana ford sales and service departments for the past 3 years; you\\'re not worth their time if you\\'re not making them money.',\n",
       " 'danasux,i agree with you.  the only people who would write a postive review is family, friends or employee.  i just find it amazing how positive reviews only show up after negative reviews have been posted. sounds like damage control to me.  maybe they should just try to be better people and stop ripping people off.  but then again just shows what type of antics they are up to and low they are willing to go.',\n",
       " 'they are the worst to deal with, had the ford pin # they charged me more than ford stated with the pin#. which now is a legal issue and i got ford involved so they are going to audit them for double dipping and pocketing the money i should have saved.  was told there was sync in the car and there wasnt, had to order the mats and etch my windows 2 times. doug hansen who is the gm is very disrespectful and will not try to rectify the problem.  i would not buy from them again. i should have known better with all he people complaining about them.',\n",
       " 'they are the worst to deal with, had the ford pin # they charged me more than ford stated with the pin#. which now is a legal issue and i got ford involved so they are going to audit them for double dipping and pocketing the money i should have saved.  was told there was sync in the car and there wasnt, had to order the mats and etch my windows 2 times. doug hansen who is the gm is very disrespectful and will not try to rectify the problem.  i would not buy from them again. i should have known better with all he people complaining about them.',\n",
       " 'michelle is absolutely rude and she huffs at everything said to her. she made the whole service unpleasant and she argued with my warranty company over minor things which made my wait longer. ',\n",
       " 'i went recently to the service department and it was terrible.   they had my car for 5 days and did nothing.  the service agent apologized on the 5th day because one of the mechanics must have left my car on the side.  ',\n",
       " 'this is the worst dealership i have  a 2017 ford explorer  they give goods deals although please believe me \"worst \" customer service !! my car needed to serviced they don\\'t provide loaner cars and if they do an exception you will have to wait your turn   for a loaner car they never call i called for 3 months i call repeatedly the point i gave up but now airbag is not working on passenger side the light came on they still are not taking in my car i called and finally got a car for this morning i called this morning and nobody knew what i was talking about finally the manager anthony gets on the phone and says i\\'m playing games and i\\'m a liar!!!!!!that i was supposed to get my loaner yesterday i told him to speak  with his partner todd his partner todd tells him i was supposed to come this morning and still say i\\'m playing games and we\\'re not able to help me i hung up i didn\\'t want to start cursing i held in my anger and hung up i am now making a complaint and trying to figures out where and how to fix my car   skip dana lincoln buy or lease your car from another location!!',\n",
       " \"went to lincoln to lease a car. all they had was loaded models but the sales rep wanted to make a deal. the sales manager clearly just wanted to go home and didn't even attempt to come close in price to what the sales rep originally told us.\",\n",
       " 'besa was extremely rude, and unprofessional. rather than trying to provide service for mine and my husbands vehicle, she was trying to service my husband instead. anytime she received new information about the status of our car she chose not to share it with me but only with my husband. while in the waiting room she approached me to let me know that she was looking for my husband to talk to him. at the time he stepped outside to make a job related call. i told her that and we would find her when he came back so we can get the update together. instead she insisted that she speak to him in private and chased him down outside cause she\\'s use to \"walking the floor\", her words not mine. the entire time she was rude and had an attitude with me and being flirtatious with my husband. and to make matters worse before we left, my husband was walking in front of me and she decides to cut me off and  inappropriately touched him and interlocked her arm unto his as if they were a couple.  i told her never touch my husband again. but what i should have done was tell her manager since he was right there, so he could know just what she had done. all this would show if you check the cameras for friday april 28,2017.   i was baffled by how this woman could be hired to work at the dealership when she was acting in such a grotesque manner. i was appalled and not to mention disrespected and my husband was sexually harassed for which made him uncomfortable. i hope that no one else has to deal with her unprofessionalism and that her management will deal with her accordingly like they would if a man would have done this. warning to all couples getting there car serviced avoid besa at all costs. and men don\\'t let her get away with sexually harassing you, no one should have to endure that type of behavior.  ',\n",
       " 'had to go to nj manerger couldnt care less thanks 415mnth 2016 exp sport loaded jeresy city joe b formally dana manger  carma a xxxxx',\n",
       " 'i am a former customer of dana ford. i have been called in the past three months about turning in my leased edge. when i ask questions about new payments or are my remaining payments going to be rolled nto the new ones, i get no answer. last week i received another call and again my questions were not answered and i was told my salesman still worked there. well much to my pleasure i am now a customer of bayridge ford. i have my new 2013 edge fully loaded and with less of a payment. by the way i don\\'t like being lied to since i found out my salesman now works at manhatten ford. too bad we lost island ford but i am glad i found bayridge ford. too bad the personnel at dana aren\\'t schooled in how to treat customers. all they want is the sale at any cost regardless of what the customer wants. they are \"helpful\" whan they make the deal and then when you go back for your registration, they don\\'t even look at you. a generated letter is sent out, but it\\'s the same for all customers to see if you like your new car. too bad we lost island ford but i am glad we now have bayridge ford. it\\'s worth the toll!',\n",
       " \"waited for two hours for an oil change when i had an apt set.  not only did i have to wait a long time but they were not so nice about making me wait so long.  they told me they thought 2 hours was a compltely accpetable amount of time to wait and i would have waited even longer if i had a honda.  to top it off they were going to charge me $100 for an oil change.  i should have gone to jiffy lube and got an oil change for $30 and waited 20 minutes.  i love my mkx but don't think i would buy another one becasue the service is just so bad\",\n",
       " 'tiffany was in contact with me for months keeping up to date on the new lincoln trucks i was interested in! super informative professional and helpful..... dana lincoln is lucky to have her!',\n",
       " 'first and last time i will ever do business with this dealer. every step of the process was flawed. what i saved in dollars is not worth the overall headaches that came in completing this trasaction. you get onetime to make a first impression, and my first impression is not very good. i guess you pay for what you get. cheap is not always the best. lesson learned. the only positive of this deal is the effort of frank curry. this man was a complete gentlemen and tried to make this negative into a positive. ',\n",
       " 'understanding the economic times, i think the oil change was a little pricey, labor included, around $45....since they are the only ford dealer on si, i really don\\'t have a choice. i wouldn\\'t trust a \"quik lube\" so my only option is dana. that being said, i know they are reputable, so i will be back.',\n",
       " \"went in for oil change and inspection and had an appointment for 7:30am \\r\\nwhen i made the appointment i told them i needed the updated gps card that\\r\\nyou have to pay for the upgrade. i explained that on the last service they didn't have\\r\\none in stock so please make sure you have it this time. after 3 1/2 hours of waiting and\\r\\ncomplaining what is taking so long, my vehicle was ready but they didn't have the updated\\r\\ngps card in stock again. poor service!!! if my vehicle wasn't under warranty i would never go back!\\r\\nit's a joke when the ask you to please write a good review when they keep doing the same thing\\r\\nall the time. finally left there at 11:00 disgusted!!!\",\n",
       " 'i have been buying cars from dana for the past decade. i have leased 4 cars and bought 1 and never had a problem. recently i had an issue with damage to my bumper, but it has since been resolved. ',\n",
       " \"i can say alexsandra velasquez my service rep was very nice and friendly even tho my 2013 ford edge is not the what i had expected but i guess there's always going to be  problems with a man made item. my tech james was very knowledgeable with the vehicle and all its recall problems.  so at least that was a relief to know what's going on.\",\n",
       " 'great sales woman !!very personable .  listened to what i wanted . did not push.helped get what i wanted in price  and model . financing and paperwork done easily and quickly. ',\n",
       " 'aashar was a great help he got me a great deal and in to the exact car i wanted. however the process was very long. i was literally there all day.  i have leased many cars in the past from different dealerships and never had to wait so long for a vehicle. other than that dana is a beautiful dealership with many of options and  they have a very tentative staff. ',\n",
       " 'great sales woman ! . listened to what i wanted . did not push.helped get what i wanted in price and model. over all helped with everything i needed even on her time off she’s amazing ! ',\n",
       " 'always have a great outcome with dana ford! leased my 3rd f150  this year. lauren made the process very easy and was a pleasure to work with, hope she is still there in 3 years! ',\n",
       " 'i have been going to dana for over 20 years. they have good quality service. i especially appreciate  the outstanding service from juan estrella and rich harley. they are class acts and truly an asset to dana.']"
      ]
     },
     "execution_count": 81,
     "metadata": {
      "tags": []
     },
     "output_type": "execute_result"
    }
   ],
   "source": [
    "g"
   ]
  },
  {
   "cell_type": "code",
   "execution_count": 0,
   "metadata": {
    "colab": {
     "base_uri": "https://localhost:8080/",
     "height": 530
    },
    "colab_type": "code",
    "id": "IURBfqurwCSx",
    "outputId": "8c0ed008-c417-4ffc-e6b9-67c8e790b121"
   },
   "outputs": [
    {
     "data": {
      "text/plain": [
       "['i tried to return a lease to dana ford, and they told me they wont take it because the car wasnt for them. instead of the manager being all nice about it, he was yelling and screaming. saying i am not making money therefore i wont take this fu&% car back. i went off on them on their facebook page. they responded that if it was over 70 miles from the original dealer they would take the car. the dealer i got the car is exactly 84.1 miles away fron dana ford. if the manager had good customer service skills, he would have taken the vin # down and excused himself while he looked it up on the computer. instead when my white ford fusion pulled into the service garage he came out like a crazy man. asking what do we want. my mom and brother was nice and said we need to return the lease it over. that is when he started screaming and yelling. he told my lease guy who came with me becuase ford had a policy where the owner needs to be there. the manager came running out the showroom and told the guy i told them i am not taking the car. to get off his lot. lucky i make my mom record stuff like this when i am not in her presents. if you wanted to be treated with respect and dignity do not go to dana ford. bring your business someplace else. where they will respect you if you did or didnt get a car from them. ',\n",
       " 'agreed upon price on lease, when it was time to pick up the car, they changed the price and refused to give my deposit back.',\n",
       " \"this service manager or director has no service, i've never met anyone like him especially at a car dealer that i have been doing buisness with forever, he spoke to me as i was a child and treated me with no respect, i gave it back to him and he's lucky i have way too much going for me because he would have had to eat a coupletter slaps, he also treats the porters or low level employees like crap, don't belive me grab one of the kids working there on the sode and ask them. he has made me hate dana ford the only nice people are jaime liga and besa in the service department  (i have never delt with others so ll leave them out)\",\n",
       " \"went to go pick up my new car today that i left a deposit for and signed all paperwork last night. i was told that i needed to pay more money because the bank wouldn't accept what joe p. guaranteed me last night. the finance person- maybe john- was rude and disrespectful- i left and demanded that the gm call me and apologize. shocking, he didn't, and he furthermore explained that the business he oversees is acceptable, and sees nothing wrong with the conduct. so, it's ok for employees to guarantee something they have no control over. he then tried to assure me that my 1500 deposit was not being held hostage- well thank you. when i called back to get my refund for the deposit i left last night- i was asked again what price i would agree to pay- thanks but no- i was then told that i have to wait until friday to get my deposit back- because the owner only signs for refunds on fridays- and it would another week before the money was credited to my account. \",\n",
       " \"my husband and i went in to check out one of the new ford raptor. after we were given the price and was told we would have to put down almost 30g to get our payments to be $900 we no longer wanted the truck. we looked at an older year of the raptor and we didn't love it but we liked it. so they encouraged us to put down $500 deposit and assured us that it is refundable. when we were no longer interested in the truck they refuse to give us our money back. this is bad business and terrible customer service i would not recommend this dealership to anyone. \",\n",
       " 'tried to return a lease (was not leased from this dealer).  i telephoned the dealership this past thursday and asked if they have a problem taking my car back since it wasn\\'t leased from their dealership.  they said not a problem, no appointment was necessary.   i took off from work today purposely to bring the car back.  we showed up today to bring the car (which was inspected and under-miles) back.  the manager told us he can\\'t take our car because he had no room for it.  when we questioned if we had leased the car from them 3 years ago, would they take it back?  he answered yes.   if we were going to lease another car from them today they also would have taken it back.  we also asked that if we moved from tx and wanted to return this car - glenn answered - yes he would have taken that car back, but since we leased from nj - he said he had no room.   this all transpired very nasty too.  he was totally unprofessional and nasty.   we called and lodged a complaint with ford credit.   ford credit said it\\'s the dealers responsibility to take back the car and that dana ford was breaching their agreement as a franchise.  i informed glenn i would post this and his answer to me was \"go ahead\".   very unprofessional dealership who just lost a future customer.   ',\n",
       " 'went for a tsb ( technical service bulletin) to dana lincoln. job was done very bad. unprofessional. tsb took them 3 days for 3.1 hrs job time. technicians damaged my car interior... did not finished tsb. not recommend to use that dealer service. very unprofessional. service adviser and technician did not listen customer, and does not follow correct procedure when fixing cars.\\r\\nupdate:  on a second pickup time, after inspecting my vehicle, i have noticed very bad and visible scratches on my dash panel, passenger door interior, b-pillar and seats plastic, driver seat plastic  was broken, and, of cause, improper fitment of my front seats leather sleeves, ( however , improper fitment was the reason, that i have not accepted job for the first time). so when i told  and showed these problems to my service  adviser, i was told that i have to accept a job and complain to a lincoln.  seeing that dealership does not care about clients, i have removed vehicle from dealership and went to my house, once i got on highway, i have noticed that my steering wheel is off center, and not centering correctly after turns. so i think they messed up my steering angle sensor , or maybe badly hit a pothole ( speedbump). i have returned immediately to dealership and showed these problems to service manager - martin. guess what answer i got? - complain to lincoln... after i have open a case with lincoln, and wrote review on dealer rater, i have been contacted by service manager - martin ( the person who said: complain to lincoln, remember?) who demanded that once i will remove my review, only than he can (  he can, but does not want)  seat and discuss with me my car problems. however he did not sounded that he care about anything,  he sounded like he is giving me a huge favor. also he told me that he does not care about my single negative review... ',\n",
       " \"this dealership is a joke and should be ashamed of themselves.  i spoke with tony donato on the phone and made him an offer on a pre owned vehicle. he spoke with the used car manager and an agreement was made that if i came down today they would make the deal for me if i came down today.  after driving over an hour and a half tony had one of his sales puppets tell me that the vehicle was sold and someone called him with a deposit.  i asked to speak with tony directly and he told me the car was sold and the people were traveling over 3 hours and were on their way. tony agreed to sell me the car and went back on his word. he is very shifty eyed and cannot be trusted.  i would have left a deposit if he wanted but we left it by his word that he will hold it for me to come down.  to add to the lies and deceit of this dealership i received an email and follow up phone call a few days after this. they told me the car was still available and if i'd like to take it for a test drive.  the way this dealership conducts it's business is part in parcel to the slime ball tactics of car sales spear headed by tony donato. in retrospect they probable didn't want to make the deal at the agreed price.  i wish them luck!!! signed a lost customer for life...\",\n",
       " 'after i purchased a specialty mustang, anthony g made promises he did not keep, did not return my calls and after hurricane sandy i appealed to him for replacement paperwork and was again ignored.',\n",
       " 'we had a situation with dana that people should be warned of. we put a deposit down on a car under the pretense that we would be approved for a specified deposit and monthly payment. when the time came to finalize the deal, the dynamics of the deal changed and we had to come up with $5000.00 above what we expected to pay.   needless to say we decided not to do the deal, as a result, they refused to refund our $500.00 deposit. i understand this tactic is to force buyers into a deal, and if they have a deposit, they can change whats to be paid apparently, or else lose your deposit.  so were out 500.00 and be warned dana customers... do not give a deposit and do not believe it will be refunded even if they tell you it will. the finance manager mitch explained that they were keeping it because \"he had to do alot of work to get the deal done\"?!?!  im surprised a company like ford operates like this.',\n",
       " 'awful dealership. i would rather not drive then buy a car from here. \"new\" ford edge was given to me with 200 miles on it, an empty tank of gas ( yes the gas tank was actually on e), no floor mats, and the car was filthy. dealership refused to fill up the gas tank, after fighting with them they told me to come back another day when i came back they refused to fill it saying someone had to go with me to the gas station and no one was there that could. every person that works in this dealership has an awful attitude will never step foot in this dump ever again. ',\n",
       " \"absolute worst experience of my life!!!!  went in and test drove a 2011 ford explorer. called the salesman steve on mon morning and told him we would be in at around 6:00pm to purchase the vehicle.  when we got there we waited a little bit because we were early and he had another customer.  we sat down with him and then it all went south.  he had no idea how much the lou had quoted me on sat and i could not remember the exact number.  i did ask for the number in writing on sat but the refused to give it to me.  after waiting in the dealership for over an hour my husband and i left.  i wanted $500 off the price they were offering me because i had to wait so long.  i spoke to doug the general manager and he informed me that he would not reduce the price because he did not feel he should lose money on the deal.  even though we know they are not losing money that is fine that he did not sell me the car.  for a manager doug is very unprofessional and i'm not saying that because he refused to budge on the price because the funny part about it is if they would have had everything ready for us when we walked in we would have purchased the car for the original price.  i ended going to all american ford and it was the best experience. we were offered coffee as soon as we walked in.  our salesman chuck was very helpful and knowledgeable.  we ended up leaving with the car that same day and paid less for it.  stay away from dana ford!!!!\",\n",
       " 'plain and simple dana ford is good at selling fruits especially lemons.and doug hanssen the g/m of dana is the top rated fruit salesman at dana fruit/vegetables.hes good at selling rotten fruits and taking your money.i would and will never buy a car /fruit from dana nor would i recomend anyone to buy fruits and vegetables at dana ford you can be garanteed that the fryits you buy at dana ford will be rotton to the core',\n",
       " \"in march of 2008 i went to dana lincoln mercury to purchase a mercury mariner.  when i found the truck that i liked i was asked to leave a deposit and fill out a credit application.  i left a $500 deposit on the truck and completed the credit application.  unfortunately for me i was not approved for the truck from the leasing company and i was told i would need a co-signer.  having someone co-sign was not an option for me.  when i called tommy the sales person and told him that i didn't have a co-signer and inquired about my deposit i was told to come in for my deposit.  when i went in to pick up my deposit i was told that it could take up to 9 months to get back my deposit because deposits are usually nonrefundable.  i was never told that when i was asked to leave a deposit nor did i sign anything stating that i was aware of this policy.  for almost a year now i have been calling daily inquiring about my deposit and have been given the run around.  i was told that they are looking into it, that they couldnt find my paperwork and proof of deposit (so i faxed them a copy of my check), you name it i was told it!!  last week i was told that i was approved for the truck back in march of 2008 and that my deposit was nonrefundable.  that is ridiculous and a lie, i was told last year that i was not approved for the truck.  now all of a sudden i was approved.  i am disgusted by how i was treated by dana lincoln mercury and the nonsense i have been told for the past year.  i ended up purchasing my truck from sansone auto mall where the sales people and managers could not have been nicer!!! i would not recommend anyone purchasing a vehicle from dana lincoln mercury!!!  now i will be pursuing my case in small claims court, it will be the best $19 i have ever spent to take them to court.  they have no business holding onto a deposit for a vehcile that i was not approved to purchase.\",\n",
       " 'i purchased a loaded top of the line 08 mkx from dana lincoln mercury on staten island.  all i kept hearing from joe (the sales manager) was that the dealership was ranked top whatever in the country for the number of sales it made.  i really felt like the only thing that mattered was the volume the dealership was producing and not the quality of service it was providing.  they proved that as i had several problems upon delivery. just to name a couple, the automatic start did not work and there were several scratches on the truck.  when i tried to have them rectified by doug hansen, this is some of what he said to me:\\r\\n\\r\\nfirst off he was loud and obnoxious.  upon seeing it, he said oh well it’s only about ½ inch big and nothing compared to the wear and tear that would happen.  no cars at any dealership including bmw, mercedes or wherever have a perfect vehicle.  he started yelling at me and said he is not going to do anything about it.  if i wanted to have it painted he would do so or i should just leave the dealership.  the deal is done so goodbye.  he had work to do.  he didn’t know what i did for a living that i had so much time on my hands to research incentives available and know about dealer cash available.  no he did not give out free key rings or brochures and too bad about the scratch.  i already drove the car off the lot and it lost about $6,000 in value already.  he proceeded to walk away and said if i wanted his card, i could go ahead and complain to whoever the hell i wanted to.\\r\\n\\r\\nthey are completely unprofessional and rude at this dealership!!!!!\\r\\n',\n",
       " \"the dishonesty starts from the general manager to finance to sales help. one you put a down payment you aren't a priority any longer .\",\n",
       " 'do not ever leave a deposit on any vehicle with dana ford lincoln of staten island. \\r\\nupon receipt of my deposit, the salesman jonathan taylor and his manager at the time on 10/30/16, claimed that if i didn\\'t take delivery of the vehicle, the refund was totally refundable. it was after 5 pm on a sunday (the deposit receipt is dated 10/30/16 @ 5:22pm). the manager told me to just leave a deposit. as they were to be closed by 5pm already, and they told me they \"wanted to go home to watch football\". they basically took my deposit and pushed me out the door, with only a receipt for the credit card deposit transaction and nothing else. no buyers order, no nothing.  without a test drive, they lead me to believe that i needed to leave a deposit to secure the special low price on that particular vehicle with 0% financing. told me that they will call me tomorrow after speaking to the bank about financing. need less to say tomorrow came and noone called me back from dana ford lincoln. so after work, i decided to call around for insurance quotes. upon learning the high quotes i was getting from insurance companies to insurance this vehicle for full coverage, i decided to not purchase any new car at this current time. i called back the salesman jonathan taylor that day and told him i was not going to purchase that vehicle anymore. i explained to him about the high insurance quotes i was getting. i told him i will expect my deposit to be refunded. jonathan then began to try to persuade me to still go ahead with the purchase. after a few attempts, he then tried to get me to drive to the dealer to meet with their insurance agents for a \"better quote\"..  i then explained to him that after ten different insurance agents quoted about the same prices, i didn\\'t feel the need to waste more time. jonathan then tried to persuade me to look into a totally different vehicle that i was not interested in at all. i told him at this current time i will just like a refund of my deposit that they all assured me was possible. he told me he will have  glenn mahoney the general sales manager call me back. after noone called me, i sent an email to jonathan taylor at 10pm on november 1, 2016, which to this day he has yet to return. on 12/30/16 while on three way calling with my credit card company and dana ford lincoln a cashier named ivy at ext.250, ivy promised me i will see a full refund back to my credit card with a couple days.  after not seeing the refund on my credit card, i called dan ford lincoln back yesterday and  today january 16, 2016 glenn mahoney just called and said he didn\\'t know if the vehicle i had a deposit on was still in stock, and after 48 hours after a deposit is taken on it, if it is not delivered by then, he is allowed to sell it. glenn mahoney then claimed there is no refund given to an approved sale. how is it an approved sale if i never took delivery ?  remind you i have a letter dated 10-31-16 in my house from ford credit  stating that the sale was not approved. so glenn mahoney and his staff at dana ford lincoln of staten island believe they are entitled to keep my deposit and they never even started the vehicle up for me, never moved it from the same spot it was in.  nothing !!!!\\r\\ndo not ever leave a deposit on a vehicle, there is no need to.\\r\\nthis may take some more of my valuable time, but this is not over. i will update this review at a later time. ',\n",
       " 'i came to the dealership to lease a new ford fusion 2013. i took a test drive, decided on the color and model and sat down with mr. white to negotiate a deal. we came to an agreement, and in order to confirm it with the manager he asked for a credit card to show that we were \"serious about making this deal\". the manager okay\\'ed the deal and came over to shake our hand, everything was done. i paid the money down and was set to come back two days later to pick up the car. i asked for a copy of the agreement, but was told that i would receive it when i came for the car. i found this shady. an hour before the time that i was supposed to pick up the car i called to confirm and was told that everything was set. i came back to get the car and was suddenly told that they had made a \"mistake\".i was absolutely outraged that they were going back on the deal that we had made and they refused to give us what we agreed on. they tried to sell us a different car,  wasn\\'t what we came for so we left with no deal. this was a huge inconvenience as we really needed a car at the time that we made the deal and instead it took us another week before we could get to another dealer. we went to a great dealership in manhattan and in three hours we left driving a new car with just about the same deal that we had originally made at dana. i will never be going back to dana again. everyone stay away from unprofessional at dana!!!!!!!!!!!!!!',\n",
       " 'we bought our brand new 2011 ford explorer ($40k) from dana in july.  the dealership since has been uncooperative in issuing a military incentive promised by ford at the time of purchase. the incentive was for $500 and both the dealership and ford motor co. customer service have given us a run around for months. both have ignored our requests and when reaching out to dana ford we get the \"eye rolling why are you bothering us\" response.\\r\\n\\r\\nadditionally, at the time of the sale we were promised the all weather mats and were once again given the run around for weeks before a sales manager realized how stupid it is for them to make a big deal out of $60 mats. \\r\\n\\r\\nto add insult to injury, we have already serviced the explorer twice.  once\\r\\nfor a \"loose wire\"  that caused the rear a/c to go in and out sporadically\\r\\nand just recently another issue with the cooling fan needing replacement.\\r\\n\\r\\ni would never go back to dana ford to purchase a vehicle or to service the current one.\\r\\n\\r\\nshould have went with the honda pilot. dealing with ford is like dealing with a call center in another country ... useless.\\r\\n\\r\\n',\n",
       " \"i had a 2011 ford escape limited in 4x4 which i leased from dana. my lease was up so i went to get another one.i told the salesman i wanted a 4x4 like my last one he asked if i would consider a fwd i said no we made a deal i asked the salesman if it was fwd or 4wd  i wanted to be sure i was told i was told 4wd, as a matter of fact the salesman told me over and over how i was getting so much more truck for the same price. well as it turns out less than a week later we get some snow, i jump into my truck and proceed to get stuck, now that never happened with my old truck so i dig out the window sticker that the dealer had removed and put in the glove box before we picked up the car and i find that it dosen't have 4wd at all. i called the dealer to ask about why i was told it was a 4x4  when its not. i was told i could not have been told that as no way i could have gotten a 4x4 for that price. i was lied to and missled just to make a deal nothing matters but to make a sale. \\r\\n\\r\\n\",\n",
       " 'i walked into this dealership and was greeted by a salesman who seemed pleasant in the beginning.  we discussed two trucks that i was interested in test driving.  i was very happy with the enthusiasm he had even after i explained that i may not be able to give a large down payment today. i unfortunately was not sure that today would be the day to make a deal but i was rather inquiring so that i could be prepared in the next month or two to sign a lease if they were not able to work with little money down. as we sat down after test driving the ford escape things seemed okay and still felt positive by telling me that \"miracles are going to happen today\".  as he starting negotiating he explained that my trade financed car would be worth 6,000.  i respect the fact that he wanted to make a sale, but my advice to this dealership is to worry about selling cars and making miracles rather than lying to the customer.  i carefully explained that i could not have a payment higher than 400 per month, so how does 573 a month and 2400 down today even close to what i was telling him i could afford.  i really thought that this dealership would be better than where i bought the current car i have but i guess enthusiastic sales people who give false hope is really what you promote. in about a month i will be on my search again and with money to put down going to a dealership in new jersey!',\n",
       " \"i went to dana after receiving calls from them to terminate a previous lease that i had with them and on a 2008 linoln mkx and to upgrade to a 2011 lincoln mkx. i was told that there were great end of year programs available and that i would get a great deal on a new lease. i met with a salesman, steve nilsen, who showed me vehicles that i was interested in with available option packages. he was great and sincere throughout the whole process and truly did try to work out a deal. he quoted a fair price for a new lease that was agreed upon by his manager dave. i did not complete the contract at that time because i was unsure of the color that my wife wanted but i told steve that i would return later in the day with my wife to purchase a vehicle. he assured me, after talking with dave, that the price that we had negotiated would be honored when i return. i returned later that day with my wife. dana did not have the color that she wanted (merlot) but she settled on her 2nd choice which was black. when i sat with steve to draw up the contract things began to unravel. he got some paperwork from dave and all of a sudden, the down payment did not include the first lease payment but earlier in the day it had. the next thing i knew was that i was no longer talking to steve but was talking to lou. he agreed that the first lease payment would be included but suddenly the monthly payment went up $43. we began to haggle back and forth. finally he came down close to the original price but was still $14 over the earler price steve had guaranteed through dave. he cited that the difference was due to some accessories that i had wanted and that steve had promised to include at no cost because i had waited around he showroom for 2 1/2 hours past my appointment time to meet with steve and i was not getting my first choice of color. finally, i agreed to pay the higher amount but was really not happy about it. i gave steve my credit card for a down payment. while he was processing the payment dave came by to talk to me. i told him that i really felt that he should have given me the car at the earlier agreed price. after a brief discussion he told me rather nastily that if i wasn't happy with the deal, i should leave. unfortunately, i did not. i returned 2 days later to pick up my new mkx. when i met with steve he said the car was detailed and went to check on the vehicle. he came back and then informed me that there was damage to the front bumper\\r\\n(it had been scuffed and chipped). he was very apologetic and said that they would give me a loaner car and have the bumper repaired and repainted. he assured me that it would be as good as new.  i told him i was not comfortable with paying for a new car and receiving a repaired one. he then offered to give me another mkx exactly the same as the one that i was purchasing. i agreed but steve returned 10 minutes later and informed me that it was sold and there were no other black mkx's available on the lot. he asked if i would take a different color but there were no other colors on the lot that i was interested in. steve went to the office and lou came over. he was rather nasty and could not understand why i didn't want to take the car after was repaired. i explained that i was paying for a new car not a repaired car and that if he wanted me to take a repaired car he would have to drop the price. he refusd to do so. i told him to terminated the deal and for my credit card account to credited. he said fine and walked away. then dave came over to me. our interaction was the same as the one i had with lou. he too was rather nasty and independent. there was no negotiation. it was going to be be his way or no way. i would not give in so he agreed to credit my account and cancel the deal. i left, went to tom's ford lincoln mercury, and had a great experience. i got the color i wanted (merlot) at a better price with no hassle and was treated professionally and with respect.  \",\n",
       " 'shaunna sat down with us and listened to what my family wanted in a vehicle. she offered suggestions but did not force or persuade in any particular direction;the decision was ultimately ours. shaunna took us out to the lot to take a look at the vehicles we were interested in. she was very patient and had an in-depth knowledge of the suvs were looking at ( titanium escape and 2017 mkc 2.0). any questions we had were answered politely and thoroughly. she even took the time out to look for a vehicle that would satisfy our aesthetic tastes. when we went to go finalize the lease and pick up the mkc, she was prepared with all the documentation and explained the nature of each document. when we were about to leave with the mkc, she took the time to explain all the features of the car and made sure we were comfortable with our choice. shaunna is an asset to your company and i would definitely recommend her to any potential customers',\n",
       " \"sales person didn't know a lot so tom caccese took over and actually made the deal but anthony did \\r\\nbetter than the first sales person i dealt with the first time i tried to give my lease back, tom caccese is very knowledgeable but he's a little wet behind the ears will be very good once he gets his wings. justin picca was very helpful, he had to finish the deal anthony started (don't know why) nick giarletta was very nice.\\r\\ns \",\n",
       " 'our lease had 4 months remaining on our 16 explorer sport . wife wanted out of ford because of the service department is really bad to work with. but knowing she wanted another explorer we went to look and ended up leaving with a 2018 explorer xlt with the sport package.  cam made it quick and help alot if you need anyone to help you out please see daron johnson aka cam the man. hes quick and will help you with the purchase of a new ford. ',\n",
       " 'shaunna boreham was our sales representative and was very helpful in her knowledge of the used car we were interested in buying. the ford escape.  we appreciated the time she spent with us teaching us how  the cars dashboard computer panel worked.\\r\\n',\n",
       " \"i wasn't sure which vehicle that i wanted to lease.. when i walked into dana ford, i was greeted by a very  friendly woman. i believe her name is cassandra..  she showed me around the lincoln and ford showrooms...  she thought that i would really like a new explorer... so then i met vinny.. he was was a helpful salesman..  took me personally in their yard to look at all explorer inventory.. patiently went through all packages and features of explorers that i was interested in..\\r\\nwe found a car that i liked, and painlessly leased my new explorer...  i felt no pressure from the second i walked in..  from the girl in the front, to the sales team, i thank you,   anthony..\",\n",
       " 'mike colini was a great salesman, he knew i was in a rush, he knew what my affordability was and he was able to work a deal for me i was out of there in 2 hours..',\n",
       " \"we recently signed a lease for a ford edge with ecoboost. we are told it will take 4 to 6 weeks to come in. we'll repost once we've received the car. we worked with richard harley and the sales manager joe bogigian. both were friendly. richard was very helpful and while they offered us several other options, we really wanted the car we ordered which wasn't in stock.\"]"
      ]
     },
     "execution_count": 82,
     "metadata": {
      "tags": []
     },
     "output_type": "execute_result"
    }
   ],
   "source": [
    "h"
   ]
  },
  {
   "cell_type": "code",
   "execution_count": 0,
   "metadata": {
    "colab": {
     "base_uri": "https://localhost:8080/",
     "height": 1000
    },
    "colab_type": "code",
    "id": "Sc1kc5aTwDAq",
    "outputId": "48636ffd-199a-4dd7-ef4b-0f525615f922"
   },
   "outputs": [
    {
     "data": {
      "text/plain": [
       "['there service magr keith is a liar. was charged for a toll to return a loaner car for a warranty transmission problem. was told i would be credited back to my cc. never happened. \\r\\nwould never buy or visit them again. ',\n",
       " 'i just got off the phone with them and they have offered me an appointment 3 months from now, which i would like to say is a rare occurrence, but this happened to me the fist time i tried to have my vehicle serviced as well.(no exaggeration they said 3 months last time as well)the manager told me they are taking care of all of the police vehicles and can not squeeze me in. maybe its me, but customers service should extend to your loyal customers as well as, or even more than, a contract you got from the city',\n",
       " \"traded my truck in they didn't pay it fully off call to talk about it they told me they didn't give a s***\",\n",
       " \"whenever my car needs service, i lose it for minimum a week at a time, regardless of what the issue is. i brought my car in back in june to have it looked at since the clips on the bottom of the seat no longer stay attached. we went back and forth on how the warrantee would cover the fix, whether repaired or replaced until finally they stopped calling to update the status. i called at the beginning of september and made my own appointment for october 1st and then spoke to my adviser to make sure it would be taken care of.  he told me it should be really fast and i would have it back 2 days later. october 28th and i still do not have my car back. i had been calling every day for status updates, sometimes receiving them and sometimes no one would call back with the update. i've even tried leaving messages for the service manager, who also does not call me back. on week 3, i was told that the place they brought my car didnt fix it so they brought it somewhere else. week 4 i was told the 2nd place told them it could not be repaired it needed to be replaced. 28 days and my car is still not done. being that i've been trying to get my car there to be repaired since june and now it is october 28th, this is beyond ridiculous. \",\n",
       " 'my car sat there for a week while they were supposedly waiting for parts. \\r\\ni finally had enought speaking with glenn and keith and picked up my car with nothing done. i had to pay for a rental because they wouldnt give me a loaner even though i made an appointment a month in advance.',\n",
       " 'so my car is in the sevice department for a steering issue for 3 weeks. as of today the service manager anthony fallacaro tells me that they took an educated guess and changed the rack inpinion for the second time. same garbage service since 1989. very unprofessional staff throughout. would never recommend the dealer or ford ever again',\n",
       " 'i’m not sure how to rate the service as of yet! i know i had an appointment for 7:30 am. i brought the car down mind you at 710am. checked car in for passenger seat lumbar. the running board motor that was suppose to be ordered under warrant... drivers side window will not go down it was repaired supposedly and 1 month later broke again after it was fixed under warranty! let’s see if it’s covered even though the warranty ran out! anyway, reason why i wrote this i go back for  my keys i needed that i had left on my ring car was parked in same spot still not looked at! and it’s 2:00pm. i informed the person that i’m leaving for nc this thursday to visit my son who is a marine and i would need it back! i will update my review once i see the out come so far not liking what i’m seeing! last time i took it in i was promised it would be completed i ended up putting parts back on myself! i’m hoping to give it a  5 star review... the ',\n",
       " \"i took my 2014 mustang gt with a supercharger to be serviced.  check engine light was coming on.  the mechanics didn't have a clue, told me nothing is wrong.  took the car to another dealer and they told me my exhaust pipe was loose.  are you kidding me?\",\n",
       " ' i was swindled into.a car lease that i can’t afford.\\r\\n\\r\\nmy ten year old car was experiencing transmission problems and before i was stranded with no car i decided to trade it in for a 2015 subaru forester for $17000. after the car was delivered to me and my old car was driven away i noticed that the rear hatchback for the trunk was a manual open. this posed a serious problem for me and a deal breaker since i’m disabled and lifting it is very difficult for me.\\r\\n\\r\\nafter some serious thought after six weeks with the forester i decided to trade it in for something more practical for my needs and also receive some of my money back in a trade. i was also uncomfortable spending so much money on a vehicle. so i started researching cars under $10000. \\r\\ni came across a 2007 nissan altima at dana ford here on staten island which was on wednesday may 30 2018.\\r\\n\\r\\ni went to the dealership on wednesday may 30 to test drive the altima which i wasn’t so thrilled with. before i knew it i was in the showroom and they’re showing me a brand new ford fusion, and i kept telling them i can’t afford $27000 if i’m not comfortable with spending $17000 on the subaru.\\r\\nafter much cajoling by the salespeople before i knew it i left with a brand new car that i couldn’t afford. they kept insisting everything would be ok.\\r\\noh, it will be fine!” she said. “we’ll work with you”said another salesperson. “it will be great!” naile said.\\r\\nwell it’s not great for anyone other than the person who received the commission. \\r\\nthis is going to put me in financial ruin!!!!!!\\r\\n\\r\\nthe next day i called them to speak with the manager because i can’t afford this vehicle. he wasn’t in and i was told by the salesperson, naile telic that he would call me friday when he was in. well of course no one called and i called in the afternoon to find out what was going on. this conversation with another manager named juan led to a shouting match. i called again later in the day and reached juan again who also insisted everything will be find after telling him again and again that i can’t afford it.\\r\\n\\r\\nnow its saturday june 2 so i decided to go straight to the dealership to straighten this out. i met with yet another unnamed manager who threatened to call the police on me after telling him that i can not afford this car. another manager came and took me to the dealerships supervisor in which after about a half hour he told me there’s nothing that can be done and i’m stuck with the car. he gave me another 15.000 miles a year and i still don’t have that in writing!! \\r\\nhe also suggested that i can afford $200 a month to pay off the lease. the fact is, i receive $1200 a month in disability benefits. living on that is difficult enough. how thoughtless and cruel it is to even think of that for anyone!!!\\r\\n\\r\\nthey used my forester as a three year “downpayment” and after three years will be financing the remainder of approximately $13000.\\r\\n\\r\\nthe issue is in three years i will be 63 and not finically able to pay off a loan and in no position to do so now either. as i stated previously i am disabled and receive a fixed income of $1200 a month and will not be able to afford to make payments of any kind. so after three years i will not only not have a vehicle but out of all the money i needed returned to me from the forester to buy something much more affordable.\\r\\n\\r\\noh, it will be fine!” she said. “we’ll work with you”said another salesperson. “it will be great!” naile said.\\r\\nwell it’s not great for anyone other than the person who received the commission. \\r\\nthis is going to put me in financial ruin!!\\r\\nnot once were my needs considered.. that the fact that i’m disabled and receiving disability of $1200 a month! that at the age of 63 i’ll have car payments? i honestly don’t know what i’m going to do!\\r\\n\\r\\nthey refused to take the car back even though i called the next day to do so!! who does this to a disabled senior citizen!!\\r\\n\\r\\nnaile telic you repeatedly asked me for a review, here it is! and thank you for acknowledging any of the emails i sent you in which you completely ignored.\\r\\n\\r\\ndana ford and it’s employees have left me no choice but to submit a complaint with the better business bureau and as of monday june 25 2018 i will be contacting the staten island advance. if i get no satisfaction from that i will contact the new york times and every local television news to resolve this.\\r\\n\\r\\ni can not afford this. i want to return the car asap. i need my money back!!!!!',\n",
       " 'i started a lease approximately in december of 2017. not even over 2,000 miles on the car, since day 1, the car has been in service more than i’ve driven it. starting with paint blemishes, and electrical issues, not to mention the occasional downpour that i get inside my car, like i’m on a water ride. back and forth and back and forth, the dealer refuses to fix the issues. instead i’m told that the issues can not be duplicated and therefore cannot be fixed. the owner is nowhere to be found to back up his faulty product. the service manager is unprofessional and rude. i demand that my vehicle be bought back and for me to be treated like a human being as any other paul g customer. i pick the top of the line lincoln so i could enjoy myself and this has been the worst experience and extremely depressing. the only positive thing that i will say is that my service writer deb, who’s no longer there, and chuck, still works there, are amazing people and extremely helpful. let me add - i finally got my car out of service today. after the dealer tells me that they can’t find anything wrong with the vehicle, i go to put my 2 year old in the car with a moldy smell!  buyers beware! ',\n",
       " 'had appt on monday car wasnt looked at for 2 weeks. bought vehicle brand new with 4k demo miles did not realize those miles will be used against me and charge me instead of covering explorer under warranty. courtesy vehicle was given to me then im told im being charged 30 dollars a day for courtesy vehicle. this stealership is terrible never again will we buy another ford 10 more months and we will be returning ford explorer. service manager agrees with us about the demo miles and still does nothing about it. complained to ford corporate and they refused to help as well... beware of dana ford never buy here . the excuse they say is they number 1 in the northeast lmfao , they suck period.',\n",
       " \"2 plus days and my car has not been looked at by mechanic. was told sometimes it takes 2 weeks!!! spoke to so called service director and he said we are very busy and number one in the nation and if i don't want to wait take car\\r\\nback. i owed 10 plus ford vehicles never bought any from them and when i told him that he said that ok we don't need your sale.  nice   i live 3 miles from them and i don't know anyone who has had a pleasurable experience. \",\n",
       " 'my first review was unethically removed, but as my car goes back today (to a different dealership thank god), it\\'s only fitting to walk you through my entire 2 and half year lease from dana ford. i\\'m going to list all my experience in bullet points, as it would come out to a short novel otherwise...\\r\\n\\r\\nday 1 after buying the car, i call to see when registration is being sent: i was told both salesmen quit.\\r\\n\\r\\nsoon after, a tire needed replacing. upon buying the car, i was told my tires and wheels were fully covered for any ford dealership. guess what? they snuck in a 3rd party warranty, forcing me to come back to their dealership for any repairs. \\r\\n\\r\\nlater that year, i needed a wheel replaced. i was told it would take 1 day. 3 days later, they still didn\\'t have it fixed, and i was being lied to by 2 different employers at the dealership. each telling me my wheel was undergoing something different. note: i was a college student, and this was my only car. \\r\\n\\r\\nthroughout the next year, employees i was trying so desperately to work with continued to be fired, leaving me with no connection to anyone in the dealership, time after time and again. \\r\\n\\r\\ni noticed a strange popping sound coming from the steering column of my car, so i took it in to dana (unfortunately). this is where they took the car, and kept it for over a week. they removed the steering column, but could not figure out what was going on... so they put everything back in, and handed me an even more broken car.\\r\\nplease undersatnd where i\\'m coming from. the first day they took the car in, they told me it will be fixed that day. i waited in the dealership for eight hours. i missed a full day of work, and class, and had to have someone pick me up, even though they really couldn\\'t. this is where i met other disgruntled customers, and heard their stories. \\r\\n\\r\\nmy first review on this website ended here, before it was removed unethically.\\r\\n\\r\\ni was approached by the dealership, and they asked me to come in and see if there was anything they could do to help (they wanted me to take down my review). they put me in my car with the \"mastertechnician\" (lol)... we drove around staten island, while he showed me pictures of his motorcycle, and girls he likes (while he was driving).\\r\\n\\r\\ni was asked that same day, oh so kindly, to remove my review. i declined and it was removed anyway. \\r\\n\\r\\nall of this is only the main points that make dana ford a must avoid. i don\\'t care how many positive reviews they\\'re getting. stay away.\\r\\n\\r\\ndid you know dana ford uses their \"new giant dealership\" as a selling point, when someone was actually killed during construction?\\r\\n\\r\\ngoing into this dealership in my early twenties literally changed the person i am today. i simply did not think xxxx of this nature existed in the front lines of local business. i hoped that it was reserved for top tier politicians, and sociopaths, but i was very wrong. \\r\\n\\r\\n \\r\\n\\r\\n\\r\\n\\r\\n\\r\\n',\n",
       " 'multiple unfixed problems.faulty parts sold and unproffesional service.got overcharged for parts installed that didnt work and they broke other aspects while pretending to repair.',\n",
       " \"took my car for repair on may 17.  after about 6 weeks, car still the same and not fixed. charged me for idler pulley and alignment, but original problem still not resolved. after contacting ford corporate offices, dealer seemed pissed off and didn't return calls .  so picked up my car june 24 and took it to another ford dealer. tom's ford diagnosed problem in transmission and quickly repaired car.  avoid dana and take your car to a real dealer\",\n",
       " 'such a disappointment!\\r\\nall workers at this dealership have miserable attitudes and are either poorly trained or simply hate their jobs....maybe both! management seems unaccountable as well!',\n",
       " 'worst service department! shut my business down for three days for a minor fix! had to go pick up my truck without getting fixed! and i had an appointment . and its a brsnd new van bought three months ago from them',\n",
       " 'finally a fully loaded car\\r\\ngot the car i wanted \\r\\nyou want better customer service and a loaner \\r\\nyou want more help go to bayridge ford\\r\\nthey sell you lemons and over charge on sales \\r\\navoid this place \\r\\ntbey like to threaten ppl as well ',\n",
       " 'got a recall from ford for my airbags. called dana ford with recall info, gave vin number, made appointment for 1 month later during my work vacation. bring in car 7:30 am, they tell me \"we can only verify the vehicle vin number right now. we have to order the parts next. that\\'s how ford makes us do it.\" \\r\\n    what !?!? i made an appointment 1 month in advance, just so they could look at my car and verify its vin number. now i have to wait for the parts to arrive, then make another appointment to have it fixed? unbelievable that any company can work this way. ',\n",
       " \"the sales consultant frankie ortiz was very good .then came the financial advisor who was horrible.spoke down to you overcharged  i would never go there again a terrible experience .i can't even give a star rating.\",\n",
       " \"i had a problem where my park assist feature malfunctioned and my wheel well caught the tubular bumper of a commercial van and dos slightly damage my 1 month old car. dana was of no assistance diagnosing or fixing the problem. they wouldn't even talk to ford corporate for me. now the won't return my phone calls. but the free coffee is great. \",\n",
       " 'beware worst experience i\\'ve ever had buying a car. \\r\\n\\r\\ni was lied to about the date the car i wanted was supposed to be arriving on, bear in mind i had put a deposit down on this car so i was serious about purchasing it. for over a month i was given the run around about when it was supposed to arrive, but i finally decided to just take one of their stock vehicles sitting on the lot because they already had my money from the deposit for the car i actually wanted and there was no clear date when it was actually going to arrive at the dealership it was \"in transit\" for over a month according to them.\\r\\n\\r\\ni must have been over to that awful place 5 times in total, each time i went it cost me $17 in tolls, plus gas, and the time out of my day. they never reimbursed me for my tolls and the staff are shady as anything - they\\'re more interested in being on their phones than helping you and they\\'re clueless about anything you ask them. i was told originally my payments would be so much a month, but then when i actually came in to sign the papers the price had magically gone up $90 a month for the same car. \\r\\n\\r\\nhonestly save your money and go to any other dealership, this place caused me so much stress and i feel like i was robbed. i would never recommended this place to anyone.',\n",
       " \"leased a 2015 ford edge with tom annuziata. lied about rebates, never received money we were promised. customer service rep & manager don't return phone calls. would not recommend this dealership to anyone. unethical and deceitful sales practices happening here. \",\n",
       " \"i really don't know where to start... first i went to dana to get a pre-owned ford e-250. i got a 2014 with only 14,000 miles on it. it broke down in the middle of manhattan the very next day, we had to get towing to take it back to dealership, however towing company was trying to make me pay for towing even though i had extended warranty!!! the car was towed by certified towing company not to the dealership as it was supposed to be but to a parking lot overnight!!!!!(4pm it was picked up). not only the back of the car was scratched by them but nobody wanted to pay for  fixing it!!!! it only got worse from there. we owned the car for 3 months it was in the service for 29 days!!!!!!!! finally when we took it to the service the last time we got rental and dana was supposed to pay for it but they never called that our ford is ready and they cursed me when i asked if the roof they were supposed to paint was done!!!!???? jeff( service guy) claimed they need separate authorization and i need to return the rental and wait a week to get authorization for roof paint!!!!!!( roof paint was a screwed up job by dana before we got the car,after first car wash paint came off). i told them my car is staying in the service until everything is done and they will be paying for my rental until i get my car back. it appeared i was left with $750 bill by rental place!!!!!!!!!!!why  did i have extended warranty for? when finally i visited dana with my lawyer they decided to trade in my car for a brand new ford transit! great except  my $10,000is gone right there. the car traded in was actually returned with no money back and i had to pay extra $10,000 as they told me it will go for paying off the bank percentage! bs!!!!!! it was supposed to be $3500 not $10,000!!!!!!!!! also all i got returned was money from extended warranty!!!!! seriously please be careful with those people! john daley and jeff especially! i am changing my dealership and service! they don't do anything right and they are being rude and curse ladies(my wife) on the phone when she tried to calm down the situation. be advised!\",\n",
       " 'reason for visit was fool odor coming into my car through hvac vents on top of that my wife that is 8 months pregnant was getting nausea from odor and could not stand driving the only reliable vehicle we have!!! from initial greeting it was horrible, i was told my car couldn\\'t be seen for at least a month. then when i spoke to a manger at service area he told me there was nothing he could do for me and that \"there is no way dana is going to go in there pockets to fit bill for a rental\" . so i left drove straight to bay ridge ford which i highly recommend and vehicle was taken inspected and to find out that ptu was completely destroyed they found chucks of metal in the unit. i was given a rental from bay ridge and said it would be ready tomorrow that they had the part in stock!!!! thank you dana ford for being no help what so ever!!!!!!                    sincerely, \\r\\n                                                     disappointed ford consumer!!!!',\n",
       " \"having issues with my front tires for months. i have 2 bent rims and for 8 months the problem hasn't been solved despite the fact that i purchased their highly touted tire and rim care warranty. every time i go in i get the run around from so many different employees. i just want my issues resolved. i purchased a performance vehicle, but am unable to enjoy it due to the flat tires i wake up to every morning.\",\n",
       " \"i saw an 07 lincoln town car online back in january or thereabouts....looked very nice.i called,talked to mike who assured me it was a very clean well kept car.mind you,i live 225 miles away. i decided to buy the car.well,low and behold,there was 3 inches of water on the floor in the back,more in the trunk,leaks all over..not to mention the power driver seat was broken,the side view mirrors did not work,the back passenger side door lock was also broken.on top of all this,they didn't even bother to wash the xxxx thing!i can tell when somebody washes a car as opposed to going over it with a wet rag!the total experience involved several  round trips at 450 miles, gas for 2 vehicles...tolls up the wazoo...etc etc.needless to say,i wouldn't wish this place on my worst enemy!they are a bunch of incompetent liars. i was so disgusted i could not drive the car so i traded it in.\",\n",
       " 'dana ford prides itself on being ny city\\'s number 1 dealer, clearly an ambiguous term. they are the only game in town (staten island), hence their sales, & leases reflect this. they certainly work the \"hard sale\" on you & tony donato tried to browbeat me into buying a new car when my intent and budget was for a vehicle one year old. wait, it gets worse... the service department has my car a month now, and has given me every excuse imaginable why the warrantee covered repairs have not been completed! lie after lie about parts being on backorder when fordparts.com assured me, they were available! in defense of matt lopez, i feel for this young man... he is obviously being directed by  management to stall and delay this repair work. he has probably been threatened with the loss of his job unless he \"plays ball\"... there is no way he would be this ignorant without being under duress. my only explanation for all this is, i did not purchase the vehicle from dana ford. i\\'m sure jim cognetta the owner wishes to take care of his customers first... this is understandable. i can understand being pushed to the bottom of the pile, but a month???? c\\'mon really! ford motors even reimburses dana ford for the work, but apparently this doesn\\'t matter to them. ford customer service is the only one who got the ball rolling on this. case in point... dana told me the part i needed was, \"not in stock at any of ford\\'s warehouses in the entire country\" and gave me a printout showing no inventory. lo & behold, after giving the complaint to ford customer service, the part magically appeared at the dealership that day when just 3 days before, there were none... in the entire united states!!!! really????!!! did they hire david copperfield in the parts department ?!!!  to say their behavior is disgraceful would be an understatement!!!',\n",
       " 'fianance manager sold me wheel an tire insurance said it was easy as pie in out they swap wheels out with any problems bent two wheels after having truck for 2 weeks spent 2 months trying to fix the problem for will not warranty wheels they will only repair manager never said anything about repairing said would swap out easily said insurance would also cover after market wheels low an behold service dept told me that wasnt true asked for a refund for insurance said it cannot be done until end of the lease when it clearly states on contract that refund can be made spoke to general manager doug hansen  said he cant make me happy said i wasnt satified and was going to fill out survey terrible which is what they deserve an that i was gonna call ford directly he said its a waste of time and its gonna go no where and hung up phone real good way to get customer satisfacton when i got truck it was dirty an missing radio anntenna great way to deliver a brand new 55k dollar truck i wouldnt send my worst enemy to this dealership they just wanna sell you everything an not care about you later and i am a person who buys a minium of 5 cars a year i am going to trade this truck in somehwere else as soon as possible just so i wont have to deal with this dealership ever again dont care what it cost these people are crooks an do not kno how to deal with customers how they are still in business is beyond me the other day i brought truck in to be seen by ford adjuster and they gave me a loaner car and they made that out to be like they were doing the world for me it was filthy disgustingly dirty i barely wanted to get in it the finance mangers name was steve and service manager rich also did nothing to help this matter they all made it like they were doing me a favor by selling me a car concluding this was the worst car buying an service expierence of my life and ive owned over 50 cars in the last 13 years and was never treated like this in my life stay away from this dealer bad news better off going to jersey ',\n",
       " 'this dealership told me i was approved let me get the insurance and then made me come back 2 says in a row for 3 hours each when i came to pick up car they told me no good  -- they are the worst -they lie about eveything',\n",
       " \"all i have to say is stay away from these crook's!!!!! they will try to sell you something they don't have nor can get. this is the worst fuckin dealer i've ever dealt with. anthony is a lying crook alongside he's partner in crime joe the sales manager. (karma is  bitch joe and anthony) stay away from this dealer!!!!! all these bad reviews are posted for a reason. again dont even bother to step foot into this dealership!!! most of the sale's team are a bunch of wanna be gangster's that think they're a bunch of tuff guy's! fuckin clowns!!!! the funny things is after this review you'll most likely see a positive review above me because these clowns have their friends and family post up how great their experience was. fuckin clowns!!!   \",\n",
       " \"don't let any of these clowns writing glowing reports on dana sway you in any way!  you can tell the genuine story from the fabricated ones.  these idiots writing these wonderful stories about dana are the same people who enjoy going to the proctologist on a regular basis.  either that, or it's family members or friends trying to keep these thieves at dana employed.\",\n",
       " 'brought my mustang in under warranty for an abs light that was on.  took three visits to finally fix the problem, thanks to my troubleshooting.  how many abs modules are you going to order and install before you figure out that the module may not be the problem!!!\\r\\nalso brought the car in for a clutch replacement under warranty.  ended up not replacing anything becuase i later did the work myself and saw the original clutch.  but they gave me an invoice and 50 miles on the car...fraudulent!!!\\r\\n\\r\\nstay away, very far away!!!',\n",
       " 'i purchased an 01 mustang convertible certified pre-owned from this dealer about 8 months ago.. it has been back to the dealer 5 times for various problems and is going back in a 6th time. they have already replaced the computer and replaced the brakes (which were supposed to be replaced upon the cpo inspection). i wouldnt let these people mow my lawn. stay away from them. their sales people attempt in every which way to rip you off and their service people need a few more years training. it took them 3 trips to the service center and 6 hours of screaming before they found the problem with the computer.  previous times they said \"there is nothing wrong\". horrid.. just horrid..',\n",
       " \"brought car in for a recall on the steering linkage. when fixed, i noticed the temperature gauge was way over in the red zone, the check engine light was on, as was the temperature warning lights. car was pinging and boiling over. was told the porters drive the cars and don't know anything about cars. wanted to charge me $700 for a cooling fan. puhan and fallacaro were of no help. is this how you treat a customers car? give it back to the customer overheating? ps the steering linkage is still acting up....their answer? leave it, maybe  you need other work done to it. be forewarned, these guys are incompetent. go elsewhere.\",\n",
       " 'i would have given them 0 stars if possible.\\r\\non november 25th i experience my worst car buying experience ever.   after only looking at one vehicle and driving it(took a total of 20 minutes), i told the salesman that i would like to proceed buying that one(2011 ford f150) ..keep in mind i did zero haggling...i specifically asked not to have my credit ran as i was going to go through usaa.  i was seated in his \"office\" area in the lincoln side.   i do not know the name of my salesman because he quickly told me he had a sickness and the he had to leave.  he turned me over to someone else who was supposed to help me. before he left i asked him to confirm that they received the loan paperwork from usaa as it was being faxed.  i never heard back from him.   i was asked however to move from the lincoln office to the ford side by  a different person.   i was in one of the sales cubicles for ford for about 10 minutes when yet another salesman asked me to move to the \"bullpen\" area.  i said sure, but...can someone please confirm my usaa paperwork made it through.  they said they would check and escorted me to the bullpen area.   never heard back from that gentleman about usaa.   about 30 minutes later a finance guy comes up to me and says that he can beat my usaa rate...i found this odd since he surely never ran my credit report since i specifically asked them not to...but bottom line i said \"no\", i would feel better just using usaa.  (later i found out that they ran my credit report 10 times completely hurting that part of my score).   \\r\\n10 minutes later the finance person comes back and says that if i go with the usaa method, i won\\'t be able to buy the car today.   i found this really absurd and told him \"fine, i guess your dealership is the only dealership that has this dilemma\" and i prepared my stuff to depart.  a finance manager quickly found me and said that \"yes\" they can do the usaa method.   i then stayed in the bullpen area for another 2 hours straight with no one even checking on me.  no tv in that area...just tables and chairs where i got to hear salesman talk to other customers about their private stuff, a dana salesman complain to another salesman for about 20 minutes on the fact that he wasn\\'t doing anything that day because he heard he was going to get fired anyway....at this point i decided to go get something to eat since it didn\\'t look like they were going to get to me any time soon, so i packed up my things to go eat...in which a salesman came running after me when i made it outside and told me \"they had been looking for me because i was next\"...yeah right.   i could then go on to add they stupidity that followed based off the insurance that i had already switched over....but why bother.\\r\\nso here is the rest of the story.   they never properly submitted my paperwork, sent me the title.  i now have the truck, the title, but nooooo loan.   i found this out when i tried to pay the loan that doesn\\'t exist.  so on the 26th of december i called to have this rectified.   i called the first time, no one called me back.  i called the second time, got ahold of a sales manager who was suprised by the situation, and was going to get back to me quickly.  two hours later, i called back because i hadn\\'t heard anything.  the receptionist told me that the same sales manager said he knows about the problem and will call me back.  it is now the 15th of january...and i have still not recieved a phone call.  are you kidding me!!!!\\r\\n',\n",
       " \" i can't believe i gave my business to this this place when i could have spent less and went somewhere else. ronny p was pleasant to work with and he definitely gave me a great buying experience. once the paper was signed everything just went downhill. i did not hear from this dealership for two full weeks, and i had to call many times and ask what was taking so long to only find out ronny had resigned and no one decided to let me know that my car was ready for delivery. let me say i was tossed around like crazy before a sales manager decided to finally give me an update. when i did receive my car there were scratches on the door and all the windows were manual. it is 2013 why do you have to roll down your windows? it is my fault for not doing the right research and giving this place too much trust.\\r\\n\\r\\nit took more than 45 days and multiple calls before i received my license plates. even after they had promised that they would send me the license plates via fedex, they tried to make me pay for shipping. i am actually still angry thinking about the experience i had even after many months. the only reason i am editing this rating is because i felt bad that ronny had to be part of this rating when it was not actually his fault, it was the lack of communications between all departments that really makes me not want to come back to this dealership. dana provided the bare minimum and they expect me to give them a 5 star rating.\",\n",
       " \"let me start off by saying i never complain about service anywhere and quite opposite, i will call owners, managers, etc of businesses i deal with just to tell them i was happy with whatever i received. but with that said, never in my life of purchasing 6+ cars has there ever, ever been such a horrendous experience. without going into the full experience, i was purchasing their highest end truck when i confirmed several times that it was a 'limited edition' they were bringing in from another dealership, but something didnt add up since the sales girl (no longer there) told me she researched the car and it was not. all my internet searches supported the same. i wanted confirmation via the window sticker that the senior manager initially told me he couldn't provide since it was a truck they were bringing in. once i told him i would not purchase it there if i couldnt see a sticker, miraculously he faxed one over to me in about 10 minutes but forgot to remove the other dealerships name from the bottom!! of course, i called that dealership and they said 'no' it was not the limited. once i politely confronted him, he got indignant and hung up on me. would you want this person helping you or representing  your business?\\r\\n \\r\\ni then went to flemington ford in nj (had the best experience of any dealership i have ever dealt with) as several people on the island recommended them and after exhaustive research they were able to find me one. after a few months, my car needed a simple update to the map/direction system so my flemington sales person said it was really standard so to bring it here. it took 3 days and came back with scratches on the front bumper. couple that with it covered in mud outside and in the drivers seat and my tire pressure light on i was outraged, yet remained calm. bottom line is i brought it back again for body shop work, cleaning and to reset the tire light i told was just a computer adjustment. 3rd time there, scratches were fixed, car filthy and light still on. once again, i was apologized to for the dirt and they would send somebody out to pick it up and bring it back which didnt happen for two weeks. following this i brought my car to a gas station only to find that a visible nail was in my tire, hence the reason for the light. 4 weeks later they have finally fixed the tire and have cleaned it!! seriously, i have heard horror stories from people on the island which is why flemington (on average) sees 1 person a week from here!!!!! \",\n",
       " \"buying a car there is a pleasure, we have two cars and one truck brought from dana ford, staten island.  good luck getting it serviced in a timely manner.  no concern for client's time. pitiful. waited two weeks for a tire.  called and told to bring truck in - no tire.  went home.  called again and went saturday 7:15 am and.....no tire came in.  if it wasn't for all the acting out, i would of never got the tire.  they went to bridgewater nj to get a tire.  waited 5 hours!  will be trading in both cars and ford truck for another dealership.  will never go through nonsense again!\",\n",
       " 'when you’re buying a car they treat you like royalty because they want your money.  the mechanics in the service department are the worst, especially if you own a mustang with a supercharger on it.  avoid this place and go to another dealership.',\n",
       " \"i stopped buying from this dealer 25 years ago because of shady practices, i thought i would give it another try.  after unnecessary difficult negations i purchased an explorer xlt and returned one that i was leasing.  when i picked up my new car there were chips in the paint which they could not fix at the time.  i was not shown the vehicle's functions.  lastly three weeks later ford credit deducted the last payment for the previous lease because dana screwed up the paperwork.  this is supposedly the largest ford dealer in the northeast, i can't see why.\\r\\nonce your name is on the sales board you are invisible. \",\n",
       " 'i purchased a certified pre owned 2013 ford escape from here almost two weeks ago. at first the service seemed great but upon leaving the lot the window on the car i just purchased didn\\'t roll back up. i was told to come in 2 days after to have it fixed. after driving from nj to staten island the part wasn\\'t available yet and i had to drive back home and was told it would be available 3 days after. when i called 3 days after the service department told me i had to make an appointment for the following week?! after being transferred and called back several times i had to work around they\\'re schedule in order to have my car serviced in a timely manor. after 5 hours the job was \"done\" they supposedly detailed the car but they\\'re terms of detailing and mine must very different. now 2 weeks later i find i was sold a car with so many problems. a leak somewhere causing the antifreeze to leak, the windshield wiper fluid tank is cracked, and none of the fluid were topped off before selling the car to me. i think it\\'s ridiculous this dealership would sell a car to someone as certified preowned and not service the parts of the car that needed to be fixed before selling it to a customer. thank god its covered under warranty and i can take it to any ford in nj rather than having to drive it back there.',\n",
       " \"i hate this service department.  i made an appointment to bring in my car on tuesday.  i dropped it off on monday night.  i had to call them on thursday to find out what the status of my car was.  they finally said it would be ready on friday afternoon which it wasn't.  now they said it might be ready on monday.  this place is a joke.  they are worse then island ford service which is hard to believe since that place was a joke.\",\n",
       " \"they first xxxxx me on the price of the piece of xxxx  2016 pre owned ford focus for $26,000!!!!!!!!!!!!!!!!!!!!  the car had 2,700 miles on it...i didnt' know any better at the time and signed,....  i've had multiple problems with the car.   cracked steering column that was seen after i drove the car off the lot and still has not been fixed, 2 years later they are still waiting for the part...the water pump went in the first year.... the most recent was the car was hitting over 1500 rpm's while in park ...  i brought the car in on nov 15th, they told me they were too busy and the car was ok to drive and that i should call and make appointment, which wouldn't be available for about 6 weeks.... the following week 11/21 the check engine light went on so i bring the car back and told them i will not take this car until it is fixed...i was then informed the car was being recalled for a faulty fuel system...  the recall was dated 2 weeks earlier from when i originally brought the car in.. no one told me>>>>>  so they keep the car and tell me it will be ready in a few weeks...they  it for 8 weeks, the car still runs like xxxx, and im stuck with it a lemon that i owe 17,000 on still!!!!!!!!!  ive been dealing with this dealership for a while and can tell you the people who run are thieves...they try to rob you blind from the minute you walk in the door... they treat their employees terrible which is why every time you go there its never the same people...except management..they are all the same..  buyer beware...  you've been warned,,,\\r\\n\",\n",
       " 'i have waited almost 7 weeks to write this review because of issues that i had and still have it with my 2012 f150 3.5 platinum. my hell started during the purchase process, dana ford in staten island did a great job to make my life miserable during this whole process. i purchased my truck on friday and i made my decision based on reviews found on the internet about the f150, i tried a couple dealers before the purchase and finally made a decision to get it at this dealer because i found the one i wanted there. during the purchase process we reached an agreement and the truck was delivered to me with out the proper delivery process, the salesman and managers kept telling me several times about filling out this survey ok or excellent for them. i received very little information about the truck; they didn’t explain all the truck features or worse the specifics about it. when i got home the first thing i found out was the truck was larger than the one i traded in (toyota tundra limited) and i couldn’t close my garage and got very upset because i found out that night that this one was longer than my previous truck, i felt it during the ride from the dealer in new york to my house in new jersey. very unhappy about it i made my own internet research and found out the truck comes in different sizes like 145” and 157” long and comparing to my old one i needed the 145”. when you spend a lot of money on a car, you want to get what you paid for and you want to get what you want and the truck that makes you happy, this wasn’t the case for me with this truck because it felt longer and it wasn’t the one i wanted. i made the wrong decision to go back to the dealer and get the truck i wanted, the 145” that’s the truck size i been driving the last 5 years for almost every day. back at the dealer with 54 miles on the truck odometer, the salesman and the sales manager, first thing they did is to look for a way to take advantage of the situation and tried to get more money from me. after i checked others f150s with different specifics and one with a lower price of about $ 1,200.00, they proposed to me to sell me the new one and trade the one i got the day before with 54 miles on the odometer and pay them on top 2,800.00 to get the 145” size truck. i got very upset because in the way they wanted to do business with the newer truck they were clearly taking advantage and telling me in my face that i was stupid, that’s how i felt and that’s how i still feel.\\r\\nafter all discussions making the deal, which in the first place i thought they would just exchange the truck for me and any money difference will be paid either by me or by them depending on lower or higher price of the new one. they sold me the $ 1,200.00 lower price truck at the same price for my first purchase, so i knew i was loosing that money, having me in a place that i didn’t know what to do with a truck i didn’t want, i accepted to buy the 2nd. truck, very, very unhappy i signed the papers and drove home with the other one. they did the same thing with the second truck, gave me a pre-filled delivery truck sheet with all the options crossed out saying the truck is ok, repeatedly saying to me “to make sure when i get the survey i should fill it with all excellent for them because depending on that survey will be the salesman’s payment “. when receiving the truck i found the leather of the console top in the truck was scratched and asked the salesman to be addressed at what he immediately responded they will order a new cover and replace it, the salesman brought his customer relations manager to take a look at it, then he affirmed that they will put a new piece on and they will call me to schedule it.\\r\\nwaiting for almost a week i made a decision to call the dealer and ask for the console cover and also talk to them about what i found on the truck tailgate. the platinum f150 tailgate cover was coming off on one corner, i spoke to the salesman and the first thing he answered to me after listening to my complain about the tailgate is saying “ that is your responsibility because the truck has been with you for almost 1 week”, unfortunately not the best professional answer for a customer. anyway i made an appointment to bring the truck to the dealer to check it, but before my appointment the truck steering wheel column started to make a grinding noise, a clear sign that something is wrong with it. i came to the dealer and spoke to the salesman about it, they were not happy that i was complaining and bringing something new to the table. a technician checked the truck and agreed that something is wrong with the steering wheel column but proceeded to tell me that i should wait a little longer and see if the noise goes away and that they will check it again on the day my truck will be on service for the console top and tailgate cover. made an appointment for the following week to change the top of the console, fix the tailgate cover and check the steering wheel column again. basically they gave a very hard time to fix my truck, they never called back when they said they would, they wanted to do touch up work on everything since day one, wanted to buff up my console cover, they patched tape the tailgate cover and they didn’t want to fix the steering wheel column they told me that i should have some tolerance on this issues because every truck and car always will have some imperfections. after many calls to ford customer relations team i had the luck to talk to some people who helped me one way or the other, cynthia mcgregor helped a lot and i thanked her, but sometimes even for her this problem got very difficult. after all this complaining, they finally changed the console cover, they replaced the steering wheel column but during this work in the shop they scratched the 2 covers of the steering wheel base, scratched my truck left mirror and front bumper. lastly this last week i had to insist and try to get my registration and plates ready because i been asking all these passed 5 weeks but they didn’t have my name on file either, that’s what the ladies at that department said to me when they were asked for my papers and plates from me. it took almost 6 weeks and my calls to cynthia (manager from customer relations team), for them to get it ready but i have argued many times before with kendra and the other authorities at the dealer to get my truck registration and plates ready. she even hung up on me on the phone once because they couldn’t keep their promises to have the registration and plates ready at the day they said it would be ready.\\r\\nlast week i brought my truck to have the steering wheel cups replaced because they scratched it when replacing the steering wheel column, they also replaced the tailgate cover and sucked at it, they installed the new one incorrectly because now i have the same issue on the opposite side of the tailgate cover (left side). lastly one of the sales manager had the audacity to come to me and confront me asking “why i have given them a bad survey, because the only thing he had done for me was help ” that shocked me because i wouldn’t expect that from a manager (i found out his name is juan and he speaks spanish, i don’t know his last name) because he would be the right person to know what their errors and mistakes were with me when purchasing the truck and with the dealer customer service.\\r\\nmy truck tailgate still looks awful with factory quality control issues, but one thing i’m sure is that never, never in my life will i go back to this dealer and buy a car from them. because for me to go through this hell, it has been a huge nightmare and i don’t want anybody to pass it, i have been aggravated more than too many times during all this process, they disrespected me not doing/fixing things on time and in a professional manner what they had to do in the first place. they didn’t try to do what they promised to do, of course they did something but they did it because cynthia and myself had to be there to push them to do it.\\r\\njust to let you know how un-professional they are i’m going to let you know that this weekend when having my truck washed at the carwash when the truck was getting dried, the tailgate rear ford emblem fell off, at this point i didn’t know if i should scream, cry or just pray to god for better days for me with this truck. for your information rich at the dealer shop showed me that they will need to take a part the tailgate to replace that cover and that’s what they did, i saw it with my own eyes because i was brought to see part of the process, i saw they took the emblem off and other parts too to install the new tailgate cover but when they did this, they broke the emblem tabs and to put it back they just pushed the emblem in but the emblem never was going to hold on to its base because the tabs were broken, it held it a little but not enough to support the wind coming from the carwash blower. now the emblem is all scratched off because it fell on the carwash track chain.\\r\\ni will place reviews of this dealer on all the places i can like google and other search engines, because i do not wish for other customers to get what i got in this dealer. the last thing i would like to say is that i hope ford comes to me and calls me to get all these issues resolved but it will have to be at a different ford dealer, i’m not coming back to this dealer again in my life.\\r\\n\\r\\n\\r\\ngood bye\\r\\ndana ford lincoln\\r\\n',\n",
       " \"i called about bringing my 12 mustang gt in for a recall service. they said bring it in on the 18th of april (i called on the 10th) so they could make sure they had the part ready to go. not only  didn't they have the part, but there were some other warning lights on that they were supposed to look into, which they could have looked at while they waited for the recall part and didn't. long story short, they had the car 4 days for 1 1/2 days worth of repairs.then they try to make lame excuses. unfortunately i know cars and computers and i called them on their lies.\",\n",
       " 'after bringing my car in to dana ford service on thursday february 11th i received the car back on wednesday february 17th. all that needed to be done was tire pressure sensor reset, horn to be fixed, and noise when turning the steering wheel. i called several times for updates and was promised a call back on more than 5 occasions, finally on the 6th attempt i received a phone call back, this was over the course of 4 days.\\r\\n\\r\\nafter finally getting my car back and getting home, i noticed that the bumper wasnt fully on. they forgot to put retaining screws into the wheel well liner and under the bumper causing the liner to drag and scrape my tire. after calling about this i was told to come in within 30 minutes and it will be taken care of right away. i came in and was told it will be an hour or two to put in the 6 screws missing. i said thats ridiculous and asked them for the screws and that i would do it myself. they happily provided me with the screws and i laid on the floor in the service center screwing in these screws by hand.\\r\\n\\r\\noh and they promised that the techs checked the fluid level but the anti freeze was never refilled so i had them do that when i came back as well. \\r\\n\\r\\nin summary this experience was on the level of some shady mechanic and not something one would expect from a dealership.',\n",
       " \"the day i purchased the vehicle was a great experience. it was what happened after i got the car that made this an awful experience.  i purchased the car in mid-november and it is now late december and i still have not received my permanent license plate and registration.  about once every week since purchasing my car, i was contacted by a customer rep to make sure i completed the dealership surveys with great reviews (which i did) and each time i asked about the status of my plate.  i was consistently told that it wasn't in yet, but could take up to 45 days.  when i was contacted last week, i asked about the plate and registration and i was told to call back at the end of the week, which i did.  it was on this phone call (2 days before christmas) that i was finally told my paperwork was still in the dealership and that they needed 2 copies of papers from me.  not once was i informed of this during previous calls.  the paperwork had been sitting in the dealership for 5 weeks and had not yet been sent to the dmv.  my temporary license plate was issued on nov 16th, so it is due to expire in a couple of days.  after speaking with the pennsylvania parking authority, i was told that if stopped or ticketed, my car would be taken if the plate was expired.  i also could not renew the temporary parking permit i have been getting to park in the city while i wait for the permanent plate to get a yearly pass.  i am now stuck with no parking permit and risk being ticketed or losing my car while i wait for the dealership to finally put the paperwork through.  i was told there is nothing they can do until they get the plates in and that there was just a lot of paperwork that needed to be done for an out of state registration.  i can understand that it takes a little, but that time is on top of the 5 weeks they did nothing about my paperwork.  i also wonder where the representative was looking when i asked about the status of my plate every time she called.\",\n",
       " \"i am sorry that i ever wrote a positive review of this place.  while my salesman was excellent, the staff at this dealership are severely lacking in clerical and customer support skills.  i phoned two weeks after my purchase to ensure that my registration documentation was properly filed (i do not live in ny), and they told me that there were missing items.  that's right, i had to call them to find out that some documentation was missing.  what was missing?  a copy of the back of my driver's license, which they could have easily obtained at any point.  that, and they mentioned that the effective date of my insurance was wrong.  to recap, they made the phone call to organize the insurance change.  this is all after an e-mail the day after my purchase to double check that they didn't need anything additional from me.  i needed the registration process to be expedited, as my neighborhood is resident permit parking only.  now my registration is delayed another two weeks, during which time i cannot park in my neighborhood.  to make everything more frustrating, everyone i spoke to on the phone was pretty rude, and didn't really care about taking care of me.  i mean, what do they have in it?  they already sold me a car.\\r\\n\\r\\nas a side note, rich was a great salesman.\",\n",
       " 'i leased a brand new ford taurus - covered already by a 36 month factory warranty - i was sold (full price) on a 100,000 mile protection plan at the cost of $2,495 - with the contention that if i turned the lease in, i would get a full refund.\\r\\ni never received a copy of the warranty, and turns out, it was only a 60,000 mile extended warranty, running concurrent with the factory warranty - and at lease end - 24 months and 36,000 miles later, i only received $1,000 refund.  \\r\\nwhy would i buy a warranty when i was already covered?  because i was told it was a \"no lose\" situation - i\\'d get it all back if i turned the car in.\\r\\nno response from dealership after complaining about the issue - followed up again - no response again.\\r\\ni have since leased two more ford vehicles, an explorer and a new taurus sho - not from this dealership.\\r\\nmy impression is that this dealership cares about money only, not their customers.\\r\\n',\n",
       " 'bad customer service.  no help, told sales manager i would never buy a car there again and the reason. his answer? ok  if its ok with him,its ok with me.',\n",
       " \"    recently, i purchased a car from dana ford.  a salesperson asked me to do him a favor.  he said in his e-mail, &amp;amp;quot;there's a website &amp;amp;quot;dealer rated.come/rateus that folks use to learn about car dealers.  we rely on views like yours to keep us going.&amp;amp;quot;  as for myself, i prefer to take the wait-and-see approach before rating a car dealer.  i am so glad i did.\\r\\n     initially, i had a great experience at dana ford.  the staff was very friendly.  frank curry and richard harley helped me with the purchase of my vehicle.  they were very professional, courteous, and a pleasure to deal with.  in short, they did a+ work.  it is too bad the rest of my experience with dana ford wasn't a+ as well.\\r\\n     a short time after the puchase, i realized dana ford overcharged the amount of documentary fees(plates and registration) and was due a $152.00 dollar refund. not a lot of money but still my money.   so i call them up and was told my  money  they overcharged me would be returned to me.  days and weeks go bye and still no money.  i call up again and i am told my money is on its way.  finally, i receive my check six weeks later after the purchase.  however, on the back of the check there is a disclaimer on back that states in capital letters:  &amp;amp;quot;in full settlement of all claims against dana motors ltd.&amp;amp;quot;  my first reaction was, what's this?  why would i want to put my john hancock on something that states, &amp;amp;quot;in full settlement of all claims....&amp;amp;quot;  so i call dana ford up and have been told it is their policy to issue their checks this way.  in fact, i was told the checks are preprinted that way but that is clearly not the case since the disclaimer language was stamped---not preprinted. i point this out to tony, a manager, and he said there is nothing he could do.  i politely remind him it's my money-my money and i would  like it back with no strings attached. \\r\\n      in a nutshell, i told them i would sign the check if they were to reword the language as such:  &amp;amp;quot;in full settlement as it pertains to the overcollection of documentary fees&amp;amp;quot;  otherwise, why would i want to sign something that states, &amp;amp;quot;in full settlement of all claims....&amp;amp;quot;  now hypothetically speaking:  what if i were to find out i was overcharged elsewhere by dana ford?  woundn't i potentially be giving up that claim as well? hypothetically speaking again: what if there was something wrong with the car or something that should have been disclosed about the car and wasn't( for example,the car had flood damage and they knew about it and did not discose it)?  would i be giving up that claim as well?   dana ford could not answer or explain what the disclaimer language actually meant.  i found that very curious.  basically they said was just to sign the check.  in my opinion, if you ever have to file a claim it may cost a lot more in legal fees for a lawyer to determine what was meant bye signing a check which in very general language  states, &amp;amp;quot;in full settlement of all claims against dana motors.&amp;amp;quot;   what happens if there is some type of problem with the purchase? if the lawyer sees the money returned was for being overcharged specifically, he or she does not have to worry about the general, &amp;amp;quot;in full settlement of all claims...&amp;amp;quot; nonsence. as a result, and based on principle, i refuse to sign something like that--- and bye the way the money i was overcharged is my money-my money------ dana ford---even if the amount owed is not a large sum.  \\r\\n     consequently, i contacted the new york department of consumer affairs and there response was try to work it out--sounds very reasonable to me.  thus,  i called dana ford back, but to no avail.  they did not call, e-mail, or fax me any information.  dave dioro, a manager, said he could not help me.  so i had to contact the new york department of consumers affairs again. in short, horrible horrible customer service  --in reality horrible horrible management service.   to put the situation nicely: shame on you dana ford-shame on you!!!!!  to be quite sure, i would like the return of my money without any general discaimer language that states...in full settlement of all claims...&amp;amp;quot;\\r\\n     if i have to go to court i will, although i think the situation is very unfortunate. i was told by management their lawyer said this disclaimer language was appropriate for overerpayment but i disagree.  i asked them to fax or mail me information as to what in full settlement of all claims ...actually means by their lawyer but they said they would not do it. the obvouis question is why not? i firmly believe this was a reasonable request.  in a nutshell, to make you jump through hoops to have them return your own money is plain---wrong.  so if you are going to purchase a car from dana ford or any other car dealer, i would wait-and-see before you rate them.  initially, they are very happy to take your money.  also, know what you are signing.  time will tell if you are truly happy with a dealer. for example, what happens if you are overcharged, or car has some mechanical issues and you need servicing? their reponse and actions are critical to overall dealer performance.  i sincerely hope this letter will help future car purchasers. remember, a dealer's rating may be enhanced if they are aggresive enough to  encourage you to write a review shortly after your purchase when you are generally happy and the dealer is happy to have your money.  you will notice the dealer-rater brochures at dana ford and they may ask you to rate them.   in my opinion, you should take a wait-and-see approach. thus, the dealer rating may be potentially more accurate.  had i rated dana ford initially after purchasing the car their score would have been much higher. \\r\\n \\r\\n                         sincerely yours,\\r\\n                           jrjr11\",\n",
       " \"i bought a high end used car from dana ford basically over the phone and from cars.com . the pre sale service was great , the pricing was reasonable and they gave me a reasonable trade in value.  but after the sale when problems came up nobody would return any calls and almost damaged my credit rating because they didn't pay off my trade for over a month after trading it in. would never deal with them again. \",\n",
       " \"i brought a svt raptor from dana ford. i picked it up on 11/25/13 and it wasn't detailed properly  now it’s 12/26/13 my temporary tags have expired and i have no tags for my truck. when we call dana all we get is the blame game and the runaround. for a big dealership we expected better treatment and accountability.\",\n",
       " \"very bad service and very bad experience in my life perchance used vehicle mitsubishi  outlander 2011 and didn't chack its service details because of trust of dealer by name once we finished pay and take to new jersey inspection dmv have failed the the vehicle because they  turn off all engines light ..vehicle needs change catalytic converter i am run behind to repair then after in three week they fix it  they deliver my vehicle to my home in rough condition and cross njtpke its only $2.90 cent i pay $53 of my penalty i pay my pocket. \\r\\nthese type of services they provide to me .\\r\\nthanks any how i tell my all family members and team of friends never perchance any vehicle for dana motors (lincoln ford).\",\n",
       " 'made an appointment, dropped off my with no hassle. recieved an update from jeff and a time to pick up my car.  repairs were made and my car was given a courtesy carwash.',\n",
       " 'i contacted the dealer through the internet. the were quick to call me to set up an appointment and a test drive. even though i set up an appointment for their \"vip service\", when i arrived the person i was supposed to meet was out ot lunch and the car i scheduled to test drive was not on their lot. luckily i was assigned a wonderful salesperson, shauna, who worked with me finding a similiarly equipped vehicle and explained all the features and technology in the car. i purchased a 2011 edge from shauna.']"
      ]
     },
     "execution_count": 83,
     "metadata": {
      "tags": []
     },
     "output_type": "execute_result"
    }
   ],
   "source": [
    "d"
   ]
  },
  {
   "cell_type": "code",
   "execution_count": 0,
   "metadata": {
    "colab": {},
    "colab_type": "code",
    "id": "zAwcVYLXwELt"
   },
   "outputs": [],
   "source": []
  }
 ],
 "metadata": {
  "colab": {
   "collapsed_sections": [],
   "name": "DBSCAN.ipynb",
   "provenance": []
  },
  "kernelspec": {
   "display_name": "Python 3",
   "language": "python",
   "name": "python3"
  },
  "language_info": {
   "codemirror_mode": {
    "name": "ipython",
    "version": 3
   },
   "file_extension": ".py",
   "mimetype": "text/x-python",
   "name": "python",
   "nbconvert_exporter": "python",
   "pygments_lexer": "ipython3",
   "version": "3.7.6"
  }
 },
 "nbformat": 4,
 "nbformat_minor": 1
}
